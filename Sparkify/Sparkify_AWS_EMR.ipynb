{
 "cells": [
  {
   "cell_type": "markdown",
   "metadata": {},
   "source": [
    "## 1. Project\n",
    "Sparkify is a virtual company that mimics other music streaming services similar to Spotify or Google Music. The dataset Sparkify has provided, contains a user behavior log from October to November 2018. The main idea of this Sparkify project is to create a machine learning model that can predict churned users. This project is a part of Udacity's Data Scientist Nanodegree program. The main idea of this Sparkify project is to create a machine learning model that can predict churned users. This project is a part of Udacity's Data Scientist Nanodegree program.\n",
    " \n",
    "The assignment was to build a model to predict user churn. Predicting churn rates is a challenging and common problem that data scientists and analysts regularly encounter in any customer-facing business.\n"
   ]
  },
  {
   "cell_type": "code",
   "execution_count": 2,
   "metadata": {
    "scrolled": false
   },
   "outputs": [
    {
     "data": {
      "application/vnd.jupyter.widget-view+json": {
       "model_id": "1039115e2b1d4ed3b840637ea1a09621",
       "version_major": 2,
       "version_minor": 0
      },
      "text/plain": [
       "VBox()"
      ]
     },
     "metadata": {},
     "output_type": "display_data"
    },
    {
     "name": "stdout",
     "output_type": "stream",
     "text": [
      "Starting Spark application\n"
     ]
    },
    {
     "data": {
      "text/html": [
       "<table>\n",
       "<tr><th>ID</th><th>YARN Application ID</th><th>Kind</th><th>State</th><th>Spark UI</th><th>Driver log</th><th>Current session?</th></tr><tr><td>0</td><td>application_1611139082886_0001</td><td>pyspark</td><td>idle</td><td><a target=\"_blank\" href=\"http://ip-172-31-46-95.us-west-2.compute.internal:20888/proxy/application_1611139082886_0001/\">Link</a></td><td><a target=\"_blank\" href=\"http://ip-172-31-44-4.us-west-2.compute.internal:8042/node/containerlogs/container_1611139082886_0001_01_000001/livy\">Link</a></td><td>✔</td></tr></table>"
      ],
      "text/plain": [
       "<IPython.core.display.HTML object>"
      ]
     },
     "metadata": {},
     "output_type": "display_data"
    },
    {
     "data": {
      "application/vnd.jupyter.widget-view+json": {
       "model_id": "",
       "version_major": 2,
       "version_minor": 0
      },
      "text/plain": [
       "FloatProgress(value=0.0, bar_style='info', description='Progress:', layout=Layout(height='25px', width='50%'),…"
      ]
     },
     "metadata": {},
     "output_type": "display_data"
    },
    {
     "name": "stdout",
     "output_type": "stream",
     "text": [
      "SparkSession available as 'spark'.\n"
     ]
    },
    {
     "data": {
      "application/vnd.jupyter.widget-view+json": {
       "model_id": "",
       "version_major": 2,
       "version_minor": 0
      },
      "text/plain": [
       "FloatProgress(value=0.0, bar_style='info', description='Progress:', layout=Layout(height='25px', width='50%'),…"
      ]
     },
     "metadata": {},
     "output_type": "display_data"
    },
    {
     "name": "stdout",
     "output_type": "stream",
     "text": [
      "'2048M'"
     ]
    }
   ],
   "source": [
    "# cheking the drivers memory, decided to try with this without any\n",
    "# configurations, which would cause installing issues\n",
    "spark.sparkContext.getConf().get('spark.driver.memory')"
   ]
  },
  {
   "cell_type": "code",
   "execution_count": 3,
   "metadata": {},
   "outputs": [
    {
     "name": "stdout",
     "output_type": "stream",
     "text": [
      "Starting Spark application\n"
     ]
    },
    {
     "data": {
      "text/html": [
       "<table>\n",
       "<tr><th>ID</th><th>YARN Application ID</th><th>Kind</th><th>State</th><th>Spark UI</th><th>Driver log</th><th>Current session?</th></tr><tr><td>1</td><td>application_1611139082886_0002</td><td>pyspark</td><td>idle</td><td><a target=\"_blank\" href=\"http://ip-172-31-46-95.us-west-2.compute.internal:20888/proxy/application_1611139082886_0002/\">Link</a></td><td><a target=\"_blank\" href=\"http://ip-172-31-44-4.us-west-2.compute.internal:8042/node/containerlogs/container_1611139082886_0002_01_000001/livy\">Link</a></td><td>✔</td></tr></table>"
      ],
      "text/plain": [
       "<IPython.core.display.HTML object>"
      ]
     },
     "metadata": {},
     "output_type": "display_data"
    },
    {
     "data": {
      "application/vnd.jupyter.widget-view+json": {
       "model_id": "",
       "version_major": 2,
       "version_minor": 0
      },
      "text/plain": [
       "FloatProgress(value=0.0, bar_style='info', description='Progress:', layout=Layout(height='25px', width='50%'),…"
      ]
     },
     "metadata": {},
     "output_type": "display_data"
    },
    {
     "name": "stdout",
     "output_type": "stream",
     "text": [
      "SparkSession available as 'spark'.\n"
     ]
    },
    {
     "data": {
      "text/html": [
       "Current session configs: <tt>{'conf': {'spark.pyspark.python': 'python3', 'spark.pyspark.virtualenv.enabled': 'true', 'spark.pyspark.virtualenv.type': 'native', 'spark.pyspark.virtualenv.bin.path': '/usr/bin/virtualenv'}, 'kind': 'pyspark'}</tt><br>"
      ],
      "text/plain": [
       "<IPython.core.display.HTML object>"
      ]
     },
     "metadata": {},
     "output_type": "display_data"
    },
    {
     "data": {
      "text/html": [
       "<table>\n",
       "<tr><th>ID</th><th>YARN Application ID</th><th>Kind</th><th>State</th><th>Spark UI</th><th>Driver log</th><th>Current session?</th></tr><tr><td>1</td><td>application_1611139082886_0002</td><td>pyspark</td><td>idle</td><td><a target=\"_blank\" href=\"http://ip-172-31-46-95.us-west-2.compute.internal:20888/proxy/application_1611139082886_0002/\">Link</a></td><td><a target=\"_blank\" href=\"http://ip-172-31-44-4.us-west-2.compute.internal:8042/node/containerlogs/container_1611139082886_0002_01_000001/livy\">Link</a></td><td>✔</td></tr></table>"
      ],
      "text/plain": [
       "<IPython.core.display.HTML object>"
      ]
     },
     "metadata": {},
     "output_type": "display_data"
    }
   ],
   "source": [
    "%%configure -f\n",
    "{ \"conf\":{\n",
    "          \"spark.pyspark.python\" : \"python3\",\n",
    "          \"spark.pyspark.virtualenv.enabled\" : \"true\",\n",
    "          \"spark.pyspark.virtualenv.type\" : \"native\",\n",
    "          \"spark.pyspark.virtualenv.bin.path\" : \"/usr/bin/virtualenv\"\n",
    "         }\n",
    "}"
   ]
  },
  {
   "cell_type": "code",
   "execution_count": 4,
   "metadata": {},
   "outputs": [
    {
     "data": {
      "application/vnd.jupyter.widget-view+json": {
       "model_id": "de5365d0f2f849ba814fcc36a05b4ffe",
       "version_major": 2,
       "version_minor": 0
      },
      "text/plain": [
       "VBox()"
      ]
     },
     "metadata": {},
     "output_type": "display_data"
    },
    {
     "data": {
      "application/vnd.jupyter.widget-view+json": {
       "model_id": "",
       "version_major": 2,
       "version_minor": 0
      },
      "text/plain": [
       "FloatProgress(value=0.0, bar_style='info', description='Progress:', layout=Layout(height='25px', width='50%'),…"
      ]
     },
     "metadata": {},
     "output_type": "display_data"
    },
    {
     "name": "stdout",
     "output_type": "stream",
     "text": [
      "Collecting pandas\n",
      "  Downloading https://files.pythonhosted.org/packages/ff/bd/fb376f9fbad92b9a6efdbb30ff32c80f3cba1368689309cbb5566364af5c/pandas-1.2.0-cp37-cp37m-manylinux1_x86_64.whl (9.9MB)\n",
      "Requirement already satisfied: numpy>=1.16.5 in /usr/local/lib64/python3.7/site-packages (from pandas)\n",
      "Requirement already satisfied: pytz>=2017.3 in /usr/local/lib/python3.7/site-packages (from pandas)\n",
      "Collecting python-dateutil>=2.7.3 (from pandas)\n",
      "  Downloading https://files.pythonhosted.org/packages/d4/70/d60450c3dd48ef87586924207ae8907090de0b306af2bce5d134d78615cb/python_dateutil-2.8.1-py2.py3-none-any.whl (227kB)\n",
      "Requirement already satisfied: six>=1.5 in /usr/local/lib/python3.7/site-packages (from python-dateutil>=2.7.3->pandas)\n",
      "Installing collected packages: python-dateutil, pandas\n",
      "Successfully installed pandas-1.2.0 python-dateutil-2.8.1\n",
      "\n",
      "Collecting matplotlib\n",
      "  Downloading https://files.pythonhosted.org/packages/30/f2/10c822cb0ca5ebec58bd1892187bc3e3db64a867ac26531c6204663fc218/matplotlib-3.3.3-cp37-cp37m-manylinux1_x86_64.whl (11.6MB)\n",
      "Requirement already satisfied: numpy>=1.15 in /usr/local/lib64/python3.7/site-packages (from matplotlib)\n",
      "Requirement already satisfied: python-dateutil>=2.1 in /mnt/tmp/1611140549002-0/lib/python3.7/site-packages (from matplotlib)\n",
      "Collecting pyparsing!=2.0.4,!=2.1.2,!=2.1.6,>=2.0.3 (from matplotlib)\n",
      "  Downloading https://files.pythonhosted.org/packages/8a/bb/488841f56197b13700afd5658fc279a2025a39e22449b7cf29864669b15d/pyparsing-2.4.7-py2.py3-none-any.whl (67kB)\n",
      "Collecting pillow>=6.2.0 (from matplotlib)\n",
      "  Downloading https://files.pythonhosted.org/packages/eb/8e/d2f7a67cf8da9b83c1e3ee38dbf49448f3c8acb2cb38f76e4301f4a70223/Pillow-8.1.0-cp37-cp37m-manylinux1_x86_64.whl (2.2MB)\n",
      "Collecting cycler>=0.10 (from matplotlib)\n",
      "  Downloading https://files.pythonhosted.org/packages/f7/d2/e07d3ebb2bd7af696440ce7e754c59dd546ffe1bbe732c8ab68b9c834e61/cycler-0.10.0-py2.py3-none-any.whl\n",
      "Collecting kiwisolver>=1.0.1 (from matplotlib)\n",
      "  Downloading https://files.pythonhosted.org/packages/d2/46/231de802ade4225b76b96cffe419cf3ce52bbe92e3b092cf12db7d11c207/kiwisolver-1.3.1-cp37-cp37m-manylinux1_x86_64.whl (1.1MB)\n",
      "Requirement already satisfied: six>=1.5 in /usr/local/lib/python3.7/site-packages (from python-dateutil>=2.1->matplotlib)\n",
      "Installing collected packages: pyparsing, pillow, cycler, kiwisolver, matplotlib\n",
      "Successfully installed cycler-0.10.0 kiwisolver-1.3.1 matplotlib-3.3.3 pillow-8.1.0 pyparsing-2.4.7\n",
      "\n",
      "Collecting seaborn\n",
      "  Downloading https://files.pythonhosted.org/packages/68/ad/6c2406ae175f59ec616714e408979b674fe27b9587f79d59a528ddfbcd5b/seaborn-0.11.1-py3-none-any.whl (285kB)\n",
      "Requirement already satisfied: numpy>=1.15 in /usr/local/lib64/python3.7/site-packages (from seaborn)\n",
      "Collecting scipy>=1.0 (from seaborn)\n",
      "  Downloading https://files.pythonhosted.org/packages/58/9d/8296d8211318d690119eba6d293b7a149c1c51c945342dd4c3816f79e1ba/scipy-1.6.0-cp37-cp37m-manylinux1_x86_64.whl (27.4MB)\n",
      "Requirement already satisfied: matplotlib>=2.2 in /mnt/tmp/1611140549002-0/lib/python3.7/site-packages (from seaborn)\n",
      "Requirement already satisfied: pandas>=0.23 in /mnt/tmp/1611140549002-0/lib/python3.7/site-packages (from seaborn)\n",
      "Requirement already satisfied: python-dateutil>=2.1 in /mnt/tmp/1611140549002-0/lib/python3.7/site-packages (from matplotlib>=2.2->seaborn)\n",
      "Requirement already satisfied: pyparsing!=2.0.4,!=2.1.2,!=2.1.6,>=2.0.3 in /mnt/tmp/1611140549002-0/lib/python3.7/site-packages (from matplotlib>=2.2->seaborn)\n",
      "Requirement already satisfied: pillow>=6.2.0 in /mnt/tmp/1611140549002-0/lib/python3.7/site-packages (from matplotlib>=2.2->seaborn)\n",
      "Requirement already satisfied: cycler>=0.10 in /mnt/tmp/1611140549002-0/lib/python3.7/site-packages (from matplotlib>=2.2->seaborn)\n",
      "Requirement already satisfied: kiwisolver>=1.0.1 in /mnt/tmp/1611140549002-0/lib/python3.7/site-packages (from matplotlib>=2.2->seaborn)\n",
      "Requirement already satisfied: pytz>=2017.3 in /usr/local/lib/python3.7/site-packages (from pandas>=0.23->seaborn)\n",
      "Requirement already satisfied: six>=1.5 in /usr/local/lib/python3.7/site-packages (from python-dateutil>=2.1->matplotlib>=2.2->seaborn)\n",
      "Installing collected packages: scipy, seaborn\n",
      "Successfully installed scipy-1.6.0 seaborn-0.11.1\n",
      "\n",
      "Collecting statsmodels\n",
      "  Downloading https://files.pythonhosted.org/packages/93/97/67bf20df36a88ce8dd84828f83453b91177e1ff0abd8c92f2e0a47782689/statsmodels-0.12.1-cp37-cp37m-manylinux1_x86_64.whl (9.5MB)\n",
      "Requirement already satisfied: numpy>=1.15 in /usr/local/lib64/python3.7/site-packages (from statsmodels)\n",
      "Requirement already satisfied: pandas>=0.21 in /mnt/tmp/1611140549002-0/lib/python3.7/site-packages (from statsmodels)\n",
      "Collecting patsy>=0.5 (from statsmodels)\n",
      "  Downloading https://files.pythonhosted.org/packages/ea/0c/5f61f1a3d4385d6bf83b83ea495068857ff8dfb89e74824c6e9eb63286d8/patsy-0.5.1-py2.py3-none-any.whl (231kB)\n",
      "Requirement already satisfied: scipy>=1.1 in /mnt/tmp/1611140549002-0/lib/python3.7/site-packages (from statsmodels)\n",
      "Requirement already satisfied: pytz>=2017.3 in /usr/local/lib/python3.7/site-packages (from pandas>=0.21->statsmodels)\n",
      "Requirement already satisfied: python-dateutil>=2.7.3 in /mnt/tmp/1611140549002-0/lib/python3.7/site-packages (from pandas>=0.21->statsmodels)\n",
      "Requirement already satisfied: six in /usr/local/lib/python3.7/site-packages (from patsy>=0.5->statsmodels)\n",
      "Installing collected packages: patsy, statsmodels\n",
      "Successfully installed patsy-0.5.1 statsmodels-0.12.1"
     ]
    }
   ],
   "source": [
    "# installing needed python packages for visuals and testing\n",
    "sc.install_pypi_package('pandas', 'https://pypi.org/simple') \n",
    "sc.install_pypi_package('matplotlib', 'https://pypi.org/simple') \n",
    "sc.install_pypi_package('seaborn', 'https://pypi.org/simple') \n",
    "sc.install_pypi_package('statsmodels', 'https://pypi.org/simple')"
   ]
  },
  {
   "cell_type": "code",
   "execution_count": 5,
   "metadata": {},
   "outputs": [
    {
     "data": {
      "application/vnd.jupyter.widget-view+json": {
       "model_id": "33d31acb75094a23b9e18071c71a7c53",
       "version_major": 2,
       "version_minor": 0
      },
      "text/plain": [
       "VBox()"
      ]
     },
     "metadata": {},
     "output_type": "display_data"
    },
    {
     "data": {
      "application/vnd.jupyter.widget-view+json": {
       "model_id": "",
       "version_major": 2,
       "version_minor": 0
      },
      "text/plain": [
       "FloatProgress(value=0.0, bar_style='info', description='Progress:', layout=Layout(height='25px', width='50%'),…"
      ]
     },
     "metadata": {},
     "output_type": "display_data"
    }
   ],
   "source": [
    "# import libraries\n",
    "\n",
    "from pyspark.sql import SparkSession, Window\n",
    "\n",
    "from pyspark.sql.functions import *\n",
    "from pyspark.sql.types import *\n",
    "\n",
    "\n",
    "import pyspark.sql.functions as F\n",
    "\n",
    "import datetime\n",
    "import time\n",
    "from pyspark.sql.functions import date_format\n",
    "\n",
    "\n",
    "from pyspark.ml import Pipeline\n",
    "from pyspark.ml.classification import LogisticRegression,RandomForestClassifier, GBTClassifier, DecisionTreeClassifier, LinearSVC\n",
    "from pyspark.ml.evaluation import BinaryClassificationEvaluator, MulticlassClassificationEvaluator\n",
    "from pyspark.ml.feature import MinMaxScaler, StringIndexer, VectorAssembler,StandardScaler\n",
    "from pyspark.ml.tuning import CrossValidator, ParamGridBuilder\n",
    "\n",
    "\n",
    "import pandas as pd\n",
    "import numpy as np\n",
    "import seaborn as sns\n",
    "import matplotlib.pyplot as plt\n",
    "from statsmodels.stats.proportion import proportions_ztest\n"
   ]
  },
  {
   "cell_type": "code",
   "execution_count": 6,
   "metadata": {},
   "outputs": [
    {
     "data": {
      "application/vnd.jupyter.widget-view+json": {
       "model_id": "b4e4462d2a0349a9b8882c1c7174d08d",
       "version_major": 2,
       "version_minor": 0
      },
      "text/plain": [
       "VBox()"
      ]
     },
     "metadata": {},
     "output_type": "display_data"
    },
    {
     "data": {
      "application/vnd.jupyter.widget-view+json": {
       "model_id": "",
       "version_major": 2,
       "version_minor": 0
      },
      "text/plain": [
       "FloatProgress(value=0.0, bar_style='info', description='Progress:', layout=Layout(height='25px', width='50%'),…"
      ]
     },
     "metadata": {},
     "output_type": "display_data"
    }
   ],
   "source": [
    "# create a spark session\n",
    "spark = SparkSession \\\n",
    "    .builder \\\n",
    "    .appName('Sparkify') \\\n",
    "    .getOrCreate()"
   ]
  },
  {
   "cell_type": "markdown",
   "metadata": {},
   "source": [
    "# 2. Load and Clean Dataset and Data Understanding"
   ]
  },
  {
   "cell_type": "code",
   "execution_count": 124,
   "metadata": {
    "scrolled": false
   },
   "outputs": [
    {
     "data": {
      "application/vnd.jupyter.widget-view+json": {
       "model_id": "eaa7ea4d5038499c8507e4735eabb2e2",
       "version_major": 2,
       "version_minor": 0
      },
      "text/plain": [
       "VBox()"
      ]
     },
     "metadata": {},
     "output_type": "display_data"
    },
    {
     "data": {
      "application/vnd.jupyter.widget-view+json": {
       "model_id": "",
       "version_major": 2,
       "version_minor": 0
      },
      "text/plain": [
       "FloatProgress(value=0.0, bar_style='info', description='Progress:', layout=Layout(height='25px', width='50%'),…"
      ]
     },
     "metadata": {},
     "output_type": "display_data"
    }
   ],
   "source": [
    "# load dataset\n",
    "event_data = 's3n://udacity-dsnd/sparkify/sparkify_event_data.json'\n",
    "df = spark.read.json(event_data)"
   ]
  },
  {
   "cell_type": "code",
   "execution_count": 8,
   "metadata": {
    "scrolled": true
   },
   "outputs": [
    {
     "data": {
      "application/vnd.jupyter.widget-view+json": {
       "model_id": "1ffd1a250fb5408eb667c204294444cb",
       "version_major": 2,
       "version_minor": 0
      },
      "text/plain": [
       "VBox()"
      ]
     },
     "metadata": {},
     "output_type": "display_data"
    },
    {
     "data": {
      "application/vnd.jupyter.widget-view+json": {
       "model_id": "",
       "version_major": 2,
       "version_minor": 0
      },
      "text/plain": [
       "FloatProgress(value=0.0, bar_style='info', description='Progress:', layout=Layout(height='25px', width='50%'),…"
      ]
     },
     "metadata": {},
     "output_type": "display_data"
    },
    {
     "name": "stdout",
     "output_type": "stream",
     "text": [
      "+-----------+---------+---------+------+-------------+--------+---------+-----+--------------------+------+--------+-------------+---------+--------------------+------+-------------+--------------------+-------+\n",
      "|     artist|     auth|firstName|gender|itemInSession|lastName|   length|level|            location|method|    page| registration|sessionId|                song|status|           ts|           userAgent| userId|\n",
      "+-----------+---------+---------+------+-------------+--------+---------+-----+--------------------+------+--------+-------------+---------+--------------------+------+-------------+--------------------+-------+\n",
      "|  Popol Vuh|Logged In|    Shlok|     M|          278| Johnson|524.32934| paid|Dallas-Fort Worth...|   PUT|NextSong|1533734541000|    22683|Ich mache einen S...|   200|1538352001000|\"Mozilla/5.0 (Win...|1749042|\n",
      "|Los Bunkers|Logged In|  Vianney|     F|            9|  Miller|238.39302| paid|San Francisco-Oak...|   PUT|NextSong|1537500318000|    20836|         MiÃÂ©ntele|   200|1538352002000|\"Mozilla/5.0 (Mac...|1563081|\n",
      "+-----------+---------+---------+------+-------------+--------+---------+-----+--------------------+------+--------+-------------+---------+--------------------+------+-------------+--------------------+-------+\n",
      "only showing top 2 rows"
     ]
    }
   ],
   "source": [
    "df.show(2)"
   ]
  },
  {
   "cell_type": "code",
   "execution_count": 9,
   "metadata": {},
   "outputs": [
    {
     "data": {
      "application/vnd.jupyter.widget-view+json": {
       "model_id": "e03a9a8720764682b63859294fff6a07",
       "version_major": 2,
       "version_minor": 0
      },
      "text/plain": [
       "VBox()"
      ]
     },
     "metadata": {},
     "output_type": "display_data"
    },
    {
     "data": {
      "application/vnd.jupyter.widget-view+json": {
       "model_id": "",
       "version_major": 2,
       "version_minor": 0
      },
      "text/plain": [
       "FloatProgress(value=0.0, bar_style='info', description='Progress:', layout=Layout(height='25px', width='50%'),…"
      ]
     },
     "metadata": {},
     "output_type": "display_data"
    },
    {
     "name": "stdout",
     "output_type": "stream",
     "text": [
      "Total rows: 26,259,199\n",
      "Total columns 18\n",
      "(None, None)"
     ]
    }
   ],
   "source": [
    "print(f'Total rows: {df.count():,}'), print('Total columns {}'.format(len(df.columns)));"
   ]
  },
  {
   "cell_type": "code",
   "execution_count": 10,
   "metadata": {},
   "outputs": [
    {
     "data": {
      "application/vnd.jupyter.widget-view+json": {
       "model_id": "14f7c6d6e6774d4bab129dfb71a5e601",
       "version_major": 2,
       "version_minor": 0
      },
      "text/plain": [
       "VBox()"
      ]
     },
     "metadata": {},
     "output_type": "display_data"
    },
    {
     "data": {
      "application/vnd.jupyter.widget-view+json": {
       "model_id": "",
       "version_major": 2,
       "version_minor": 0
      },
      "text/plain": [
       "FloatProgress(value=0.0, bar_style='info', description='Progress:', layout=Layout(height='25px', width='50%'),…"
      ]
     },
     "metadata": {},
     "output_type": "display_data"
    },
    {
     "name": "stdout",
     "output_type": "stream",
     "text": [
      "root\n",
      " |-- artist: string (nullable = true)\n",
      " |-- auth: string (nullable = true)\n",
      " |-- firstName: string (nullable = true)\n",
      " |-- gender: string (nullable = true)\n",
      " |-- itemInSession: long (nullable = true)\n",
      " |-- lastName: string (nullable = true)\n",
      " |-- length: double (nullable = true)\n",
      " |-- level: string (nullable = true)\n",
      " |-- location: string (nullable = true)\n",
      " |-- method: string (nullable = true)\n",
      " |-- page: string (nullable = true)\n",
      " |-- registration: long (nullable = true)\n",
      " |-- sessionId: long (nullable = true)\n",
      " |-- song: string (nullable = true)\n",
      " |-- status: long (nullable = true)\n",
      " |-- ts: long (nullable = true)\n",
      " |-- userAgent: string (nullable = true)\n",
      " |-- userId: string (nullable = true)"
     ]
    }
   ],
   "source": [
    "df.printSchema()"
   ]
  },
  {
   "cell_type": "code",
   "execution_count": 11,
   "metadata": {},
   "outputs": [
    {
     "data": {
      "application/vnd.jupyter.widget-view+json": {
       "model_id": "af61b0de53dc410dad02b64745b1c14f",
       "version_major": 2,
       "version_minor": 0
      },
      "text/plain": [
       "VBox()"
      ]
     },
     "metadata": {},
     "output_type": "display_data"
    },
    {
     "data": {
      "application/vnd.jupyter.widget-view+json": {
       "model_id": "",
       "version_major": 2,
       "version_minor": 0
      },
      "text/plain": [
       "FloatProgress(value=0.0, bar_style='info', description='Progress:', layout=Layout(height='25px', width='50%'),…"
      ]
     },
     "metadata": {},
     "output_type": "display_data"
    },
    {
     "name": "stdout",
     "output_type": "stream",
     "text": [
      "+-------+----+---------+------+-------------+--------+-------+-----+--------+------+----+------------+---------+-------+------+---+---------+------+\n",
      "| artist|auth|firstName|gender|itemInSession|lastName| length|level|location|method|page|registration|sessionId|   song|status| ts|userAgent|userId|\n",
      "+-------+----+---------+------+-------------+--------+-------+-----+--------+------+----+------------+---------+-------+------+---+---------+------+\n",
      "|5408927|   0|   778479|778479|            0|  778479|5408927|    0|  778479|     0|   0|      778479|        0|5408927|     0|  0|   778479|     0|\n",
      "+-------+----+---------+------+-------------+--------+-------+-----+--------+------+----+------------+---------+-------+------+---+---------+------+"
     ]
    }
   ],
   "source": [
    "#checking missing values \n",
    "df.select([count(when(col(c).isNull(), c)).alias(c) for c in df.columns]).show()"
   ]
  },
  {
   "cell_type": "markdown",
   "metadata": {},
   "source": [
    "I found out during the EDA process, that missing values were quite tricky. If you drop all missing values at once, the whole dataset will lose main information. Also, when preprocessed with the mini dataset in Udacity's workspace, it did not have these rows which caused issues in the full dataset. If your code worked with the mini dataset, it did not work with the full dataset. So it was very tedious and cost full to debug your code in AWS console.\n",
    "\n",
    "The gender column had some missing values that caused issues with the full dataset so they should be cleaned. \n",
    "\n",
    "There are also the same null values in artist, song, and length columns. These I will process when creating a features data frame later on. \n",
    "\n",
    "Next, I will show you the deducting of what happens if drop all null values in the cleaning phase."
   ]
  },
  {
   "cell_type": "code",
   "execution_count": 12,
   "metadata": {},
   "outputs": [
    {
     "data": {
      "application/vnd.jupyter.widget-view+json": {
       "model_id": "ea9d5c040ba54e4bb1cc5b8958d8c41c",
       "version_major": 2,
       "version_minor": 0
      },
      "text/plain": [
       "VBox()"
      ]
     },
     "metadata": {},
     "output_type": "display_data"
    },
    {
     "data": {
      "application/vnd.jupyter.widget-view+json": {
       "model_id": "",
       "version_major": 2,
       "version_minor": 0
      },
      "text/plain": [
       "FloatProgress(value=0.0, bar_style='info', description='Progress:', layout=Layout(height='25px', width='50%'),…"
      ]
     },
     "metadata": {},
     "output_type": "display_data"
    },
    {
     "name": "stdout",
     "output_type": "stream",
     "text": [
      "+--------------------+\n",
      "|                page|\n",
      "+--------------------+\n",
      "|               About|\n",
      "|          Add Friend|\n",
      "|     Add to Playlist|\n",
      "|              Cancel|\n",
      "|Cancellation Conf...|\n",
      "|           Downgrade|\n",
      "|               Error|\n",
      "|                Help|\n",
      "|                Home|\n",
      "|               Login|\n",
      "|              Logout|\n",
      "|            NextSong|\n",
      "|            Register|\n",
      "|         Roll Advert|\n",
      "|       Save Settings|\n",
      "|            Settings|\n",
      "|    Submit Downgrade|\n",
      "| Submit Registration|\n",
      "|      Submit Upgrade|\n",
      "|         Thumbs Down|\n",
      "+--------------------+\n",
      "only showing top 20 rows"
     ]
    }
   ],
   "source": [
    "# customers events\n",
    "df.select('page').dropDuplicates().sort('page').show()"
   ]
  },
  {
   "cell_type": "code",
   "execution_count": 13,
   "metadata": {},
   "outputs": [
    {
     "data": {
      "application/vnd.jupyter.widget-view+json": {
       "model_id": "fb4cbd2ed1e244d8b4158f9a4a951c6f",
       "version_major": 2,
       "version_minor": 0
      },
      "text/plain": [
       "VBox()"
      ]
     },
     "metadata": {},
     "output_type": "display_data"
    },
    {
     "data": {
      "application/vnd.jupyter.widget-view+json": {
       "model_id": "",
       "version_major": 2,
       "version_minor": 0
      },
      "text/plain": [
       "FloatProgress(value=0.0, bar_style='info', description='Progress:', layout=Layout(height='25px', width='50%'),…"
      ]
     },
     "metadata": {},
     "output_type": "display_data"
    },
    {
     "name": "stdout",
     "output_type": "stream",
     "text": [
      "-RECORD 0-----------------------------\n",
      " artist        | null                 \n",
      " auth          | Cancelled            \n",
      " firstName     | Harrison             \n",
      " gender        | M                    \n",
      " itemInSession | 32                   \n",
      " lastName      | Turner               \n",
      " length        | null                 \n",
      " level         | paid                 \n",
      " location      | Dayton, OH           \n",
      " method        | GET                  \n",
      " page          | Cancellation Conf... \n",
      " registration  | 1536683985000        \n",
      " sessionId     | 24588                \n",
      " song          | null                 \n",
      " status        | 200                  \n",
      " ts            | 1538360145000        \n",
      " userAgent     | Mozilla/5.0 (Wind... \n",
      " userId        | 1768454              \n",
      "-RECORD 1-----------------------------\n",
      " artist        | null                 \n",
      " auth          | Cancelled            \n",
      " firstName     | Andrew               \n",
      " gender        | M                    \n",
      " itemInSession | 16                   \n",
      " lastName      | Lutz                 \n",
      " length        | null                 \n",
      " level         | free                 \n",
      " location      | Chicago-Napervill... \n",
      " method        | GET                  \n",
      " page          | Cancellation Conf... \n",
      " registration  | 1534620941000        \n",
      " sessionId     | 4031                 \n",
      " song          | null                 \n",
      " status        | 200                  \n",
      " ts            | 1538362976000        \n",
      " userAgent     | \"Mozilla/5.0 (Mac... \n",
      " userId        | 1381915              \n",
      "only showing top 2 rows"
     ]
    }
   ],
   "source": [
    "# find userId's that have cancelled\n",
    "df.filter(\"page = 'Cancellation Confirmation'\").show(n=2, vertical=True)"
   ]
  },
  {
   "cell_type": "code",
   "execution_count": 128,
   "metadata": {
    "scrolled": true
   },
   "outputs": [
    {
     "data": {
      "application/vnd.jupyter.widget-view+json": {
       "model_id": "a8c0458e67fc4c86bdea60d49cd2573a",
       "version_major": 2,
       "version_minor": 0
      },
      "text/plain": [
       "VBox()"
      ]
     },
     "metadata": {},
     "output_type": "display_data"
    },
    {
     "data": {
      "application/vnd.jupyter.widget-view+json": {
       "model_id": "",
       "version_major": 2,
       "version_minor": 0
      },
      "text/plain": [
       "FloatProgress(value=0.0, bar_style='info', description='Progress:', layout=Layout(height='25px', width='50%'),…"
      ]
     },
     "metadata": {},
     "output_type": "display_data"
    },
    {
     "name": "stdout",
     "output_type": "stream",
     "text": [
      "+-------+-----+----------+-------------------+--------------------+---------+\n",
      "| userId|level|      page|             artist|                song|   length|\n",
      "+-------+-----+----------+-------------------+--------------------+---------+\n",
      "|1768454| paid|      Home|               null|                null|     null|\n",
      "|1768454| paid|  NextSong|         The Police|Don't Stand So Cl...|291.44771|\n",
      "|1768454| paid|  NextSong|       Keyshia Cole|         We Could Be|191.00689|\n",
      "|1768454| paid|  NextSong|        The Killers| When You Were Young|220.89098|\n",
      "|1768454| paid|  NextSong|           Bon Iver|         Skinny Love|238.49751|\n",
      "|1768454| paid|Add Friend|               null|                null|     null|\n",
      "|1768454| paid|  NextSong|The Beautiful South|   Masculine Eclipse| 236.5122|\n",
      "|1768454| paid|  NextSong|   Enrique Iglesias|Experiencia Relig...|330.21342|\n",
      "|1768454| paid|  NextSong|     The Cloud Room|          The Hunger|205.76608|\n",
      "|1768454| paid|  NextSong|        Jagged Edge|Addicted To Your ...|195.21261|\n",
      "|1768454| paid|  NextSong|     Dierks Bentley|I Wanna Make You ...|239.12444|\n",
      "|1768454| paid|  NextSong|     Little Village|Do You Want My Jo...|337.76281|\n",
      "|1768454| paid|      Home|               null|                null|     null|\n",
      "|1768454| paid|  NextSong|    Alliance Ethnik|SinceritÃÂ© Et J...|195.94404|\n",
      "|1768454| paid| Downgrade|               null|                null|     null|\n",
      "|1768454| paid|  NextSong|         Ron Carter| I CAN'T GET STARTED|497.13587|\n",
      "|1768454| paid|  NextSong|     Heltah Skeltah|Sean Price (Expli...| 259.5522|\n",
      "|1768454| paid|  NextSong|          Green Day|Know Your Enemy (...|190.98077|\n",
      "|1768454| paid| Thumbs Up|               null|                null|     null|\n",
      "|1768454| paid|  NextSong|      The Veronicas|Speechless (Album...|236.40771|\n",
      "+-------+-----+----------+-------------------+--------------------+---------+\n",
      "only showing top 20 rows"
     ]
    }
   ],
   "source": [
    "# showing canceled customer events and null values\n",
    "df.select(['userId', 'level','page','artist', 'song', 'length']).where(df.userId == '1768454').show()"
   ]
  },
  {
   "cell_type": "markdown",
   "metadata": {},
   "source": [
    "So when the customer goes to other pages than the Next song, then artist, song, and length values are null. If you drop all null values you will lose the information on customers' behavior, even canceled and downgraded customers."
   ]
  },
  {
   "cell_type": "code",
   "execution_count": 14,
   "metadata": {
    "scrolled": false
   },
   "outputs": [
    {
     "data": {
      "application/vnd.jupyter.widget-view+json": {
       "model_id": "2f71784577db4206b3db26cf7a02c53d",
       "version_major": 2,
       "version_minor": 0
      },
      "text/plain": [
       "VBox()"
      ]
     },
     "metadata": {},
     "output_type": "display_data"
    },
    {
     "data": {
      "application/vnd.jupyter.widget-view+json": {
       "model_id": "",
       "version_major": 2,
       "version_minor": 0
      },
      "text/plain": [
       "FloatProgress(value=0.0, bar_style='info', description='Progress:', layout=Layout(height='25px', width='50%'),…"
      ]
     },
     "metadata": {},
     "output_type": "display_data"
    },
    {
     "name": "stdout",
     "output_type": "stream",
     "text": [
      "0"
     ]
    }
   ],
   "source": [
    "# checking empty values for userID, mini daset had empty values\n",
    "df.filter(df['userId']=='').count()"
   ]
  },
  {
   "cell_type": "code",
   "execution_count": 16,
   "metadata": {},
   "outputs": [
    {
     "data": {
      "application/vnd.jupyter.widget-view+json": {
       "model_id": "04d2c0f932db418b8e602a17718b5409",
       "version_major": 2,
       "version_minor": 0
      },
      "text/plain": [
       "VBox()"
      ]
     },
     "metadata": {},
     "output_type": "display_data"
    },
    {
     "data": {
      "application/vnd.jupyter.widget-view+json": {
       "model_id": "",
       "version_major": 2,
       "version_minor": 0
      },
      "text/plain": [
       "FloatProgress(value=0.0, bar_style='info', description='Progress:', layout=Layout(height='25px', width='50%'),…"
      ]
     },
     "metadata": {},
     "output_type": "display_data"
    },
    {
     "name": "stdout",
     "output_type": "stream",
     "text": [
      "0"
     ]
    }
   ],
   "source": [
    "# checking empty values for sessionId\n",
    "df.filter(df['sessionId']=='').count()"
   ]
  },
  {
   "cell_type": "code",
   "execution_count": 17,
   "metadata": {},
   "outputs": [
    {
     "data": {
      "application/vnd.jupyter.widget-view+json": {
       "model_id": "9e9e84ee2df042a492a4d37f5092758a",
       "version_major": 2,
       "version_minor": 0
      },
      "text/plain": [
       "VBox()"
      ]
     },
     "metadata": {},
     "output_type": "display_data"
    },
    {
     "data": {
      "application/vnd.jupyter.widget-view+json": {
       "model_id": "",
       "version_major": 2,
       "version_minor": 0
      },
      "text/plain": [
       "FloatProgress(value=0.0, bar_style='info', description='Progress:', layout=Layout(height='25px', width='50%'),…"
      ]
     },
     "metadata": {},
     "output_type": "display_data"
    }
   ],
   "source": [
    "# create timestamp column from original ts column\n",
    "get_timestamp = udf(lambda x : datetime.datetime.fromtimestamp(x/1000.0).strftime('%Y-%m-%d %H:%M:%S'))"
   ]
  },
  {
   "cell_type": "code",
   "execution_count": 18,
   "metadata": {},
   "outputs": [
    {
     "data": {
      "application/vnd.jupyter.widget-view+json": {
       "model_id": "325806c80fdb4a5b9b97bf519033f326",
       "version_major": 2,
       "version_minor": 0
      },
      "text/plain": [
       "VBox()"
      ]
     },
     "metadata": {},
     "output_type": "display_data"
    },
    {
     "data": {
      "application/vnd.jupyter.widget-view+json": {
       "model_id": "",
       "version_major": 2,
       "version_minor": 0
      },
      "text/plain": [
       "FloatProgress(value=0.0, bar_style='info', description='Progress:', layout=Layout(height='25px', width='50%'),…"
      ]
     },
     "metadata": {},
     "output_type": "display_data"
    }
   ],
   "source": [
    "# filter empty gender, create timestamp, month, day, weekday,hour, date variables \n",
    "# create new registartion datatype form long to timestamp for further processing\n",
    "def clean_data(df):\n",
    "    df = df\\\n",
    "        .filter(col('gender')!='null')\\\n",
    "        .withColumn('timestamp', get_timestamp(df['ts']).cast('timestamp'))\\\n",
    "        .withColumn('month', month('timestamp'))\\\n",
    "        .withColumn('day', dayofmonth(col('timestamp')))\\\n",
    "        .withColumn('weekday', date_format(col('timestamp'),'EEEE'))\\\n",
    "        .withColumn('hour', hour('timestamp'))\\\n",
    "        .withColumn('reg_timestamp', get_timestamp(df['registration']).cast('timestamp'))\\\n",
    "        .withColumn('date', from_unixtime(col('ts')/1000).cast(DateType()))\n",
    "        \n",
    "    \n",
    "    return df"
   ]
  },
  {
   "cell_type": "code",
   "execution_count": 19,
   "metadata": {},
   "outputs": [
    {
     "data": {
      "application/vnd.jupyter.widget-view+json": {
       "model_id": "20ff43f719424d18a204d41b90e6de7a",
       "version_major": 2,
       "version_minor": 0
      },
      "text/plain": [
       "VBox()"
      ]
     },
     "metadata": {},
     "output_type": "display_data"
    },
    {
     "data": {
      "application/vnd.jupyter.widget-view+json": {
       "model_id": "",
       "version_major": 2,
       "version_minor": 0
      },
      "text/plain": [
       "FloatProgress(value=0.0, bar_style='info', description='Progress:', layout=Layout(height='25px', width='50%'),…"
      ]
     },
     "metadata": {},
     "output_type": "display_data"
    }
   ],
   "source": [
    "df = clean_data(df)"
   ]
  },
  {
   "cell_type": "code",
   "execution_count": 20,
   "metadata": {},
   "outputs": [
    {
     "data": {
      "application/vnd.jupyter.widget-view+json": {
       "model_id": "516c60e3cc444065a876c50da43aa230",
       "version_major": 2,
       "version_minor": 0
      },
      "text/plain": [
       "VBox()"
      ]
     },
     "metadata": {},
     "output_type": "display_data"
    },
    {
     "data": {
      "application/vnd.jupyter.widget-view+json": {
       "model_id": "",
       "version_major": 2,
       "version_minor": 0
      },
      "text/plain": [
       "FloatProgress(value=0.0, bar_style='info', description='Progress:', layout=Layout(height='25px', width='50%'),…"
      ]
     },
     "metadata": {},
     "output_type": "display_data"
    },
    {
     "name": "stdout",
     "output_type": "stream",
     "text": [
      "root\n",
      " |-- artist: string (nullable = true)\n",
      " |-- auth: string (nullable = true)\n",
      " |-- firstName: string (nullable = true)\n",
      " |-- gender: string (nullable = true)\n",
      " |-- itemInSession: long (nullable = true)\n",
      " |-- lastName: string (nullable = true)\n",
      " |-- length: double (nullable = true)\n",
      " |-- level: string (nullable = true)\n",
      " |-- location: string (nullable = true)\n",
      " |-- method: string (nullable = true)\n",
      " |-- page: string (nullable = true)\n",
      " |-- registration: long (nullable = true)\n",
      " |-- sessionId: long (nullable = true)\n",
      " |-- song: string (nullable = true)\n",
      " |-- status: long (nullable = true)\n",
      " |-- ts: long (nullable = true)\n",
      " |-- userAgent: string (nullable = true)\n",
      " |-- userId: string (nullable = true)\n",
      " |-- timestamp: timestamp (nullable = true)\n",
      " |-- month: integer (nullable = true)\n",
      " |-- day: integer (nullable = true)\n",
      " |-- weekday: string (nullable = true)\n",
      " |-- hour: integer (nullable = true)\n",
      " |-- reg_timestamp: timestamp (nullable = true)\n",
      " |-- date: date (nullable = true)"
     ]
    }
   ],
   "source": [
    "df.printSchema()"
   ]
  },
  {
   "cell_type": "markdown",
   "metadata": {},
   "source": [
    "## 3 Exploratory Data Analysis\n",
    "\n",
    "### Define Churn\n",
    "\n",
    "The column churn will be created to use as the label for the machine learning models. Churn column consists of customers who have canceled or downgraded their subscriptions. Cancellation Confirmation and Submit downgrade events define the customers churn, which happens for both paid and free users.\n",
    "\n",
    "### Explore Data\n",
    "I will perform some exploratory data analysis to observe the behavior for users who stayed vs users who churned. First, exploring aggregates on these two groups of users, observing gender and level, a number of songs played in hours and weekday's, chart of locations and churned, how much of a specific action they experienced per a certain time unit, and registered and active days. After this, I will create a features data frame with unique user Id's that we can use for investigating features dataset for machine learning models. "
   ]
  },
  {
   "cell_type": "code",
   "execution_count": 21,
   "metadata": {},
   "outputs": [
    {
     "data": {
      "application/vnd.jupyter.widget-view+json": {
       "model_id": "757b3cb6d5914b4a8e57e90e6be7fd79",
       "version_major": 2,
       "version_minor": 0
      },
      "text/plain": [
       "VBox()"
      ]
     },
     "metadata": {},
     "output_type": "display_data"
    },
    {
     "data": {
      "application/vnd.jupyter.widget-view+json": {
       "model_id": "",
       "version_major": 2,
       "version_minor": 0
      },
      "text/plain": [
       "FloatProgress(value=0.0, bar_style='info', description='Progress:', layout=Layout(height='25px', width='50%'),…"
      ]
     },
     "metadata": {},
     "output_type": "display_data"
    }
   ],
   "source": [
    "# process churn variable\n",
    "cancel_churn = udf(lambda x: int(x=='Cancellation Confirmation'), IntegerType())\n",
    "downgrade_churn = udf(lambda x: int(x=='Submit Downgrade'), IntegerType())"
   ]
  },
  {
   "cell_type": "code",
   "execution_count": 22,
   "metadata": {},
   "outputs": [
    {
     "data": {
      "application/vnd.jupyter.widget-view+json": {
       "model_id": "b00b5fcc77b04a1a87b6552e58130d0e",
       "version_major": 2,
       "version_minor": 0
      },
      "text/plain": [
       "VBox()"
      ]
     },
     "metadata": {},
     "output_type": "display_data"
    },
    {
     "data": {
      "application/vnd.jupyter.widget-view+json": {
       "model_id": "",
       "version_major": 2,
       "version_minor": 0
      },
      "text/plain": [
       "FloatProgress(value=0.0, bar_style='info', description='Progress:', layout=Layout(height='25px', width='50%'),…"
      ]
     },
     "metadata": {},
     "output_type": "display_data"
    }
   ],
   "source": [
    "# create new columns: cancelled and downgraded\n",
    "df = df.withColumn('downgraded', downgrade_churn('page')).withColumn(\"cancelled\", cancel_churn(\"page\"))"
   ]
  },
  {
   "cell_type": "code",
   "execution_count": 23,
   "metadata": {},
   "outputs": [
    {
     "data": {
      "application/vnd.jupyter.widget-view+json": {
       "model_id": "28ffeda0a8fe4b3f90e641af24b47395",
       "version_major": 2,
       "version_minor": 0
      },
      "text/plain": [
       "VBox()"
      ]
     },
     "metadata": {},
     "output_type": "display_data"
    },
    {
     "data": {
      "application/vnd.jupyter.widget-view+json": {
       "model_id": "",
       "version_major": 2,
       "version_minor": 0
      },
      "text/plain": [
       "FloatProgress(value=0.0, bar_style='info', description='Progress:', layout=Layout(height='25px', width='50%'),…"
      ]
     },
     "metadata": {},
     "output_type": "display_data"
    }
   ],
   "source": [
    "# create churn column\n",
    "df = df.withColumn('churn', when((col('cancelled')==1) | (col('downgraded')==1),1).otherwise(0))"
   ]
  },
  {
   "cell_type": "code",
   "execution_count": 24,
   "metadata": {},
   "outputs": [
    {
     "data": {
      "application/vnd.jupyter.widget-view+json": {
       "model_id": "f076a4a709ec45c5ae0e9db97288c80e",
       "version_major": 2,
       "version_minor": 0
      },
      "text/plain": [
       "VBox()"
      ]
     },
     "metadata": {},
     "output_type": "display_data"
    },
    {
     "data": {
      "application/vnd.jupyter.widget-view+json": {
       "model_id": "",
       "version_major": 2,
       "version_minor": 0
      },
      "text/plain": [
       "FloatProgress(value=0.0, bar_style='info', description='Progress:', layout=Layout(height='25px', width='50%'),…"
      ]
     },
     "metadata": {},
     "output_type": "display_data"
    },
    {
     "name": "stdout",
     "output_type": "stream",
     "text": [
      "22277"
     ]
    }
   ],
   "source": [
    "# number of customers\n",
    "df.select('userId').distinct().count()"
   ]
  },
  {
   "cell_type": "code",
   "execution_count": 25,
   "metadata": {},
   "outputs": [
    {
     "data": {
      "application/vnd.jupyter.widget-view+json": {
       "model_id": "e111fdd9bccc49cc9c972fde361387e3",
       "version_major": 2,
       "version_minor": 0
      },
      "text/plain": [
       "VBox()"
      ]
     },
     "metadata": {},
     "output_type": "display_data"
    },
    {
     "data": {
      "application/vnd.jupyter.widget-view+json": {
       "model_id": "",
       "version_major": 2,
       "version_minor": 0
      },
      "text/plain": [
       "FloatProgress(value=0.0, bar_style='info', description='Progress:', layout=Layout(height='25px', width='50%'),…"
      ]
     },
     "metadata": {},
     "output_type": "display_data"
    },
    {
     "name": "stdout",
     "output_type": "stream",
     "text": [
      "+---------------+--------------+\n",
      "|sum(downgraded)|sum(cancelled)|\n",
      "+---------------+--------------+\n",
      "|           6494|          5003|\n",
      "+---------------+--------------+"
     ]
    }
   ],
   "source": [
    "# customers who downgraded or cancelled\n",
    "df.agg({'cancelled' : 'sum', 'downgraded' : 'sum'}).show()"
   ]
  },
  {
   "cell_type": "code",
   "execution_count": 26,
   "metadata": {},
   "outputs": [
    {
     "data": {
      "application/vnd.jupyter.widget-view+json": {
       "model_id": "4cf392c11d9e4fbaa4a9368a018bd524",
       "version_major": 2,
       "version_minor": 0
      },
      "text/plain": [
       "VBox()"
      ]
     },
     "metadata": {},
     "output_type": "display_data"
    },
    {
     "data": {
      "application/vnd.jupyter.widget-view+json": {
       "model_id": "",
       "version_major": 2,
       "version_minor": 0
      },
      "text/plain": [
       "FloatProgress(value=0.0, bar_style='info', description='Progress:', layout=Layout(height='25px', width='50%'),…"
      ]
     },
     "metadata": {},
     "output_type": "display_data"
    },
    {
     "name": "stdout",
     "output_type": "stream",
     "text": [
      "+-----------------------------+\n",
      "|sum((cancelled + downgraded))|\n",
      "+-----------------------------+\n",
      "|                        11497|\n",
      "+-----------------------------+"
     ]
    }
   ],
   "source": [
    "# customers in churn\n",
    "users_in_churn = df.agg(sum(df.cancelled + df.downgraded)).show()"
   ]
  },
  {
   "cell_type": "code",
   "execution_count": 27,
   "metadata": {},
   "outputs": [
    {
     "data": {
      "application/vnd.jupyter.widget-view+json": {
       "model_id": "2366188a31f84e65ac4906514ba2e578",
       "version_major": 2,
       "version_minor": 0
      },
      "text/plain": [
       "VBox()"
      ]
     },
     "metadata": {},
     "output_type": "display_data"
    },
    {
     "data": {
      "application/vnd.jupyter.widget-view+json": {
       "model_id": "",
       "version_major": 2,
       "version_minor": 0
      },
      "text/plain": [
       "FloatProgress(value=0.0, bar_style='info', description='Progress:', layout=Layout(height='25px', width='50%'),…"
      ]
     },
     "metadata": {},
     "output_type": "display_data"
    },
    {
     "name": "stdout",
     "output_type": "stream",
     "text": [
      "0.5160928311711631"
     ]
    }
   ],
   "source": [
    "# the churn rate \n",
    "11497/22277"
   ]
  },
  {
   "cell_type": "markdown",
   "metadata": {},
   "source": [
    "**Note** This 51,6% is a high churn rate so predicting machines for the business will be a good investment."
   ]
  },
  {
   "cell_type": "code",
   "execution_count": 31,
   "metadata": {
    "scrolled": true
   },
   "outputs": [
    {
     "data": {
      "application/vnd.jupyter.widget-view+json": {
       "model_id": "ed27f329ea31492681ea8c8c042e798b",
       "version_major": 2,
       "version_minor": 0
      },
      "text/plain": [
       "VBox()"
      ]
     },
     "metadata": {},
     "output_type": "display_data"
    },
    {
     "data": {
      "application/vnd.jupyter.widget-view+json": {
       "model_id": "",
       "version_major": 2,
       "version_minor": 0
      },
      "text/plain": [
       "FloatProgress(value=0.0, bar_style='info', description='Progress:', layout=Layout(height='25px', width='50%'),…"
      ]
     },
     "metadata": {},
     "output_type": "display_data"
    },
    {
     "data": {
      "image/png": "[encoded data removed]",
      "text/plain": [
       "<IPython.core.display.Image object>"
      ]
     },
     "metadata": {},
     "output_type": "display_data"
    }
   ],
   "source": [
    "#gender distribution between regular and churn customers\n",
    "churn_gen_pd = df.drop_duplicates(['userId', 'churn']).groupby(['churn', 'gender']).count().sort('churn').toPandas()\n",
    "\n",
    "fig, ax=plt.subplots()\n",
    "\n",
    "\n",
    "sns.barplot(x = 'churn', y = 'count',\\\n",
    "            data = churn_gen_pd, hue = 'gender')\n",
    "ax.set_title('Churn by Gender', fontsize=14)\n",
    "ax.set_xlabel('Churn')\n",
    "ax.set_ylabel('Number of customers');\n",
    "%matplot plt"
   ]
  },
  {
   "cell_type": "markdown",
   "metadata": {},
   "source": [
    "Gender has a slight difference that males have churned more."
   ]
  },
  {
   "cell_type": "code",
   "execution_count": 32,
   "metadata": {},
   "outputs": [
    {
     "data": {
      "application/vnd.jupyter.widget-view+json": {
       "model_id": "6e86eea515284bd1be1178dc17b4555e",
       "version_major": 2,
       "version_minor": 0
      },
      "text/plain": [
       "VBox()"
      ]
     },
     "metadata": {},
     "output_type": "display_data"
    },
    {
     "data": {
      "application/vnd.jupyter.widget-view+json": {
       "model_id": "",
       "version_major": 2,
       "version_minor": 0
      },
      "text/plain": [
       "FloatProgress(value=0.0, bar_style='info', description='Progress:', layout=Layout(height='25px', width='50%'),…"
      ]
     },
     "metadata": {},
     "output_type": "display_data"
    },
    {
     "data": {
      "image/png": "[encoded data removed]",
      "text/plain": [
       "<IPython.core.display.Image object>"
      ]
     },
     "metadata": {},
     "output_type": "display_data"
    }
   ],
   "source": [
    "#level distribution between regular and churn customers\n",
    "churn_gen_pd = df.drop_duplicates(['userId', 'churn']).groupby(['churn', 'level']).count().sort('churn').toPandas()\n",
    "\n",
    "fig, ax=plt.subplots()\n",
    "\n",
    "sns.barplot(x = 'churn', y = 'count',\\\n",
    "            data = churn_gen_pd, hue = 'level')\n",
    "ax.set_title('Churn by Level', fontsize=14)\n",
    "ax.set_xlabel('Churn')\n",
    "ax.set_ylabel('Number of customers');\n",
    "%matplot plt"
   ]
  },
  {
   "cell_type": "markdown",
   "metadata": {},
   "source": [
    "**Note** There are about 8000 paid customers in churn in two months period, so it is a big deal in company's revenue."
   ]
  },
  {
   "cell_type": "code",
   "execution_count": 33,
   "metadata": {},
   "outputs": [
    {
     "data": {
      "application/vnd.jupyter.widget-view+json": {
       "model_id": "74246b04eab94ea88b3a0dada369cb8a",
       "version_major": 2,
       "version_minor": 0
      },
      "text/plain": [
       "VBox()"
      ]
     },
     "metadata": {},
     "output_type": "display_data"
    },
    {
     "data": {
      "application/vnd.jupyter.widget-view+json": {
       "model_id": "",
       "version_major": 2,
       "version_minor": 0
      },
      "text/plain": [
       "FloatProgress(value=0.0, bar_style='info', description='Progress:', layout=Layout(height='25px', width='50%'),…"
      ]
     },
     "metadata": {},
     "output_type": "display_data"
    },
    {
     "name": "stdout",
     "output_type": "stream",
     "text": [
      "+--------------------+----------------------+\n",
      "|                page|count(DISTINCT userId)|\n",
      "+--------------------+----------------------+\n",
      "|               About|                 14460|\n",
      "|          Add Friend|                 20305|\n",
      "|     Add to Playlist|                 21260|\n",
      "|              Cancel|                  5003|\n",
      "|Cancellation Conf...|                  5003|\n",
      "|           Downgrade|                 15209|\n",
      "|               Error|                 11272|\n",
      "|                Help|                 18243|\n",
      "|                Home|                 22072|\n",
      "|              Logout|                 21160|\n",
      "|            NextSong|                 22261|\n",
      "|         Roll Advert|                 20068|\n",
      "|       Save Settings|                 12237|\n",
      "|            Settings|                 18933|\n",
      "|    Submit Downgrade|                  5103|\n",
      "|      Submit Upgrade|                 12082|\n",
      "|         Thumbs Down|                 20031|\n",
      "|           Thumbs Up|                 21732|\n",
      "|             Upgrade|                 16151|\n",
      "+--------------------+----------------------+"
     ]
    }
   ],
   "source": [
    "# page visits by customers\n",
    "df.groupby('page').agg(countDistinct('userId')).sort('page').show()"
   ]
  },
  {
   "cell_type": "code",
   "execution_count": 123,
   "metadata": {},
   "outputs": [
    {
     "data": {
      "application/vnd.jupyter.widget-view+json": {
       "model_id": "cf2c0ce57ced448abde4813436690765",
       "version_major": 2,
       "version_minor": 0
      },
      "text/plain": [
       "VBox()"
      ]
     },
     "metadata": {},
     "output_type": "display_data"
    },
    {
     "data": {
      "application/vnd.jupyter.widget-view+json": {
       "model_id": "",
       "version_major": 2,
       "version_minor": 0
      },
      "text/plain": [
       "FloatProgress(value=0.0, bar_style='info', description='Progress:', layout=Layout(height='25px', width='50%'),…"
      ]
     },
     "metadata": {},
     "output_type": "display_data"
    },
    {
     "data": {
      "image/png": "[encoded data removed]",
      "text/plain": [
       "<IPython.core.display.Image object>"
      ]
     },
     "metadata": {},
     "output_type": "display_data"
    }
   ],
   "source": [
    "songs_in_hour = df.filter(df.page == 'NextSong').groupby(df.hour).count().orderBy(df.hour.cast('float')).toPandas()\n",
    "fig, ax = plt.subplots(figsize=(10,5))\n",
    "\n",
    "sns.barplot( x='hour',y='count', data=songs_in_hour,ax=ax, color = '#549af0' )\n",
    "ax.set_title('Songs in Hour: 1.10.2018-30.11.2018', fontsize=14)\n",
    "ax.set_xlabel('Hour')\n",
    "ax.set_ylabel('Number of Songs');\n",
    "%matplot plt"
   ]
  },
  {
   "cell_type": "code",
   "execution_count": 121,
   "metadata": {
    "scrolled": true
   },
   "outputs": [
    {
     "data": {
      "application/vnd.jupyter.widget-view+json": {
       "model_id": "7396fb1a004d4ea48e3e4d0c2d76a724",
       "version_major": 2,
       "version_minor": 0
      },
      "text/plain": [
       "VBox()"
      ]
     },
     "metadata": {},
     "output_type": "display_data"
    },
    {
     "data": {
      "application/vnd.jupyter.widget-view+json": {
       "model_id": "",
       "version_major": 2,
       "version_minor": 0
      },
      "text/plain": [
       "FloatProgress(value=0.0, bar_style='info', description='Progress:', layout=Layout(height='25px', width='50%'),…"
      ]
     },
     "metadata": {},
     "output_type": "display_data"
    },
    {
     "data": {
      "image/png": "[encoded data removed]",
      "text/plain": [
       "<IPython.core.display.Image object>"
      ]
     },
     "metadata": {},
     "output_type": "display_data"
    }
   ],
   "source": [
    "songs_in_day = df.filter(df.page == 'NextSong').groupby(df.weekday).count().orderBy(df.weekday).toPandas()\n",
    "days = ['Monday', 'Tuesday', 'Wednesday', 'Thursday', 'Friday', 'Saturday', 'Sunday']\n",
    "fig, ax = plt.subplots(figsize=(10,5))\n",
    "\n",
    "sns.barplot( x='weekday',y='count', data=songs_in_day,ax=ax, order=days, color = '#549af0')\n",
    "ax.set_title('Songs by Weekday: 1.10.2018-30.11.2018', fontsize=14)\n",
    "ax.set_xlabel('Weekday')\n",
    "ax.set_ylabel('Number of Songs');\n",
    "%matplot plt"
   ]
  },
  {
   "cell_type": "code",
   "execution_count": 36,
   "metadata": {},
   "outputs": [
    {
     "data": {
      "application/vnd.jupyter.widget-view+json": {
       "model_id": "2e920cadc82043f7913e6b763cd4b2d4",
       "version_major": 2,
       "version_minor": 0
      },
      "text/plain": [
       "VBox()"
      ]
     },
     "metadata": {},
     "output_type": "display_data"
    },
    {
     "data": {
      "application/vnd.jupyter.widget-view+json": {
       "model_id": "",
       "version_major": 2,
       "version_minor": 0
      },
      "text/plain": [
       "FloatProgress(value=0.0, bar_style='info', description='Progress:', layout=Layout(height='25px', width='50%'),…"
      ]
     },
     "metadata": {},
     "output_type": "display_data"
    }
   ],
   "source": [
    "# split location variable to state\n",
    "df = df.withColumn('state', split(col('location'),',').getItem(1))\n",
    "states = df.dropDuplicates(['churn','userId'])\\\n",
    ".groupby(['state','churn']).count().sort('state').toPandas()\n"
   ]
  },
  {
   "cell_type": "code",
   "execution_count": 47,
   "metadata": {},
   "outputs": [
    {
     "data": {
      "application/vnd.jupyter.widget-view+json": {
       "model_id": "c8e59f6c92f04784ac5052fdafe1d8ce",
       "version_major": 2,
       "version_minor": 0
      },
      "text/plain": [
       "VBox()"
      ]
     },
     "metadata": {},
     "output_type": "display_data"
    },
    {
     "data": {
      "application/vnd.jupyter.widget-view+json": {
       "model_id": "",
       "version_major": 2,
       "version_minor": 0
      },
      "text/plain": [
       "FloatProgress(value=0.0, bar_style='info', description='Progress:', layout=Layout(height='25px', width='50%'),…"
      ]
     },
     "metadata": {},
     "output_type": "display_data"
    },
    {
     "data": {
      "image/png": "[encoded data removed]",
      "text/plain": [
       "<IPython.core.display.Image object>"
      ]
     },
     "metadata": {},
     "output_type": "display_data"
    }
   ],
   "source": [
    "fig, ax = plt.subplots(figsize=(15,6))\n",
    "ax.set_title('Churned Customers by States ', fontsize=14)\n",
    "\n",
    "sns.barplot( y=\"count\",x=\"state\", hue=\"churn\", data=states,ax=ax)\n",
    "ax.set_title('Churn by State', fontsize=14)\n",
    "ax.set_xlabel('State')\n",
    "ax.set_ylabel('Number of Customers');\n",
    "plt.xticks(rotation=90);\n",
    "%matplot plt"
   ]
  },
  {
   "cell_type": "markdown",
   "metadata": {},
   "source": [
    "California, Texas, and New York Metropolitan Area have the largest count of customers and churned customers."
   ]
  },
  {
   "cell_type": "code",
   "execution_count": 118,
   "metadata": {
    "scrolled": true
   },
   "outputs": [
    {
     "data": {
      "application/vnd.jupyter.widget-view+json": {
       "model_id": "6759a3475b2045879d87529faae655e5",
       "version_major": 2,
       "version_minor": 0
      },
      "text/plain": [
       "VBox()"
      ]
     },
     "metadata": {},
     "output_type": "display_data"
    },
    {
     "data": {
      "application/vnd.jupyter.widget-view+json": {
       "model_id": "",
       "version_major": 2,
       "version_minor": 0
      },
      "text/plain": [
       "FloatProgress(value=0.0, bar_style='info', description='Progress:', layout=Layout(height='25px', width='50%'),…"
      ]
     },
     "metadata": {},
     "output_type": "display_data"
    }
   ],
   "source": [
    "# load dataset for setting up ML pipeline\n",
    "#df = spark.read.json('s3://<BUCKET_NAME>/df_clean/*.json')"
   ]
  },
  {
   "cell_type": "code",
   "execution_count": 48,
   "metadata": {},
   "outputs": [
    {
     "data": {
      "application/vnd.jupyter.widget-view+json": {
       "model_id": "22997c4b68d443c799fe9239c40f8bad",
       "version_major": 2,
       "version_minor": 0
      },
      "text/plain": [
       "VBox()"
      ]
     },
     "metadata": {},
     "output_type": "display_data"
    },
    {
     "data": {
      "application/vnd.jupyter.widget-view+json": {
       "model_id": "",
       "version_major": 2,
       "version_minor": 0
      },
      "text/plain": [
       "FloatProgress(value=0.0, bar_style='info', description='Progress:', layout=Layout(height='25px', width='50%'),…"
      ]
     },
     "metadata": {},
     "output_type": "display_data"
    },
    {
     "name": "stdout",
     "output_type": "stream",
     "text": [
      "+-------+----------+---------+-------------+-------------+--------------------+\n",
      "| userId|      date|sessionId|          end|        start|day_session_duration|\n",
      "+-------+----------+---------+-------------+-------------+--------------------+\n",
      "|1468899|2018-10-01|    20202|1538360036000|1538359845000|               191.0|\n",
      "|1641605|2018-10-01|    24431|1538422492000|1538395108000|             27384.0|\n",
      "|1472238|2018-10-01|     7331|1538434551000|1538405518000|             29033.0|\n",
      "|1137339|2018-10-01|     5958|1538380244000|1538352038000|             28206.0|\n",
      "|1368948|2018-10-01|    18238|1538370448000|1538352854000|             17594.0|\n",
      "|1586302|2018-10-01|     4964|1538367196000|1538366763000|               433.0|\n",
      "|1796178|2018-10-01|     1082|1538387216000|1538378432000|              8784.0|\n",
      "|1754520|2018-10-01|    24097|1538406764000|1538392503000|             14261.0|\n",
      "|1242753|2018-10-01|    24086|1538418125000|1538413239000|              4886.0|\n",
      "|1052387|2018-10-01|     8046|1538354835000|1538352144000|              2691.0|\n",
      "|1322754|2018-10-01|     4313|1538358156000|1538354720000|              3436.0|\n",
      "|1558394|2018-10-01|    21011|1538371133000|1538365001000|              6132.0|\n",
      "|1525748|2018-10-01|     1115|1538402158000|1538389658000|             12500.0|\n",
      "|1055909|2018-10-01|     6141|1538425470000|1538397738000|             27732.0|\n",
      "|1438233|2018-10-01|    27419|1538406915000|1538406243000|               672.0|\n",
      "|1730425|2018-10-01|    27416|1538423315000|1538421382000|              1933.0|\n",
      "|1730425|2018-10-01|    28959|1538429025000|1538425393000|              3632.0|\n",
      "|1649859|2018-10-01|     9434|1538387409000|1538380236000|              7173.0|\n",
      "|1424172|2018-10-01|    24883|1538438058000|1538380374000|             57684.0|\n",
      "|1758056|2018-10-01|     2164|1538411889000|1538403213000|              8676.0|\n",
      "+-------+----------+---------+-------------+-------------+--------------------+\n",
      "only showing top 20 rows"
     ]
    }
   ],
   "source": [
    "# sessions duration per day per userId\n",
    "day_session = df.groupby('userId','date','sessionId').\\\n",
    "    agg(F.max('ts').alias('end'), F.min('ts').alias('start')).\\\n",
    "    withColumn('day_session_duration', (col('end')-col('start'))*0.001)\n",
    "day_session.show()"
   ]
  },
  {
   "cell_type": "code",
   "execution_count": 49,
   "metadata": {
    "scrolled": true
   },
   "outputs": [
    {
     "data": {
      "application/vnd.jupyter.widget-view+json": {
       "model_id": "f0b4b7b174fc4c5cb2381b2a0d8e9563",
       "version_major": 2,
       "version_minor": 0
      },
      "text/plain": [
       "VBox()"
      ]
     },
     "metadata": {},
     "output_type": "display_data"
    },
    {
     "data": {
      "application/vnd.jupyter.widget-view+json": {
       "model_id": "",
       "version_major": 2,
       "version_minor": 0
      },
      "text/plain": [
       "FloatProgress(value=0.0, bar_style='info', description='Progress:', layout=Layout(height='25px', width='50%'),…"
      ]
     },
     "metadata": {},
     "output_type": "display_data"
    },
    {
     "name": "stdout",
     "output_type": "stream",
     "text": [
      "+-------------------------+\n",
      "|max(day_session_duration)|\n",
      "+-------------------------+\n",
      "|                  86397.0|\n",
      "+-------------------------+"
     ]
    }
   ],
   "source": [
    "# max day session\n",
    "day_session_max = day_session.agg({'day_session_duration': 'max'}).show()"
   ]
  },
  {
   "cell_type": "code",
   "execution_count": 50,
   "metadata": {},
   "outputs": [
    {
     "data": {
      "application/vnd.jupyter.widget-view+json": {
       "model_id": "f17d2db0728a4020952d6e32223e6e0c",
       "version_major": 2,
       "version_minor": 0
      },
      "text/plain": [
       "VBox()"
      ]
     },
     "metadata": {},
     "output_type": "display_data"
    },
    {
     "data": {
      "application/vnd.jupyter.widget-view+json": {
       "model_id": "",
       "version_major": 2,
       "version_minor": 0
      },
      "text/plain": [
       "FloatProgress(value=0.0, bar_style='info', description='Progress:', layout=Layout(height='25px', width='50%'),…"
      ]
     },
     "metadata": {},
     "output_type": "display_data"
    },
    {
     "name": "stdout",
     "output_type": "stream",
     "text": [
      "23.999166666666667"
     ]
    }
   ],
   "source": [
    "# max day session in hours\n",
    "86397/3600"
   ]
  },
  {
   "cell_type": "code",
   "execution_count": 51,
   "metadata": {},
   "outputs": [
    {
     "data": {
      "application/vnd.jupyter.widget-view+json": {
       "model_id": "bde80d5173dc418a8617f4095e3ad75b",
       "version_major": 2,
       "version_minor": 0
      },
      "text/plain": [
       "VBox()"
      ]
     },
     "metadata": {},
     "output_type": "display_data"
    },
    {
     "data": {
      "application/vnd.jupyter.widget-view+json": {
       "model_id": "",
       "version_major": 2,
       "version_minor": 0
      },
      "text/plain": [
       "FloatProgress(value=0.0, bar_style='info', description='Progress:', layout=Layout(height='25px', width='50%'),…"
      ]
     },
     "metadata": {},
     "output_type": "display_data"
    },
    {
     "name": "stdout",
     "output_type": "stream",
     "text": [
      "+-------+-------------+\n",
      "| userId|daily_sec_avg|\n",
      "+-------+-------------+\n",
      "|1685455|      72852.0|\n",
      "|1815032|      71574.0|\n",
      "|1867030|      63449.0|\n",
      "|1945321|      63116.0|\n",
      "|1133049|      62968.0|\n",
      "|1788891|      61363.0|\n",
      "|1005217|      60681.0|\n",
      "|1032628|      59231.0|\n",
      "|1242486|      57459.0|\n",
      "|1645549|      57315.0|\n",
      "|1021090|      57043.0|\n",
      "|1382275|      56060.0|\n",
      "|1947971|      54438.0|\n",
      "|1366694|      54239.0|\n",
      "|1368082|      54042.0|\n",
      "|1435384|      52866.0|\n",
      "|1730053|      51444.0|\n",
      "|1358369|      49304.0|\n",
      "|1840331|      48942.0|\n",
      "|1578939|      48424.0|\n",
      "+-------+-------------+\n",
      "only showing top 20 rows"
     ]
    }
   ],
   "source": [
    "# daily sessions duration average per userId\n",
    "daily_duration = df.groupby('userId','date','sessionId').\\\n",
    "    agg(F.max('ts').alias('end'), F.min('ts').alias('start')).\\\n",
    "    withColumn('session_duration', (col('end')-col('start'))*0.001).\\\n",
    "    groupby('userId','date').\\\n",
    "    avg('session_duration').\\\n",
    "    groupby('userId').\\\n",
    "    agg(round(F.avg('avg(session_duration)')).alias('daily_sec_avg')).\\\n",
    "    orderBy('daily_sec_avg', ascending=False)\n",
    "daily_duration.show()"
   ]
  },
  {
   "cell_type": "code",
   "execution_count": 52,
   "metadata": {},
   "outputs": [
    {
     "data": {
      "application/vnd.jupyter.widget-view+json": {
       "model_id": "95bdc339aed24c18af58f3f8783c1be9",
       "version_major": 2,
       "version_minor": 0
      },
      "text/plain": [
       "VBox()"
      ]
     },
     "metadata": {},
     "output_type": "display_data"
    },
    {
     "data": {
      "application/vnd.jupyter.widget-view+json": {
       "model_id": "",
       "version_major": 2,
       "version_minor": 0
      },
      "text/plain": [
       "FloatProgress(value=0.0, bar_style='info', description='Progress:', layout=Layout(height='25px', width='50%'),…"
      ]
     },
     "metadata": {},
     "output_type": "display_data"
    },
    {
     "name": "stdout",
     "output_type": "stream",
     "text": [
      "+-------+-----+---------+-------------+-------------+----------------------+\n",
      "| userId|month|sessionId|          end|        start|month_session_duration|\n",
      "+-------+-----+---------+-------------+-------------+----------------------+\n",
      "|1988133|   10|    28916|1538446214000|1538439164000|                7050.0|\n",
      "|1497881|   10|    29657|1538511764000|1538470826000|               40938.0|\n",
      "|1705753|   10|    23262|1538498012000|1538415557000|               82455.0|\n",
      "|1382223|   10|    28050|1538446909000|1538422891000|               24018.0|\n",
      "|1414878|   10|    27126|1538466082000|1538460929000|                5153.0|\n",
      "|1788715|   10|    21231|1538468946000|1538461117000|                7829.0|\n",
      "|1608368|   10|    25685|1538473860000|1538473860000|                   0.0|\n",
      "|1425020|   10|     7097|1538489292000|1538487029000|                2263.0|\n",
      "|1360863|   10|    24253|1538523057000|1538488634000|               34423.0|\n",
      "|1984409|   10|    10175|1538435836000|1538428812000|                7024.0|\n",
      "|1885447|   10|    29135|1538440876000|1538432731000|                8145.0|\n",
      "|1735174|   10|     2441|1538437674000|1538436886000|                 788.0|\n",
      "|1747195|   10|    30778|1538475668000|1538471778000|                3890.0|\n",
      "|1029700|   10|    29248|1538560595000|1538474463000|               86132.0|\n",
      "|1949081|   10|    24896|1538501762000|1538481861000|               19901.0|\n",
      "|1100215|   10|     9861|1538490129000|1538483968000|                6161.0|\n",
      "|1171418|   10|    31359|1538499966000|1538489887000|               10079.0|\n",
      "|1010260|   10|    10167|1538520921000|1538499436000|               21485.0|\n",
      "|1703931|   10|    33368|1538504231000|1538501345000|                2886.0|\n",
      "|1224820|   10|    10248|1538444783000|1538392872000|               51911.0|\n",
      "+-------+-----+---------+-------------+-------------+----------------------+\n",
      "only showing top 20 rows"
     ]
    }
   ],
   "source": [
    "# sessions duration per month per userId\n",
    "month_session = df.groupby('userId','month','sessionId').\\\n",
    "    agg(F.max('ts').alias('end'), F.min('ts').alias('start')).\\\n",
    "    withColumn('month_session_duration', (col('end')-col('start'))*0.001)\n",
    "month_session.show()"
   ]
  },
  {
   "cell_type": "code",
   "execution_count": 53,
   "metadata": {
    "scrolled": true
   },
   "outputs": [
    {
     "data": {
      "application/vnd.jupyter.widget-view+json": {
       "model_id": "d0df76c11c98453fa5fbfb29549462fb",
       "version_major": 2,
       "version_minor": 0
      },
      "text/plain": [
       "VBox()"
      ]
     },
     "metadata": {},
     "output_type": "display_data"
    },
    {
     "data": {
      "application/vnd.jupyter.widget-view+json": {
       "model_id": "",
       "version_major": 2,
       "version_minor": 0
      },
      "text/plain": [
       "FloatProgress(value=0.0, bar_style='info', description='Progress:', layout=Layout(height='25px', width='50%'),…"
      ]
     },
     "metadata": {},
     "output_type": "display_data"
    },
    {
     "name": "stdout",
     "output_type": "stream",
     "text": [
      "+-------+-------------+\n",
      "| userId|month_sec_avg|\n",
      "+-------+-------------+\n",
      "|1815032|     143408.0|\n",
      "|1272739|     142548.0|\n",
      "|1151521|     136324.0|\n",
      "|1788643|     125212.0|\n",
      "|1334667|     120627.0|\n",
      "|1021090|     114250.0|\n",
      "|1382275|     112276.0|\n",
      "|1719533|     111821.0|\n",
      "|1839248|     111230.0|\n",
      "|1730053|     107110.0|\n",
      "|1483106|     102642.0|\n",
      "|1005217|     101344.0|\n",
      "|1788891|      99570.0|\n",
      "|1578939|      97063.0|\n",
      "|1872977|      94126.0|\n",
      "|1379420|      94065.0|\n",
      "|1502280|      93627.0|\n",
      "|1073319|      92369.0|\n",
      "|1835097|      92294.0|\n",
      "|1221432|      89689.0|\n",
      "+-------+-------------+\n",
      "only showing top 20 rows"
     ]
    }
   ],
   "source": [
    "# monthly sessions duration average per userId\n",
    "month_duration = df.groupby('userId','month','sessionId').\\\n",
    "    agg(F.max('ts').alias('end'), F.min('ts').alias('start')).\\\n",
    "    withColumn('session_duration', (col('end')-col('start'))*0.001).\\\n",
    "    groupby('userId','month').\\\n",
    "    avg('session_duration').\\\n",
    "    groupby('userId').\\\n",
    "    agg(round(F.avg('avg(session_duration)')).alias('month_sec_avg')).\\\n",
    "    orderBy('month_sec_avg', ascending=False)\n",
    "month_duration.show()"
   ]
  },
  {
   "cell_type": "code",
   "execution_count": 54,
   "metadata": {},
   "outputs": [
    {
     "data": {
      "application/vnd.jupyter.widget-view+json": {
       "model_id": "7c22e63854344c809d3f5e97af91b82e",
       "version_major": 2,
       "version_minor": 0
      },
      "text/plain": [
       "VBox()"
      ]
     },
     "metadata": {},
     "output_type": "display_data"
    },
    {
     "data": {
      "application/vnd.jupyter.widget-view+json": {
       "model_id": "",
       "version_major": 2,
       "version_minor": 0
      },
      "text/plain": [
       "FloatProgress(value=0.0, bar_style='info', description='Progress:', layout=Layout(height='25px', width='50%'),…"
      ]
     },
     "metadata": {},
     "output_type": "display_data"
    },
    {
     "name": "stdout",
     "output_type": "stream",
     "text": [
      "+-------+--------+\n",
      "| userId|reg_days|\n",
      "+-------+--------+\n",
      "|1567623|   106.0|\n",
      "|1271218|    87.0|\n",
      "|1142513|   117.0|\n",
      "|1492713|   127.0|\n",
      "|1010669|   108.0|\n",
      "|1816626|    10.0|\n",
      "|1883991|    39.0|\n",
      "|1031677|    25.0|\n",
      "|1675930|    48.0|\n",
      "|1720899|    33.0|\n",
      "|1766909|    73.0|\n",
      "|1660289|    55.0|\n",
      "|1110773|    48.0|\n",
      "|1529262|    73.0|\n",
      "|1532612|    53.0|\n",
      "|1193157|    82.0|\n",
      "|1926200|    63.0|\n",
      "|1008404|   111.0|\n",
      "|1869054|    64.0|\n",
      "|1615286|    49.0|\n",
      "+-------+--------+\n",
      "only showing top 20 rows"
     ]
    }
   ],
   "source": [
    "# registered days per users 2018-10-1 - 2018-11-30\n",
    "reg_days = df.groupby('userId').agg(round(((F.max(unix_timestamp('timestamp')) - F.min(unix_timestamp('reg_timestamp')))/86400)).alias('reg_days'))\n",
    "reg_days.show()"
   ]
  },
  {
   "cell_type": "code",
   "execution_count": 55,
   "metadata": {},
   "outputs": [
    {
     "data": {
      "application/vnd.jupyter.widget-view+json": {
       "model_id": "fd457a0fd3f5421b8af4f7933c5bf4e2",
       "version_major": 2,
       "version_minor": 0
      },
      "text/plain": [
       "VBox()"
      ]
     },
     "metadata": {},
     "output_type": "display_data"
    },
    {
     "data": {
      "application/vnd.jupyter.widget-view+json": {
       "model_id": "",
       "version_major": 2,
       "version_minor": 0
      },
      "text/plain": [
       "FloatProgress(value=0.0, bar_style='info', description='Progress:', layout=Layout(height='25px', width='50%'),…"
      ]
     },
     "metadata": {},
     "output_type": "display_data"
    },
    {
     "name": "stdout",
     "output_type": "stream",
     "text": [
      "+-------+-----------+\n",
      "| userId|active_days|\n",
      "+-------+-----------+\n",
      "|1390009|       25.0|\n",
      "|1492713|       50.0|\n",
      "|1114507|       60.0|\n",
      "|1338783|       54.0|\n",
      "|1010669|       60.0|\n",
      "|1675930|       20.0|\n",
      "|1430167|       13.0|\n",
      "|1344069|       61.0|\n",
      "|1926200|       61.0|\n",
      "|1532612|       40.0|\n",
      "|1008404|       39.0|\n",
      "|1869054|       57.0|\n",
      "|1110773|       32.0|\n",
      "|1529262|       60.0|\n",
      "|1193157|       60.0|\n",
      "|1356571|       55.0|\n",
      "|1205653|       40.0|\n",
      "|1951644|       46.0|\n",
      "|1524082|       16.0|\n",
      "|1202075|       60.0|\n",
      "+-------+-----------+\n",
      "only showing top 20 rows"
     ]
    }
   ],
   "source": [
    "# active days per user 2018-10-1 - 2018-11-30\n",
    "active_days = df.groupby('userId').agg(round(((F.max(unix_timestamp('timestamp')) - F.min(unix_timestamp('timestamp')))/86400)).alias('active_days'))\n",
    "active_days.show()"
   ]
  },
  {
   "cell_type": "markdown",
   "metadata": {},
   "source": [
    "# 4. Feature Engineering\n",
    "Next we build out the features we find promising to train our model on. After aggregating features by individual customers, I will also exam features by visuals and make some tests.\n",
    "\n",
    "Selected features are:\n",
    "- gender\n",
    "- level of customer: paid or free\n",
    "- sum of songs per customer\n",
    "- sum of sessions per customer\n",
    "- sum of lenght per customer\n",
    "- sum of thumbs up given per customer\n",
    "- sum of thumbs down given per customer\n",
    "- sum of friends added per customer\n",
    "- sum of songs added to playlist per customer\n",
    "- sum of advertisments showed per customer\n",
    "- sum of errors per customer\n",
    "- sum of help page visited per customer\n",
    "- average items in session per customer\n",
    "- average session length per customer\n",
    "\n",
    "\n",
    "\n",
    "I also took these features on that we can describe churned customers better:\n",
    "- cancelleation confirmation\n",
    "- submit downgrade\n",
    "- sum_churn feature\n",
    "\n"
   ]
  },
  {
   "cell_type": "code",
   "execution_count": 57,
   "metadata": {},
   "outputs": [
    {
     "data": {
      "application/vnd.jupyter.widget-view+json": {
       "model_id": "96fce2a76a154a1397bf8b64cf9f76e5",
       "version_major": 2,
       "version_minor": 0
      },
      "text/plain": [
       "VBox()"
      ]
     },
     "metadata": {},
     "output_type": "display_data"
    },
    {
     "data": {
      "application/vnd.jupyter.widget-view+json": {
       "model_id": "",
       "version_major": 2,
       "version_minor": 0
      },
      "text/plain": [
       "FloatProgress(value=0.0, bar_style='info', description='Progress:', layout=Layout(height='25px', width='50%'),…"
      ]
     },
     "metadata": {},
     "output_type": "display_data"
    }
   ],
   "source": [
    "# create user_df with aggregated features grouping by userId and aggregate features\n",
    "# create new columns: cancelled, downgraded,sum_churn,sum_artists, sum_songs, sum_sessions, avg_items\n",
    "# sum_lenght, avg_lenght, sum_tup, sum_tdown, sum_friend, sum_playlist, sum_advert,sum_help\n",
    "\n",
    "\n",
    "user_df = df.groupby('userId')\\\n",
    "    .agg(\n",
    " # user_df features:\n",
    "    first(when(col('gender') == \"F\", 1).otherwise(0)).alias('gender'),\n",
    "    first(when(col('level') == \"paid\", 1).otherwise(0)).alias('level'),\n",
    "    F.sum(when(col('page') == \"Cancellation Confirmation\", 1).otherwise(0)).alias('cancelled'),\n",
    "    F.sum(when(col('page') == \"Submit Downgrade\", 1).otherwise(0)).alias('downgraded'),\n",
    "    F.sum(when((col('cancelled')==1) | (col('downgraded')==1),1).otherwise(0)).alias('sum_churn'),\n",
    "    F.sum(when(col('page') == \"NextSong\", 1).otherwise(0)).alias('sum_songs'),\n",
    "    F.sum(when(col('sessionId')> 1, 1).otherwise(0)).alias('sum_sessions'),\n",
    "    F.avg(when(col('itemInSession')> 1, 1).otherwise(0)).alias('avg_items'),\n",
    "    F.sum(when(col('length')>1, 1).otherwise(0)).alias('sum_length'),\n",
    "    F.avg(when(col('length')>1, 1).otherwise(0)).alias('avg_length'),\n",
    "    F.sum(when(col('page') == \"Thumbs Up\", 1).otherwise(0)).alias('sum_tup'),\n",
    "    F.sum(when(col('page') == \"Thumbs Down\", 1).otherwise(0)).alias('sum_tdown'),\n",
    "    F.sum(when(col('page') == \"Add Friend\", 1).otherwise(0)).alias('sum_friend'),\n",
    "    F.sum(when(col('page') == \"Add to Playlist\", 1).otherwise(0)).alias('sum_playlist'), \n",
    "    F.sum(when(col('page') == \"Roll Advert\", 1).otherwise(0)).alias('sum_advert'),\n",
    "    F.sum(when(col('page') == \"Error\", 1).otherwise(0)).alias('sum_errors'),\n",
    "    F.sum(when(col('page') == \"Help\", 1).otherwise(0)).alias('sum_help'))\n",
    "\n",
    "\n"
   ]
  },
  {
   "cell_type": "code",
   "execution_count": 58,
   "metadata": {},
   "outputs": [
    {
     "data": {
      "application/vnd.jupyter.widget-view+json": {
       "model_id": "56942dcd28b745ceae27e4f8ea9b02f7",
       "version_major": 2,
       "version_minor": 0
      },
      "text/plain": [
       "VBox()"
      ]
     },
     "metadata": {},
     "output_type": "display_data"
    },
    {
     "data": {
      "application/vnd.jupyter.widget-view+json": {
       "model_id": "",
       "version_major": 2,
       "version_minor": 0
      },
      "text/plain": [
       "FloatProgress(value=0.0, bar_style='info', description='Progress:', layout=Layout(height='25px', width='50%'),…"
      ]
     },
     "metadata": {},
     "output_type": "display_data"
    }
   ],
   "source": [
    "# join previously created features registered and active days in user_df \n",
    "temp_df = reg_days.join(active_days,['userId'])\n",
    "user_df = user_df.join(temp_df,['userId'])"
   ]
  },
  {
   "cell_type": "code",
   "execution_count": 59,
   "metadata": {},
   "outputs": [
    {
     "data": {
      "application/vnd.jupyter.widget-view+json": {
       "model_id": "df7da43d6ae14fbca5f188fe27a4b71f",
       "version_major": 2,
       "version_minor": 0
      },
      "text/plain": [
       "VBox()"
      ]
     },
     "metadata": {},
     "output_type": "display_data"
    },
    {
     "data": {
      "application/vnd.jupyter.widget-view+json": {
       "model_id": "",
       "version_major": 2,
       "version_minor": 0
      },
      "text/plain": [
       "FloatProgress(value=0.0, bar_style='info', description='Progress:', layout=Layout(height='25px', width='50%'),…"
      ]
     },
     "metadata": {},
     "output_type": "display_data"
    }
   ],
   "source": [
    "# create new churn value 0 or 1 instead of sum of churn values\n",
    "label = df.groupby('userId').agg(countDistinct('churn').alias('sum_churn')).dropDuplicates()\n",
    "label = label.groupby('userId')\\\n",
    "    .agg(first(when(col('sum_churn') > 1, 1).otherwise(0)).alias('churn'))\n",
    "\n"
   ]
  },
  {
   "cell_type": "code",
   "execution_count": 60,
   "metadata": {
    "scrolled": true
   },
   "outputs": [
    {
     "data": {
      "application/vnd.jupyter.widget-view+json": {
       "model_id": "bbfcf2edeee24074bf7f11e0f8bc7bbe",
       "version_major": 2,
       "version_minor": 0
      },
      "text/plain": [
       "VBox()"
      ]
     },
     "metadata": {},
     "output_type": "display_data"
    },
    {
     "data": {
      "application/vnd.jupyter.widget-view+json": {
       "model_id": "",
       "version_major": 2,
       "version_minor": 0
      },
      "text/plain": [
       "FloatProgress(value=0.0, bar_style='info', description='Progress:', layout=Layout(height='25px', width='50%'),…"
      ]
     },
     "metadata": {},
     "output_type": "display_data"
    }
   ],
   "source": [
    "# join label churn to user_df\n",
    "user_df = user_df.join(label, ['userId'])"
   ]
  },
  {
   "cell_type": "code",
   "execution_count": 61,
   "metadata": {},
   "outputs": [
    {
     "data": {
      "application/vnd.jupyter.widget-view+json": {
       "model_id": "4f98864b15734ec3bff2b8e3c4e2c2e2",
       "version_major": 2,
       "version_minor": 0
      },
      "text/plain": [
       "VBox()"
      ]
     },
     "metadata": {},
     "output_type": "display_data"
    },
    {
     "data": {
      "application/vnd.jupyter.widget-view+json": {
       "model_id": "",
       "version_major": 2,
       "version_minor": 0
      },
      "text/plain": [
       "FloatProgress(value=0.0, bar_style='info', description='Progress:', layout=Layout(height='25px', width='50%'),…"
      ]
     },
     "metadata": {},
     "output_type": "display_data"
    },
    {
     "name": "stdout",
     "output_type": "stream",
     "text": [
      "+------+------+-----+---------+----------+---------+---------+------------+---------+----------+----------+-------+---------+----------+------------+----------+----------+--------+--------+-----------+-----+\n",
      "|userId|gender|level|cancelled|downgraded|sum_churn|sum_songs|sum_sessions|avg_items|sum_length|avg_length|sum_tup|sum_tdown|sum_friend|sum_playlist|sum_advert|sum_errors|sum_help|reg_days|active_days|churn|\n",
      "+------+------+-----+---------+----------+---------+---------+------------+---------+----------+----------+-------+---------+----------+------------+----------+----------+--------+--------+-----------+-----+\n",
      "|     0|     0|    0|        0|         0|        0|        0|           0|        0|         0|         0|      0|        0|         0|           0|         0|         0|       0|       0|          0|    0|\n",
      "+------+------+-----+---------+----------+---------+---------+------------+---------+----------+----------+-------+---------+----------+------------+----------+----------+--------+--------+-----------+-----+"
     ]
    }
   ],
   "source": [
    "# now the whole dataset is ready for investigating features, so here is the last check for missing values\n",
    "user_df.select([count(when(isnull(c), c)).alias(c) for c in user_df.columns]).show()"
   ]
  },
  {
   "cell_type": "code",
   "execution_count": 64,
   "metadata": {},
   "outputs": [
    {
     "data": {
      "application/vnd.jupyter.widget-view+json": {
       "model_id": "9a0f4907cefd40ecaa220aadec3f6762",
       "version_major": 2,
       "version_minor": 0
      },
      "text/plain": [
       "VBox()"
      ]
     },
     "metadata": {},
     "output_type": "display_data"
    },
    {
     "data": {
      "application/vnd.jupyter.widget-view+json": {
       "model_id": "",
       "version_major": 2,
       "version_minor": 0
      },
      "text/plain": [
       "FloatProgress(value=0.0, bar_style='info', description='Progress:', layout=Layout(height='25px', width='50%'),…"
      ]
     },
     "metadata": {},
     "output_type": "display_data"
    },
    {
     "name": "stdout",
     "output_type": "stream",
     "text": [
      "22277"
     ]
    }
   ],
   "source": [
    "# checking rows of the dataset, count number is same as the individual customers\n",
    "user_df.count()"
   ]
  },
  {
   "cell_type": "code",
   "execution_count": 62,
   "metadata": {},
   "outputs": [
    {
     "data": {
      "application/vnd.jupyter.widget-view+json": {
       "model_id": "184349fd8e934ba48a25b5c093ea095f",
       "version_major": 2,
       "version_minor": 0
      },
      "text/plain": [
       "VBox()"
      ]
     },
     "metadata": {},
     "output_type": "display_data"
    },
    {
     "data": {
      "application/vnd.jupyter.widget-view+json": {
       "model_id": "",
       "version_major": 2,
       "version_minor": 0
      },
      "text/plain": [
       "FloatProgress(value=0.0, bar_style='info', description='Progress:', layout=Layout(height='25px', width='50%'),…"
      ]
     },
     "metadata": {},
     "output_type": "display_data"
    },
    {
     "name": "stdout",
     "output_type": "stream",
     "text": [
      "+------+---------+----------+---------+-----+\n",
      "|gender|cancelled|downgraded|sum_churn|count|\n",
      "+------+---------+----------+---------+-----+\n",
      "|     1|        0|         0|        0| 6350|\n",
      "|     0|        0|         0|        0| 6964|\n",
      "|     1|        1|         0|        1| 1788|\n",
      "|     1|        0|         1|        1| 1521|\n",
      "|     0|        1|         0|        1| 2072|\n",
      "|     0|        0|         1|        1| 1623|\n",
      "|     1|        1|         1|        2|  431|\n",
      "|     0|        1|         1|        2|  442|\n",
      "|     1|        0|         2|        2|  330|\n",
      "|     0|        0|         2|        2|  319|\n",
      "|     0|        1|         2|        3|  109|\n",
      "|     1|        0|         3|        3|   61|\n",
      "|     1|        1|         2|        3|   89|\n",
      "|     0|        0|         3|        3|   72|\n",
      "|     1|        1|         3|        4|   36|\n",
      "|     0|        1|         3|        4|   23|\n",
      "|     1|        0|         4|        4|   11|\n",
      "|     0|        0|         4|        4|   13|\n",
      "|     0|        0|         5|        5|    3|\n",
      "|     1|        0|         5|        5|    3|\n",
      "+------+---------+----------+---------+-----+\n",
      "only showing top 20 rows"
     ]
    }
   ],
   "source": [
    "# all variations of customers who are in churn (1 = Female, 0 = Male)\n",
    "churn = user_df.dropDuplicates(['userId', 'cancelled','downgraded','sum_churn']).groupby(['gender','cancelled','downgraded','sum_churn']).count().sort('sum_churn').show()"
   ]
  },
  {
   "cell_type": "markdown",
   "metadata": {},
   "source": [
    "As we can see in the table above, there are 1788 female and 2072 male customers who have canceled directly (not being downgraded first). This is the largest group in variations of churned customers with 3860 customers together.\n",
    "\n",
    "sum of churn 1\n",
    "The second biggest group of variations is customers who have downgraded once: 1521 female and 1623 male, together 3144 customers.\n",
    "\n",
    "sum of churn 2\n",
    "Customers who have downgraded once and canceled are 431 female and 442 male, together 873.\n",
    "\n",
    "sum of churn 3–5\n",
    "Some of the customers have downgraded 3 to 5 times and then canceled. This is not a big number of customers but would be interesting to search more. Customers in sum of churn group 3–5 together are: female 199, male 220"
   ]
  },
  {
   "cell_type": "code",
   "execution_count": 63,
   "metadata": {
    "scrolled": true
   },
   "outputs": [
    {
     "data": {
      "application/vnd.jupyter.widget-view+json": {
       "model_id": "49913d72436643f48c3b968c08c87227",
       "version_major": 2,
       "version_minor": 0
      },
      "text/plain": [
       "VBox()"
      ]
     },
     "metadata": {},
     "output_type": "display_data"
    },
    {
     "data": {
      "application/vnd.jupyter.widget-view+json": {
       "model_id": "",
       "version_major": 2,
       "version_minor": 0
      },
      "text/plain": [
       "FloatProgress(value=0.0, bar_style='info', description='Progress:', layout=Layout(height='25px', width='50%'),…"
      ]
     },
     "metadata": {},
     "output_type": "display_data"
    }
   ],
   "source": [
    "# save user_df copy for in case\n",
    "#user_df.write.mode('overwrite').save('s3://<BUCKET_NAME>/user_df1.json', format='json')"
   ]
  },
  {
   "cell_type": "markdown",
   "metadata": {},
   "source": [
    "# 5. Selecting features for Machine Learning\n",
    "\n",
    "I will perform correlation matrix, explore diffrences, and z-test.  "
   ]
  },
  {
   "cell_type": "code",
   "execution_count": 67,
   "metadata": {
    "scrolled": true
   },
   "outputs": [
    {
     "data": {
      "application/vnd.jupyter.widget-view+json": {
       "model_id": "9c76eeea17174d5d89e0e5ca0fb1364f",
       "version_major": 2,
       "version_minor": 0
      },
      "text/plain": [
       "VBox()"
      ]
     },
     "metadata": {},
     "output_type": "display_data"
    },
    {
     "data": {
      "application/vnd.jupyter.widget-view+json": {
       "model_id": "",
       "version_major": 2,
       "version_minor": 0
      },
      "text/plain": [
       "FloatProgress(value=0.0, bar_style='info', description='Progress:', layout=Layout(height='25px', width='50%'),…"
      ]
     },
     "metadata": {},
     "output_type": "display_data"
    }
   ],
   "source": [
    "# this dataset about 20k is easy to convert to Pandas data frame which \n",
    "# gives us easy options to make visuals\n",
    "features_to_pd = user_df.select('userId','gender', 'level','sum_songs', 'sum_sessions','sum_length','sum_tup',\\\n",
    "                                'sum_tdown','sum_friend','sum_playlist','sum_advert',\\\n",
    "                                'sum_errors','sum_help','avg_items','avg_length','reg_days','active_days','churn')\n",
    "features_pd = features_to_pd.toPandas() "
   ]
  },
  {
   "cell_type": "code",
   "execution_count": 68,
   "metadata": {},
   "outputs": [
    {
     "data": {
      "application/vnd.jupyter.widget-view+json": {
       "model_id": "c1c19928d51c46259513988e89aaf8fc",
       "version_major": 2,
       "version_minor": 0
      },
      "text/plain": [
       "VBox()"
      ]
     },
     "metadata": {},
     "output_type": "display_data"
    },
    {
     "data": {
      "application/vnd.jupyter.widget-view+json": {
       "model_id": "",
       "version_major": 2,
       "version_minor": 0
      },
      "text/plain": [
       "FloatProgress(value=0.0, bar_style='info', description='Progress:', layout=Layout(height='25px', width='50%'),…"
      ]
     },
     "metadata": {},
     "output_type": "display_data"
    },
    {
     "data": {
      "image/png": "[encoded data removed]",
      "text/plain": [
       "<IPython.core.display.Image object>"
      ]
     },
     "metadata": {},
     "output_type": "display_data"
    }
   ],
   "source": [
    "# create a correlation matrix\n",
    "plt.figure(figsize=(12,12))#,facecolor='white')\n",
    "corr = features_pd.corr(method='pearson')\n",
    "mask = np.zeros_like(corr)\n",
    "mask[np.triu_indices_from(mask)] = True\n",
    "sns.heatmap(corr,annot=True, fmt='.1f', square=True, mask = mask);\n",
    "%matplot plt"
   ]
  },
  {
   "cell_type": "markdown",
   "metadata": {},
   "source": [
    "From the correlation matrix above we can see a high correlation between the sum of sessions, sum of length, sum of thumbs up, sum of help, and sum of a playlist. This is quite natural because this kind of active use of service correlates between.\n",
    "\n",
    "Otherwise, we can see that level and gender have a weak correlation. Also, the correlation of the overall features between churned customers is weak. I will examine other differences next."
   ]
  },
  {
   "cell_type": "code",
   "execution_count": 70,
   "metadata": {
    "scrolled": true
   },
   "outputs": [
    {
     "data": {
      "application/vnd.jupyter.widget-view+json": {
       "model_id": "5d7c218c98604ea3b25e676437e10458",
       "version_major": 2,
       "version_minor": 0
      },
      "text/plain": [
       "VBox()"
      ]
     },
     "metadata": {},
     "output_type": "display_data"
    },
    {
     "data": {
      "application/vnd.jupyter.widget-view+json": {
       "model_id": "",
       "version_major": 2,
       "version_minor": 0
      },
      "text/plain": [
       "FloatProgress(value=0.0, bar_style='info', description='Progress:', layout=Layout(height='25px', width='50%'),…"
      ]
     },
     "metadata": {},
     "output_type": "display_data"
    },
    {
     "data": {
      "image/png": "[encoded data removed]",
      "text/plain": [
       "<IPython.core.display.Image object>"
      ]
     },
     "metadata": {},
     "output_type": "display_data"
    }
   ],
   "source": [
    "plt.figure(figsize=(12,16))#,facecolor='white')\n",
    "\n",
    "plt.subplot(4,2,1)\n",
    "sns.boxplot(x='churn',y='sum_tdown',hue='churn',data=features_pd)\n",
    "\n",
    "plt.subplot(4,2,2)\n",
    "sns.boxplot(x='churn',y='sum_advert',hue='churn',data=features_pd)\n",
    "\n",
    "plt.subplot(4,2,3)\n",
    "sns.boxplot(x='churn',y='sum_help',hue='churn',data=features_pd)\n",
    "\n",
    "plt.subplot(4,2,4)\n",
    "sns.boxplot(x='churn',y='sum_friend',hue='churn',data=features_pd)\n",
    "\n",
    "plt.subplot(4,2,5)\n",
    "sns.boxplot(x='churn',y='sum_playlist',hue='churn',data=features_pd)\n",
    "\n",
    "plt.subplot(4,2,6)\n",
    "sns.boxplot(x='churn',y='sum_sessions',hue='churn',data=features_pd)\n",
    "\n",
    "plt.subplot(4,2,7)\n",
    "sns.boxplot(x='churn',y='reg_days',hue='churn',data=features_pd)\n",
    "\n",
    "plt.subplot(4,2,8)\n",
    "sns.boxplot(x='churn',y='active_days',hue='churn',data=features_pd);\n",
    "%matplot plt"
   ]
  },
  {
   "cell_type": "markdown",
   "metadata": {},
   "source": [
    "From the graphs above we can notice some differences. The box plot range with customers who have not churned is more consistent, especially in the active day's plot. Form the box plots of the sum of thumbs down, the sum of advertisement and sum of help we can conduct, that these features have some impact to churn. We will see this in practice when we use machine learning models with enough data."
   ]
  },
  {
   "cell_type": "markdown",
   "metadata": {},
   "source": [
    "Next, a z-test will be performed for some features. Machine learning models will have their metrics, but I'm just testing as curiosity, how some features behave in z-test."
   ]
  },
  {
   "cell_type": "code",
   "execution_count": 111,
   "metadata": {},
   "outputs": [
    {
     "data": {
      "application/vnd.jupyter.widget-view+json": {
       "model_id": "70e2474640144fb69f1ba299069855b3",
       "version_major": 2,
       "version_minor": 0
      },
      "text/plain": [
       "VBox()"
      ]
     },
     "metadata": {},
     "output_type": "display_data"
    },
    {
     "data": {
      "application/vnd.jupyter.widget-view+json": {
       "model_id": "",
       "version_major": 2,
       "version_minor": 0
      },
      "text/plain": [
       "FloatProgress(value=0.0, bar_style='info', description='Progress:', layout=Layout(height='25px', width='50%'),…"
      ]
     },
     "metadata": {},
     "output_type": "display_data"
    }
   ],
   "source": [
    "# load dataset for setting up ML pipeline\n",
    "#user_df = spark.read.json('s3://<BUCKET_NAME>/user_df1.json')"
   ]
  },
  {
   "cell_type": "code",
   "execution_count": 112,
   "metadata": {},
   "outputs": [
    {
     "data": {
      "application/vnd.jupyter.widget-view+json": {
       "model_id": "86b8a73d9b8649d587a1d1f25881eb96",
       "version_major": 2,
       "version_minor": 0
      },
      "text/plain": [
       "VBox()"
      ]
     },
     "metadata": {},
     "output_type": "display_data"
    },
    {
     "data": {
      "application/vnd.jupyter.widget-view+json": {
       "model_id": "",
       "version_major": 2,
       "version_minor": 0
      },
      "text/plain": [
       "FloatProgress(value=0.0, bar_style='info', description='Progress:', layout=Layout(height='25px', width='50%'),…"
      ]
     },
     "metadata": {},
     "output_type": "display_data"
    }
   ],
   "source": [
    "# function to make proportions of desired column for z-test\n",
    "# testing desired column and churn\n",
    "def z_test(col_name):\n",
    "    \n",
    "    a = user_df.dropDuplicates(['userId', col_name]).where((col(col_name) ==1) & (user_df.churn == 0)).groupby([col_name]).count().collect()[0][1]\n",
    "    b = user_df.dropDuplicates(['userId', 'churn']).where((col(col_name) ==1) & (user_df.churn == 1)).groupby([col_name]).count().collect()[0][1]\n",
    "    c = user_df.dropDuplicates(['userId', col_name]).where((col(col_name) ==0) & (user_df.churn == 0)).groupby([col_name]).count().collect()[0][1]\n",
    "    d = user_df.dropDuplicates(['userId', 'churn']).where((col(col_name) ==0) & (user_df.churn == 1)).groupby([col_name]).count().collect()[0][1]\n",
    "    e = d+c\n",
    "    f = b+a\n",
    "    \n",
    "    result = proportions_ztest([d,b],[e,f],alternative='two-sided')\n",
    "    print('The z-test score is:{}'.format(result))"
   ]
  },
  {
   "cell_type": "code",
   "execution_count": 113,
   "metadata": {
    "collapsed": true
   },
   "outputs": [
    {
     "data": {
      "application/vnd.jupyter.widget-view+json": {
       "model_id": "b08bcf4161cd43c2a20f224bbba1ddf3",
       "version_major": 2,
       "version_minor": 0
      },
      "text/plain": [
       "VBox()"
      ]
     },
     "metadata": {},
     "output_type": "display_data"
    },
    {
     "data": {
      "application/vnd.jupyter.widget-view+json": {
       "model_id": "",
       "version_major": 2,
       "version_minor": 0
      },
      "text/plain": [
       "FloatProgress(value=0.0, bar_style='info', description='Progress:', layout=Layout(height='25px', width='50%'),…"
      ]
     },
     "metadata": {},
     "output_type": "display_data"
    },
    {
     "name": "stdout",
     "output_type": "stream",
     "text": [
      "The z-test score is:(-0.01917321957973281, 0.9847029213546922)"
     ]
    }
   ],
   "source": [
    "z_test('gender')"
   ]
  },
  {
   "cell_type": "code",
   "execution_count": 114,
   "metadata": {},
   "outputs": [
    {
     "data": {
      "application/vnd.jupyter.widget-view+json": {
       "model_id": "33bfa742f43144058152d5ed0b9000bd",
       "version_major": 2,
       "version_minor": 0
      },
      "text/plain": [
       "VBox()"
      ]
     },
     "metadata": {},
     "output_type": "display_data"
    },
    {
     "data": {
      "application/vnd.jupyter.widget-view+json": {
       "model_id": "",
       "version_major": 2,
       "version_minor": 0
      },
      "text/plain": [
       "FloatProgress(value=0.0, bar_style='info', description='Progress:', layout=Layout(height='25px', width='50%'),…"
      ]
     },
     "metadata": {},
     "output_type": "display_data"
    },
    {
     "name": "stdout",
     "output_type": "stream",
     "text": [
      "The z-test score is:(-12.877791715707222, 6.002862863310314e-38)"
     ]
    }
   ],
   "source": [
    "z_test('level')"
   ]
  },
  {
   "cell_type": "code",
   "execution_count": 115,
   "metadata": {},
   "outputs": [
    {
     "data": {
      "application/vnd.jupyter.widget-view+json": {
       "model_id": "07e45af2ef194ce695991cc79366072e",
       "version_major": 2,
       "version_minor": 0
      },
      "text/plain": [
       "VBox()"
      ]
     },
     "metadata": {},
     "output_type": "display_data"
    },
    {
     "data": {
      "application/vnd.jupyter.widget-view+json": {
       "model_id": "",
       "version_major": 2,
       "version_minor": 0
      },
      "text/plain": [
       "FloatProgress(value=0.0, bar_style='info', description='Progress:', layout=Layout(height='25px', width='50%'),…"
      ]
     },
     "metadata": {},
     "output_type": "display_data"
    },
    {
     "name": "stdout",
     "output_type": "stream",
     "text": [
      "The z-test score is:(-2.3397021879056923, 0.019299122226508286)"
     ]
    }
   ],
   "source": [
    "z_test('sum_tdown')"
   ]
  },
  {
   "cell_type": "code",
   "execution_count": 116,
   "metadata": {},
   "outputs": [
    {
     "data": {
      "application/vnd.jupyter.widget-view+json": {
       "model_id": "77fdefe3439a40e88ed43b40774652a7",
       "version_major": 2,
       "version_minor": 0
      },
      "text/plain": [
       "VBox()"
      ]
     },
     "metadata": {},
     "output_type": "display_data"
    },
    {
     "data": {
      "application/vnd.jupyter.widget-view+json": {
       "model_id": "",
       "version_major": 2,
       "version_minor": 0
      },
      "text/plain": [
       "FloatProgress(value=0.0, bar_style='info', description='Progress:', layout=Layout(height='25px', width='50%'),…"
      ]
     },
     "metadata": {},
     "output_type": "display_data"
    },
    {
     "name": "stdout",
     "output_type": "stream",
     "text": [
      "The z-test score is:(0.791601274890469, 0.4285932033269575)"
     ]
    }
   ],
   "source": [
    "z_test('sum_tup')"
   ]
  },
  {
   "cell_type": "markdown",
   "metadata": {},
   "source": [
    "\n",
    "\n",
    "After the correlation matrix, graphs of differences, and z-test, I decided to drop out from features variables gender and level. Also, I'm willing to keep other features even though some of them had weak correlations. A big dataset in machine learning might build a good model anyway."
   ]
  },
  {
   "cell_type": "markdown",
   "metadata": {},
   "source": [
    "# 6. Modeling\n",
    "\n",
    "Splitting the full dataset into train, test, and validation sets. Testing out three machine learning models. Evaluating f1 score, the accuracy of the various models, and tuning parameters for the models. Determining the winning model based on test accuracy and report results on the validation set. \n",
    "\n",
    "I will build 3 models:\n",
    "\n",
    "Logistic Regression Classifier\n",
    "\n",
    "Random Forest Classifier\n",
    "\n",
    "Gradient Boosted Tree Classifier\n",
    "\n"
   ]
  },
  {
   "cell_type": "code",
   "execution_count": 99,
   "metadata": {},
   "outputs": [
    {
     "data": {
      "application/vnd.jupyter.widget-view+json": {
       "model_id": "55037312acec484fb59dff73bec82344",
       "version_major": 2,
       "version_minor": 0
      },
      "text/plain": [
       "VBox()"
      ]
     },
     "metadata": {},
     "output_type": "display_data"
    },
    {
     "data": {
      "application/vnd.jupyter.widget-view+json": {
       "model_id": "",
       "version_major": 2,
       "version_minor": 0
      },
      "text/plain": [
       "FloatProgress(value=0.0, bar_style='info', description='Progress:', layout=Layout(height='25px', width='50%'),…"
      ]
     },
     "metadata": {},
     "output_type": "display_data"
    }
   ],
   "source": [
    "# load dataset for setting up ML pipeline\n",
    "#user_df = spark.read.json('s3://<BUCKET_NAME>/user_df1.json')"
   ]
  },
  {
   "cell_type": "code",
   "execution_count": 76,
   "metadata": {
    "scrolled": false
   },
   "outputs": [
    {
     "data": {
      "application/vnd.jupyter.widget-view+json": {
       "model_id": "42dde4adab464db09370ff993c09a9a0",
       "version_major": 2,
       "version_minor": 0
      },
      "text/plain": [
       "VBox()"
      ]
     },
     "metadata": {},
     "output_type": "display_data"
    },
    {
     "data": {
      "application/vnd.jupyter.widget-view+json": {
       "model_id": "",
       "version_major": 2,
       "version_minor": 0
      },
      "text/plain": [
       "FloatProgress(value=0.0, bar_style='info', description='Progress:', layout=Layout(height='25px', width='50%'),…"
      ]
     },
     "metadata": {},
     "output_type": "display_data"
    },
    {
     "name": "stdout",
     "output_type": "stream",
     "text": [
      "DataFrame[active_days: double, avg_items: double, avg_length: double, cancelled: bigint, churn: bigint, downgraded: bigint, gender: bigint, level: bigint, reg_days: double, sum_advert: bigint, sum_churn: bigint, sum_errors: bigint, sum_friend: bigint, sum_help: bigint, sum_length: bigint, sum_playlist: bigint, sum_sessions: bigint, sum_songs: bigint, sum_tdown: bigint, sum_tup: bigint, userId: string]"
     ]
    }
   ],
   "source": [
    "# checking columns and data types\n",
    "user_df.persist()"
   ]
  },
  {
   "cell_type": "code",
   "execution_count": 100,
   "metadata": {},
   "outputs": [
    {
     "data": {
      "application/vnd.jupyter.widget-view+json": {
       "model_id": "6990730f35414f6894fd7e4212fbf087",
       "version_major": 2,
       "version_minor": 0
      },
      "text/plain": [
       "VBox()"
      ]
     },
     "metadata": {},
     "output_type": "display_data"
    },
    {
     "data": {
      "application/vnd.jupyter.widget-view+json": {
       "model_id": "",
       "version_major": 2,
       "version_minor": 0
      },
      "text/plain": [
       "FloatProgress(value=0.0, bar_style='info', description='Progress:', layout=Layout(height='25px', width='50%'),…"
      ]
     },
     "metadata": {},
     "output_type": "display_data"
    }
   ],
   "source": [
    "# drop columns for ML as mentioned above \n",
    "user_df = user_df.drop('gender','level','sum_advert','userId', 'cancelled','downgraded','sum_churn')\n"
   ]
  },
  {
   "cell_type": "markdown",
   "metadata": {},
   "source": [
    "### Building a pipeline for models"
   ]
  },
  {
   "cell_type": "code",
   "execution_count": 101,
   "metadata": {},
   "outputs": [
    {
     "data": {
      "application/vnd.jupyter.widget-view+json": {
       "model_id": "5ca14a2f55ab4f7386beb981dbb5b8a2",
       "version_major": 2,
       "version_minor": 0
      },
      "text/plain": [
       "VBox()"
      ]
     },
     "metadata": {},
     "output_type": "display_data"
    },
    {
     "data": {
      "application/vnd.jupyter.widget-view+json": {
       "model_id": "",
       "version_major": 2,
       "version_minor": 0
      },
      "text/plain": [
       "FloatProgress(value=0.0, bar_style='info', description='Progress:', layout=Layout(height='25px', width='50%'),…"
      ]
     },
     "metadata": {},
     "output_type": "display_data"
    }
   ],
   "source": [
    "# setting features, split dataset to train and test\n",
    "features = [col for col in user_df.columns if col!='churn'] \n",
    "\n",
    "train, test = user_df.randomSplit([0.8, 0.2], seed=42)\n",
    "train = train.cache()"
   ]
  },
  {
   "cell_type": "code",
   "execution_count": 102,
   "metadata": {},
   "outputs": [
    {
     "data": {
      "application/vnd.jupyter.widget-view+json": {
       "model_id": "7209e4ab0edf4ee2abd506fdfacac72b",
       "version_major": 2,
       "version_minor": 0
      },
      "text/plain": [
       "VBox()"
      ]
     },
     "metadata": {},
     "output_type": "display_data"
    },
    {
     "data": {
      "application/vnd.jupyter.widget-view+json": {
       "model_id": "",
       "version_major": 2,
       "version_minor": 0
      },
      "text/plain": [
       "FloatProgress(value=0.0, bar_style='info', description='Progress:', layout=Layout(height='25px', width='50%'),…"
      ]
     },
     "metadata": {},
     "output_type": "display_data"
    }
   ],
   "source": [
    "def model_pipeline(clf, params):\n",
    "    \"\"\"\n",
    "    Create features as vectors\n",
    "    Standardize vectorized features\n",
    "    Create a pipeline to build a ML models\n",
    "    \"\"\"\n",
    "    assembler = VectorAssembler(inputCols=features, outputCol='vect_features')\n",
    "    scaler = StandardScaler(inputCol='vect_features', outputCol='scaled_features',withStd = True)\n",
    "    #scaler = MinMaxScaler(inputCol='vect_features1', outputCol='scaled_features1')\n",
    "    pipeline = Pipeline(stages=[assembler, scaler, clf])\n",
    "\n",
    "    model = CrossValidator(\n",
    "        estimator=pipeline,\n",
    "        estimatorParamMaps=params,\n",
    "        evaluator = MulticlassClassificationEvaluator(labelCol='churn', metricName='f1'),\n",
    "        numFolds=3,\n",
    "    )\n",
    "    return model"
   ]
  },
  {
   "cell_type": "code",
   "execution_count": 103,
   "metadata": {},
   "outputs": [
    {
     "data": {
      "application/vnd.jupyter.widget-view+json": {
       "model_id": "bd3ed8dc57304e689c21a31bc0711806",
       "version_major": 2,
       "version_minor": 0
      },
      "text/plain": [
       "VBox()"
      ]
     },
     "metadata": {},
     "output_type": "display_data"
    },
    {
     "data": {
      "application/vnd.jupyter.widget-view+json": {
       "model_id": "",
       "version_major": 2,
       "version_minor": 0
      },
      "text/plain": [
       "FloatProgress(value=0.0, bar_style='info', description='Progress:', layout=Layout(height='25px', width='50%'),…"
      ]
     },
     "metadata": {},
     "output_type": "display_data"
    }
   ],
   "source": [
    "# evaluation metrics for ML models\n",
    "def model_metrics(pred_model):\n",
    "   \n",
    "    evaluator = MulticlassClassificationEvaluator(predictionCol = 'prediction',labelCol='churn')\n",
    "    print('The metrics for the model:')\n",
    "    print('The f1 Score is {}'.format(evaluator.evaluate(pred_model, {evaluator.metricName : 'f1'})))\n",
    "    print('The accuracy is {}'.format(evaluator.evaluate(pred_model, {evaluator.metricName : 'accuracy'})))\n",
    "\n",
    "    auc_evaluator = BinaryClassificationEvaluator(labelCol='churn')\n",
    "    metric = auc_evaluator.evaluate(pred_model, {auc_evaluator.metricName: 'areaUnderROC'})\n",
    "    print('The areaUnderROC: {:.2%}'.format(metric))\n",
    "    "
   ]
  },
  {
   "cell_type": "markdown",
   "metadata": {},
   "source": [
    "#### logistic regression classifier"
   ]
  },
  {
   "cell_type": "code",
   "execution_count": 81,
   "metadata": {},
   "outputs": [
    {
     "data": {
      "application/vnd.jupyter.widget-view+json": {
       "model_id": "b7331d6e40694822a08d62d63adb4905",
       "version_major": 2,
       "version_minor": 0
      },
      "text/plain": [
       "VBox()"
      ]
     },
     "metadata": {},
     "output_type": "display_data"
    },
    {
     "data": {
      "application/vnd.jupyter.widget-view+json": {
       "model_id": "",
       "version_major": 2,
       "version_minor": 0
      },
      "text/plain": [
       "FloatProgress(value=0.0, bar_style='info', description='Progress:', layout=Layout(height='25px', width='50%'),…"
      ]
     },
     "metadata": {},
     "output_type": "display_data"
    }
   ],
   "source": [
    "# logistic regression classifier\n",
    "mod1 = LogisticRegression(featuresCol='scaled_features', labelCol='churn')\n",
    "mod1_param = ParamGridBuilder().build()\n",
    "model_lr = model_pipeline(mod1, mod1_param)\n",
    "# fit logistic regression \n",
    "cv_model_lr = model_lr.fit(train)\n",
    "# predict logistic regression \n",
    "pred_lr = cv_model_lr.transform(test)"
   ]
  },
  {
   "cell_type": "markdown",
   "metadata": {},
   "source": [
    "#### random forest classifier"
   ]
  },
  {
   "cell_type": "code",
   "execution_count": 83,
   "metadata": {},
   "outputs": [
    {
     "data": {
      "application/vnd.jupyter.widget-view+json": {
       "model_id": "3ed156e77df3469f9d3e478c33f31a46",
       "version_major": 2,
       "version_minor": 0
      },
      "text/plain": [
       "VBox()"
      ]
     },
     "metadata": {},
     "output_type": "display_data"
    },
    {
     "data": {
      "application/vnd.jupyter.widget-view+json": {
       "model_id": "",
       "version_major": 2,
       "version_minor": 0
      },
      "text/plain": [
       "FloatProgress(value=0.0, bar_style='info', description='Progress:', layout=Layout(height='25px', width='50%'),…"
      ]
     },
     "metadata": {},
     "output_type": "display_data"
    }
   ],
   "source": [
    "# random forest classifier\n",
    "mod2 = RandomForestClassifier(featuresCol='scaled_features', labelCol='churn')\n",
    "mod2_param = ParamGridBuilder().build()\n",
    "model_rf = model_pipeline(mod2, mod2_param)\n",
    "# fit random forest\n",
    "cv_model_rf = model_rf.fit(train)\n",
    "# predict random forest\n",
    "pred_rf = cv_model_rf.transform(test)"
   ]
  },
  {
   "cell_type": "markdown",
   "metadata": {},
   "source": [
    "#### gradient boost classifier"
   ]
  },
  {
   "cell_type": "code",
   "execution_count": 84,
   "metadata": {},
   "outputs": [
    {
     "data": {
      "application/vnd.jupyter.widget-view+json": {
       "model_id": "7da4660e27364908b0012993e8547a0a",
       "version_major": 2,
       "version_minor": 0
      },
      "text/plain": [
       "VBox()"
      ]
     },
     "metadata": {},
     "output_type": "display_data"
    },
    {
     "data": {
      "application/vnd.jupyter.widget-view+json": {
       "model_id": "",
       "version_major": 2,
       "version_minor": 0
      },
      "text/plain": [
       "FloatProgress(value=0.0, bar_style='info', description='Progress:', layout=Layout(height='25px', width='50%'),…"
      ]
     },
     "metadata": {},
     "output_type": "display_data"
    }
   ],
   "source": [
    "# gradient boosted tree classifier\n",
    "mod3 =GBTClassifier(featuresCol='scaled_features', labelCol='churn')\n",
    "mod3_param = ParamGridBuilder().build()\n",
    "model_gb = model_pipeline(mod3, mod3_param)\n",
    "# fit gradient boost\n",
    "cv_model_gb = model_gb.fit(train)\n",
    "# predict gradient boost\n",
    "pred_gb = cv_model_gb.transform(test)"
   ]
  },
  {
   "cell_type": "markdown",
   "metadata": {},
   "source": [
    "#### metrics for the logistic regression classifier"
   ]
  },
  {
   "cell_type": "code",
   "execution_count": 85,
   "metadata": {},
   "outputs": [
    {
     "data": {
      "application/vnd.jupyter.widget-view+json": {
       "model_id": "d5e5d7d69dcf4b00bc0f21f1573d20af",
       "version_major": 2,
       "version_minor": 0
      },
      "text/plain": [
       "VBox()"
      ]
     },
     "metadata": {},
     "output_type": "display_data"
    },
    {
     "data": {
      "application/vnd.jupyter.widget-view+json": {
       "model_id": "",
       "version_major": 2,
       "version_minor": 0
      },
      "text/plain": [
       "FloatProgress(value=0.0, bar_style='info', description='Progress:', layout=Layout(height='25px', width='50%'),…"
      ]
     },
     "metadata": {},
     "output_type": "display_data"
    },
    {
     "name": "stdout",
     "output_type": "stream",
     "text": [
      "The metrics for the model:\n",
      "The f1 Score is 0.7314710495341883\n",
      "The accuracy is 0.7375790424570913\n",
      "The areaUnderROC: 78.87%"
     ]
    }
   ],
   "source": [
    "# metrics for the logistic regression classifier\n",
    "model_metrics(pred_lr)"
   ]
  },
  {
   "cell_type": "markdown",
   "metadata": {},
   "source": [
    "#### metrics for the random forrest classifier"
   ]
  },
  {
   "cell_type": "code",
   "execution_count": 86,
   "metadata": {},
   "outputs": [
    {
     "data": {
      "application/vnd.jupyter.widget-view+json": {
       "model_id": "9a85b02e5cb14d2ba2136c6b4158ba29",
       "version_major": 2,
       "version_minor": 0
      },
      "text/plain": [
       "VBox()"
      ]
     },
     "metadata": {},
     "output_type": "display_data"
    },
    {
     "data": {
      "application/vnd.jupyter.widget-view+json": {
       "model_id": "",
       "version_major": 2,
       "version_minor": 0
      },
      "text/plain": [
       "FloatProgress(value=0.0, bar_style='info', description='Progress:', layout=Layout(height='25px', width='50%'),…"
      ]
     },
     "metadata": {},
     "output_type": "display_data"
    },
    {
     "name": "stdout",
     "output_type": "stream",
     "text": [
      "The metrics for the model:\n",
      "The f1 Score is 0.7325213185075448\n",
      "The accuracy is 0.741869918699187\n",
      "The areaUnderROC: 79.62%"
     ]
    }
   ],
   "source": [
    "# metrics for the random forrest classifier\n",
    "model_metrics(pred_rf)"
   ]
  },
  {
   "cell_type": "markdown",
   "metadata": {},
   "source": [
    "#### metrics for the gradient boosted tree classifier"
   ]
  },
  {
   "cell_type": "code",
   "execution_count": 87,
   "metadata": {},
   "outputs": [
    {
     "data": {
      "application/vnd.jupyter.widget-view+json": {
       "model_id": "4f137b9d44aa4dc2be5b6626ef8de817",
       "version_major": 2,
       "version_minor": 0
      },
      "text/plain": [
       "VBox()"
      ]
     },
     "metadata": {},
     "output_type": "display_data"
    },
    {
     "data": {
      "application/vnd.jupyter.widget-view+json": {
       "model_id": "",
       "version_major": 2,
       "version_minor": 0
      },
      "text/plain": [
       "FloatProgress(value=0.0, bar_style='info', description='Progress:', layout=Layout(height='25px', width='50%'),…"
      ]
     },
     "metadata": {},
     "output_type": "display_data"
    },
    {
     "name": "stdout",
     "output_type": "stream",
     "text": [
      "The metrics for the model:\n",
      "The f1 Score is 0.7585953466085313\n",
      "The accuracy is 0.7624209575429087\n",
      "The areaUnderROC: 82.81%"
     ]
    }
   ],
   "source": [
    "# metrics for the gradient boosted tree classifier\n",
    "model_metrics(pred_gb)"
   ]
  },
  {
   "cell_type": "markdown",
   "metadata": {},
   "source": [
    "**Note** All of these models have good metrics even they are made by default settings. Next, these models will be tuned for the final ranking."
   ]
  },
  {
   "cell_type": "markdown",
   "metadata": {},
   "source": [
    "#### Tuning the logistic regression classifier"
   ]
  },
  {
   "cell_type": "code",
   "execution_count": 88,
   "metadata": {},
   "outputs": [
    {
     "data": {
      "application/vnd.jupyter.widget-view+json": {
       "model_id": "06985a9806404fa19c1fc17d55ee10e6",
       "version_major": 2,
       "version_minor": 0
      },
      "text/plain": [
       "VBox()"
      ]
     },
     "metadata": {},
     "output_type": "display_data"
    },
    {
     "data": {
      "application/vnd.jupyter.widget-view+json": {
       "model_id": "",
       "version_major": 2,
       "version_minor": 0
      },
      "text/plain": [
       "FloatProgress(value=0.0, bar_style='info', description='Progress:', layout=Layout(height='25px', width='50%'),…"
      ]
     },
     "metadata": {},
     "output_type": "display_data"
    }
   ],
   "source": [
    "# tuning logistic regression classifier\n",
    "# https://spark.apache.org/docs/latest/ml-tuning.html\n",
    "lr_tuned = LogisticRegression(featuresCol='scaled_features', labelCol='churn')\n",
    "param_grid_tuned_lr = ParamGridBuilder()\\\n",
    "    .addGrid(lr_tuned.regParam, [0.1, 0.01]) \\\n",
    "    .addGrid(lr_tuned.fitIntercept, [False, True])\\\n",
    "    .build()\n",
    "    #.addGrid(lr_tuned.elasticNetParam, [0.0, 0.5, 1.0])\\\n",
    "    \n",
    "model_lr_tuned = model_pipeline(lr_tuned, param_grid_tuned_lr)\n"
   ]
  },
  {
   "cell_type": "code",
   "execution_count": 89,
   "metadata": {},
   "outputs": [
    {
     "data": {
      "application/vnd.jupyter.widget-view+json": {
       "model_id": "3098ba4b03314682a3f2ad5ec0eac0c3",
       "version_major": 2,
       "version_minor": 0
      },
      "text/plain": [
       "VBox()"
      ]
     },
     "metadata": {},
     "output_type": "display_data"
    },
    {
     "data": {
      "application/vnd.jupyter.widget-view+json": {
       "model_id": "",
       "version_major": 2,
       "version_minor": 0
      },
      "text/plain": [
       "FloatProgress(value=0.0, bar_style='info', description='Progress:', layout=Layout(height='25px', width='50%'),…"
      ]
     },
     "metadata": {},
     "output_type": "display_data"
    }
   ],
   "source": [
    "# fit tuned best logistic regression\n",
    "cv_model_lr_tuned = model_lr_tuned.fit(train)\n",
    "best_model = cv_model_lr_tuned.bestModel\n",
    "\n",
    "# predict tuned best logistic regression\n",
    "pred_best_model = best_model.transform(test)"
   ]
  },
  {
   "cell_type": "code",
   "execution_count": 90,
   "metadata": {},
   "outputs": [
    {
     "data": {
      "application/vnd.jupyter.widget-view+json": {
       "model_id": "cedbf5ca847344cab71e3add8273c51b",
       "version_major": 2,
       "version_minor": 0
      },
      "text/plain": [
       "VBox()"
      ]
     },
     "metadata": {},
     "output_type": "display_data"
    },
    {
     "data": {
      "application/vnd.jupyter.widget-view+json": {
       "model_id": "",
       "version_major": 2,
       "version_minor": 0
      },
      "text/plain": [
       "FloatProgress(value=0.0, bar_style='info', description='Progress:', layout=Layout(height='25px', width='50%'),…"
      ]
     },
     "metadata": {},
     "output_type": "display_data"
    },
    {
     "name": "stdout",
     "output_type": "stream",
     "text": [
      "The metrics for the model:\n",
      "The f1 Score is 0.7221227065246013\n",
      "The accuracy is 0.7299006323396567\n",
      "The areaUnderROC: 77.53%"
     ]
    }
   ],
   "source": [
    "# metrics for tuned best logistic regression classifier\n",
    "model_metrics(pred_best_model)"
   ]
  },
  {
   "cell_type": "markdown",
   "metadata": {},
   "source": [
    "#### Tuning the random forest classifier"
   ]
  },
  {
   "cell_type": "code",
   "execution_count": 106,
   "metadata": {},
   "outputs": [
    {
     "data": {
      "application/vnd.jupyter.widget-view+json": {
       "model_id": "9f52e2cef9a34a79a61d9df51c70431f",
       "version_major": 2,
       "version_minor": 0
      },
      "text/plain": [
       "VBox()"
      ]
     },
     "metadata": {},
     "output_type": "display_data"
    },
    {
     "data": {
      "application/vnd.jupyter.widget-view+json": {
       "model_id": "",
       "version_major": 2,
       "version_minor": 0
      },
      "text/plain": [
       "FloatProgress(value=0.0, bar_style='info', description='Progress:', layout=Layout(height='25px', width='50%'),…"
      ]
     },
     "metadata": {},
     "output_type": "display_data"
    }
   ],
   "source": [
    "# tuning random forest classifier\n",
    "def tune_pipeline(train, test, numTrees=[10,75], maxDepth=[5,20]):\n",
    "    \"\"\"\n",
    "    Create features as vectors\n",
    "    Standardize vectorized features\n",
    "    Create a pipeline to build the random forest classifier\n",
    "    \"\"\"\n",
    "    assembler = VectorAssembler(inputCols=features, outputCol='vect_features')\n",
    "    scaler = StandardScaler(inputCol='vect_features', outputCol='scaled_features',withStd = True)\n",
    "    #scaler = MinMaxScaler(inputCol='vect_features1', outputCol='scaled_features1')\n",
    "    \n",
    "    clf = RandomForestClassifier(featuresCol='scaled_features', labelCol='churn')\n",
    "    \n",
    "\n",
    "        \n",
    "    param_grid_tuned = ParamGridBuilder()\\\n",
    "    .addGrid(clf.numTrees,numTrees)\\\n",
    "    .addGrid(clf.maxDepth,maxDepth).build()\n",
    "\n",
    "    mod = CrossValidator(\n",
    "        estimator = Pipeline(stages=[assembler,scaler, clf]),\n",
    "        estimatorParamMaps=param_grid_tuned,\n",
    "        evaluator = MulticlassClassificationEvaluator(labelCol='churn', metricName='f1'),\n",
    "        numFolds=3,\n",
    "    )\n",
    "    \n",
    "    cvModel = mod.fit(train)\n",
    "    predictions = cvModel.transform(test)\n",
    "    \n",
    "    model_metrics(predictions)\n",
    "    \n",
    "    bestPipeline = cvModel.bestModel\n",
    "    \n",
    "    # print importances of features\n",
    "    for i in range(len(bestPipeline.stages[2].featureImportances)):\n",
    "        print(\"{} : {} \\n\".format(features[i], bestPipeline.stages[2].featureImportances[i]))\n",
    "    \n",
    "    print('Best parameters : max depth:{}, num Trees:{}'.\\\n",
    "          format(bestPipeline.stages[2].getOrDefault('maxDepth'), bestPipeline.stages[2].getNumTrees))\n",
    "    "
   ]
  },
  {
   "cell_type": "code",
   "execution_count": 107,
   "metadata": {},
   "outputs": [
    {
     "data": {
      "application/vnd.jupyter.widget-view+json": {
       "model_id": "a12f19b411f34a34995698903eccaeab",
       "version_major": 2,
       "version_minor": 0
      },
      "text/plain": [
       "VBox()"
      ]
     },
     "metadata": {},
     "output_type": "display_data"
    },
    {
     "data": {
      "application/vnd.jupyter.widget-view+json": {
       "model_id": "",
       "version_major": 2,
       "version_minor": 0
      },
      "text/plain": [
       "FloatProgress(value=0.0, bar_style='info', description='Progress:', layout=Layout(height='25px', width='50%'),…"
      ]
     },
     "metadata": {},
     "output_type": "display_data"
    },
    {
     "name": "stdout",
     "output_type": "stream",
     "text": [
      "The metrics for the model:\n",
      "The f1 Score is 0.7649560407391017\n",
      "The accuracy is 0.7685185185185185\n",
      "The areaUnderROC: 82.94%\n",
      "active_days : 0.17399743987396252 \n",
      "\n",
      "avg_items : 0.09154393124396465 \n",
      "\n",
      "avg_length : 0.09657002910326234 \n",
      "\n",
      "reg_days : 0.11004459427580472 \n",
      "\n",
      "sum_errors : 0.03248889617060959 \n",
      "\n",
      "sum_friend : 0.06471308279798062 \n",
      "\n",
      "sum_help : 0.05280599430081901 \n",
      "\n",
      "sum_length : 0.046876995591892644 \n",
      "\n",
      "sum_playlist : 0.05428894890305349 \n",
      "\n",
      "sum_sessions : 0.06284010779119717 \n",
      "\n",
      "sum_songs : 0.042276255878755366 \n",
      "\n",
      "sum_tdown : 0.1040576598865753 \n",
      "\n",
      "sum_tup : 0.06749606418212248 \n",
      "\n",
      "Best parameters : max depth:20, num Trees:75"
     ]
    }
   ],
   "source": [
    "tune_pipeline(train,test)"
   ]
  },
  {
   "cell_type": "markdown",
   "metadata": {},
   "source": [
    "#### Tuning the gradient boosted tree classifier"
   ]
  },
  {
   "cell_type": "code",
   "execution_count": 108,
   "metadata": {
    "scrolled": true
   },
   "outputs": [
    {
     "data": {
      "application/vnd.jupyter.widget-view+json": {
       "model_id": "e0e1efc517d24460849be798428e7e5e",
       "version_major": 2,
       "version_minor": 0
      },
      "text/plain": [
       "VBox()"
      ]
     },
     "metadata": {},
     "output_type": "display_data"
    },
    {
     "data": {
      "application/vnd.jupyter.widget-view+json": {
       "model_id": "",
       "version_major": 2,
       "version_minor": 0
      },
      "text/plain": [
       "FloatProgress(value=0.0, bar_style='info', description='Progress:', layout=Layout(height='25px', width='50%'),…"
      ]
     },
     "metadata": {},
     "output_type": "display_data"
    }
   ],
   "source": [
    "# tuning gradient boosted tree classifier\n",
    "gb_tuned = GBTClassifier(featuresCol='scaled_features', labelCol='churn', seed = 42)\n",
    "\n",
    "param_grid_tuned_gb = ParamGridBuilder().\\\n",
    "addGrid(gb_tuned.maxIter, [10, 15, 20])\\\n",
    ".addGrid(gb_tuned.maxDepth, [5, 10]).build()\n",
    "\n",
    "model_gb_tuned = model_pipeline(gb_tuned, param_grid_tuned_gb)"
   ]
  },
  {
   "cell_type": "code",
   "execution_count": 109,
   "metadata": {},
   "outputs": [
    {
     "data": {
      "application/vnd.jupyter.widget-view+json": {
       "model_id": "25b20434873242f682fb323f2d921933",
       "version_major": 2,
       "version_minor": 0
      },
      "text/plain": [
       "VBox()"
      ]
     },
     "metadata": {},
     "output_type": "display_data"
    },
    {
     "data": {
      "application/vnd.jupyter.widget-view+json": {
       "model_id": "",
       "version_major": 2,
       "version_minor": 0
      },
      "text/plain": [
       "FloatProgress(value=0.0, bar_style='info', description='Progress:', layout=Layout(height='25px', width='50%'),…"
      ]
     },
     "metadata": {},
     "output_type": "display_data"
    }
   ],
   "source": [
    "# fit tuned gradient boosted tree classifier\n",
    "cv_model_gb_tuned = model_gb_tuned.fit(train)\n",
    "best_model_gb = cv_model_gb_tuned.bestModel\n",
    "\n",
    "# predict tuned best gradient boosted tree classifier\n",
    "pred_best_model_gb = best_model_gb.transform(test)"
   ]
  },
  {
   "cell_type": "code",
   "execution_count": 110,
   "metadata": {},
   "outputs": [
    {
     "data": {
      "application/vnd.jupyter.widget-view+json": {
       "model_id": "92c2ee7fa4764996919782d72c769036",
       "version_major": 2,
       "version_minor": 0
      },
      "text/plain": [
       "VBox()"
      ]
     },
     "metadata": {},
     "output_type": "display_data"
    },
    {
     "data": {
      "application/vnd.jupyter.widget-view+json": {
       "model_id": "",
       "version_major": 2,
       "version_minor": 0
      },
      "text/plain": [
       "FloatProgress(value=0.0, bar_style='info', description='Progress:', layout=Layout(height='25px', width='50%'),…"
      ]
     },
     "metadata": {},
     "output_type": "display_data"
    },
    {
     "name": "stdout",
     "output_type": "stream",
     "text": [
      "The metrics for the model:\n",
      "The f1 Score is 0.753220262022058\n",
      "The accuracy is 0.757226738934056\n",
      "The areaUnderROC: 82.53%"
     ]
    }
   ],
   "source": [
    "# metrics for tuned best gradient boosted tree classifier\n",
    "model_metrics(pred_best_model_gb)"
   ]
  },
  {
   "cell_type": "markdown",
   "metadata": {},
   "source": [
    "# 7. Conclusions\n",
    "\n",
    "Logistic regression classifier, random forest classifier, and gradient boosted tree classifier had good metrics. Hyperparameter tuning helped the random forest classifier be the winner. Metrics were:\n",
    "\n",
    "The f1 Score is 0.7649560407391017\n",
    "The accuracy is 0.7685185185185185\n",
    "The areaUnderROC: 82.94%\n",
    "\n",
    "The features importances showed that registration days and active days have an impact on churned customers. These features should be evaluated in the future, that we could engineer other time-based variables such as days when downgraded and days when upgraded. Clearly, an independent feature that metrics churn is clicking thumbs down. This should be analyzed in the streaming version of the prediction machine that we could deploy in production soon."
   ]
  },
  {
   "cell_type": "code",
   "execution_count": null,
   "metadata": {},
   "outputs": [],
   "source": []
  }
 ],
 "metadata": {
  "kernelspec": {
   "display_name": "PySpark",
   "language": "",
   "name": "pysparkkernel"
  },
  "language_info": {
   "codemirror_mode": {
    "name": "python",
    "version": 2
   },
   "mimetype": "text/x-python",
   "name": "pyspark",
   "pygments_lexer": "python2"
  }
 },
 "nbformat": 4,
 "nbformat_minor": 4
}
