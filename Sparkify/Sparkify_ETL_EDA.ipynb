{
 "cells": [
  {
   "cell_type": "markdown",
   "metadata": {},
   "source": [
    "### Sparkify EDA & ETL Notebook\n",
    "This notebook contains the exploratory data analysis (EDA) and extract, transform and load (ETL) process of the full dataset (12GB) from the project Sparkify. \n",
    "\n",
    "This notebook is not well commented on because it is a work version of the final notebook. You can find the final and commented notebook in this GitHub repository named Sparkify_AWS_EMR."
   ]
  },
  {
   "cell_type": "code",
   "execution_count": 1,
   "metadata": {},
   "outputs": [
    {
     "data": {
      "application/vnd.jupyter.widget-view+json": {
       "model_id": "f24fa186107f406082524ceb0400e58c",
       "version_major": 2,
       "version_minor": 0
      },
      "text/plain": [
       "VBox()"
      ]
     },
     "metadata": {},
     "output_type": "display_data"
    },
    {
     "name": "stdout",
     "output_type": "stream",
     "text": [
      "Starting Spark application\n"
     ]
    },
    {
     "data": {
      "text/html": [
       "<table>\n",
       "<tr><th>ID</th><th>YARN Application ID</th><th>Kind</th><th>State</th><th>Spark UI</th><th>Driver log</th><th>Current session?</th></tr><tr><td>9</td><td>application_1610887512695_0010</td><td>pyspark</td><td>idle</td><td></td><td></td><td>✔</td></tr></table>"
      ],
      "text/plain": [
       "<IPython.core.display.HTML object>"
      ]
     },
     "metadata": {},
     "output_type": "display_data"
    },
    {
     "data": {
      "application/vnd.jupyter.widget-view+json": {
       "model_id": "",
       "version_major": 2,
       "version_minor": 0
      },
      "text/plain": [
       "FloatProgress(value=0.0, bar_style='info', description='Progress:', layout=Layout(height='25px', width='50%'),…"
      ]
     },
     "metadata": {},
     "output_type": "display_data"
    },
    {
     "name": "stdout",
     "output_type": "stream",
     "text": [
      "SparkSession available as 'spark'.\n"
     ]
    },
    {
     "data": {
      "application/vnd.jupyter.widget-view+json": {
       "model_id": "",
       "version_major": 2,
       "version_minor": 0
      },
      "text/plain": [
       "FloatProgress(value=0.0, bar_style='info', description='Progress:', layout=Layout(height='25px', width='50%'),…"
      ]
     },
     "metadata": {},
     "output_type": "display_data"
    }
   ],
   "source": [
    "from pyspark.sql import SparkSession, Window\n",
    "\n",
    "from pyspark.sql.functions import *\n",
    "from pyspark.sql.types import *\n",
    "\n",
    "\n",
    "import pyspark.sql.functions as F\n",
    "\n",
    "import datetime\n",
    "import time\n",
    "from pyspark.sql.functions import date_format\n",
    "\n",
    "\n",
    "from pyspark.ml import Pipeline\n",
    "from pyspark.ml.classification import LogisticRegression,RandomForestClassifier, GBTClassifier, DecisionTreeClassifier, LinearSVC\n",
    "from pyspark.ml.evaluation import BinaryClassificationEvaluator, MulticlassClassificationEvaluator\n",
    "from pyspark.ml.feature import MinMaxScaler, StringIndexer, VectorAssembler,StandardScaler\n",
    "from pyspark.ml.tuning import CrossValidator, ParamGridBuilder\n",
    "\n"
   ]
  },
  {
   "cell_type": "code",
   "execution_count": 2,
   "metadata": {},
   "outputs": [
    {
     "data": {
      "application/vnd.jupyter.widget-view+json": {
       "model_id": "4529ebbcedb2412295a7f058328a1abc",
       "version_major": 2,
       "version_minor": 0
      },
      "text/plain": [
       "VBox()"
      ]
     },
     "metadata": {},
     "output_type": "display_data"
    },
    {
     "data": {
      "application/vnd.jupyter.widget-view+json": {
       "model_id": "",
       "version_major": 2,
       "version_minor": 0
      },
      "text/plain": [
       "FloatProgress(value=0.0, bar_style='info', description='Progress:', layout=Layout(height='25px', width='50%'),…"
      ]
     },
     "metadata": {},
     "output_type": "display_data"
    }
   ],
   "source": [
    "# create spark session\n",
    "spark = SparkSession \\\n",
    "    .builder \\\n",
    "    .appName('Sparkify') \\\n",
    "    .getOrCreate()\n",
    "\n"
   ]
  },
  {
   "cell_type": "markdown",
   "metadata": {},
   "source": [
    "# 2 Load and Clean Dataset and Data Understanding\n",
    "In this workspace, I use the full dataset. Load and clean the dataset, checking for invalid or missing data - for example, records without userids or sessionids. \n",
    "\n"
   ]
  },
  {
   "cell_type": "code",
   "execution_count": 6,
   "metadata": {},
   "outputs": [
    {
     "data": {
      "application/vnd.jupyter.widget-view+json": {
       "model_id": "7ed3fdaa863941099aceb174b1bd1827",
       "version_major": 2,
       "version_minor": 0
      },
      "text/plain": [
       "VBox()"
      ]
     },
     "metadata": {},
     "output_type": "display_data"
    },
    {
     "data": {
      "application/vnd.jupyter.widget-view+json": {
       "model_id": "",
       "version_major": 2,
       "version_minor": 0
      },
      "text/plain": [
       "FloatProgress(value=0.0, bar_style='info', description='Progress:', layout=Layout(height='25px', width='50%'),…"
      ]
     },
     "metadata": {},
     "output_type": "display_data"
    }
   ],
   "source": [
    "event_data = 's3n://udacity-dsnd/sparkify/sparkify_event_data.json'\n",
    "df = spark.read.json(event_data)\n"
   ]
  },
  {
   "cell_type": "code",
   "execution_count": 7,
   "metadata": {},
   "outputs": [
    {
     "data": {
      "application/vnd.jupyter.widget-view+json": {
       "model_id": "85170427e78d42d59f989f958aa43e6b",
       "version_major": 2,
       "version_minor": 0
      },
      "text/plain": [
       "VBox()"
      ]
     },
     "metadata": {},
     "output_type": "display_data"
    },
    {
     "data": {
      "application/vnd.jupyter.widget-view+json": {
       "model_id": "",
       "version_major": 2,
       "version_minor": 0
      },
      "text/plain": [
       "FloatProgress(value=0.0, bar_style='info', description='Progress:', layout=Layout(height='25px', width='50%'),…"
      ]
     },
     "metadata": {},
     "output_type": "display_data"
    },
    {
     "name": "stdout",
     "output_type": "stream",
     "text": [
      "+-----------+---------+---------+------+-------------+--------+---------+-----+--------------------+------+--------+-------------+---------+--------------------+------+-------------+--------------------+-------+\n",
      "|     artist|     auth|firstName|gender|itemInSession|lastName|   length|level|            location|method|    page| registration|sessionId|                song|status|           ts|           userAgent| userId|\n",
      "+-----------+---------+---------+------+-------------+--------+---------+-----+--------------------+------+--------+-------------+---------+--------------------+------+-------------+--------------------+-------+\n",
      "|  Popol Vuh|Logged In|    Shlok|     M|          278| Johnson|524.32934| paid|Dallas-Fort Worth...|   PUT|NextSong|1533734541000|    22683|Ich mache einen S...|   200|1538352001000|\"Mozilla/5.0 (Win...|1749042|\n",
      "|Los Bunkers|Logged In|  Vianney|     F|            9|  Miller|238.39302| paid|San Francisco-Oak...|   PUT|NextSong|1537500318000|    20836|         MiÃÂ©ntele|   200|1538352002000|\"Mozilla/5.0 (Mac...|1563081|\n",
      "+-----------+---------+---------+------+-------------+--------+---------+-----+--------------------+------+--------+-------------+---------+--------------------+------+-------------+--------------------+-------+\n",
      "only showing top 2 rows"
     ]
    }
   ],
   "source": [
    "df.show(2)"
   ]
  },
  {
   "cell_type": "code",
   "execution_count": 8,
   "metadata": {},
   "outputs": [
    {
     "data": {
      "application/vnd.jupyter.widget-view+json": {
       "model_id": "525497a3fc1640af9bff5e7810b34b68",
       "version_major": 2,
       "version_minor": 0
      },
      "text/plain": [
       "VBox()"
      ]
     },
     "metadata": {},
     "output_type": "display_data"
    },
    {
     "data": {
      "application/vnd.jupyter.widget-view+json": {
       "model_id": "",
       "version_major": 2,
       "version_minor": 0
      },
      "text/plain": [
       "FloatProgress(value=0.0, bar_style='info', description='Progress:', layout=Layout(height='25px', width='50%'),…"
      ]
     },
     "metadata": {},
     "output_type": "display_data"
    },
    {
     "name": "stdout",
     "output_type": "stream",
     "text": [
      "Total rows: 26,259,199\n",
      "Total columns 18\n",
      "(None, None)"
     ]
    }
   ],
   "source": [
    "print(f'Total rows: {df.count():,}'), print('Total columns {}'.format(len(df.columns)));"
   ]
  },
  {
   "cell_type": "code",
   "execution_count": 9,
   "metadata": {},
   "outputs": [
    {
     "data": {
      "application/vnd.jupyter.widget-view+json": {
       "model_id": "703913d71e4f4d63a7b39994a71f7d6a",
       "version_major": 2,
       "version_minor": 0
      },
      "text/plain": [
       "VBox()"
      ]
     },
     "metadata": {},
     "output_type": "display_data"
    },
    {
     "data": {
      "application/vnd.jupyter.widget-view+json": {
       "model_id": "",
       "version_major": 2,
       "version_minor": 0
      },
      "text/plain": [
       "FloatProgress(value=0.0, bar_style='info', description='Progress:', layout=Layout(height='25px', width='50%'),…"
      ]
     },
     "metadata": {},
     "output_type": "display_data"
    },
    {
     "name": "stdout",
     "output_type": "stream",
     "text": [
      "root\n",
      " |-- artist: string (nullable = true)\n",
      " |-- auth: string (nullable = true)\n",
      " |-- firstName: string (nullable = true)\n",
      " |-- gender: string (nullable = true)\n",
      " |-- itemInSession: long (nullable = true)\n",
      " |-- lastName: string (nullable = true)\n",
      " |-- length: double (nullable = true)\n",
      " |-- level: string (nullable = true)\n",
      " |-- location: string (nullable = true)\n",
      " |-- method: string (nullable = true)\n",
      " |-- page: string (nullable = true)\n",
      " |-- registration: long (nullable = true)\n",
      " |-- sessionId: long (nullable = true)\n",
      " |-- song: string (nullable = true)\n",
      " |-- status: long (nullable = true)\n",
      " |-- ts: long (nullable = true)\n",
      " |-- userAgent: string (nullable = true)\n",
      " |-- userId: string (nullable = true)"
     ]
    }
   ],
   "source": [
    "df.printSchema()"
   ]
  },
  {
   "cell_type": "code",
   "execution_count": 10,
   "metadata": {},
   "outputs": [
    {
     "data": {
      "application/vnd.jupyter.widget-view+json": {
       "model_id": "a73160800769452abe16751c93fa9646",
       "version_major": 2,
       "version_minor": 0
      },
      "text/plain": [
       "VBox()"
      ]
     },
     "metadata": {},
     "output_type": "display_data"
    },
    {
     "data": {
      "application/vnd.jupyter.widget-view+json": {
       "model_id": "",
       "version_major": 2,
       "version_minor": 0
      },
      "text/plain": [
       "FloatProgress(value=0.0, bar_style='info', description='Progress:', layout=Layout(height='25px', width='50%'),…"
      ]
     },
     "metadata": {},
     "output_type": "display_data"
    },
    {
     "name": "stdout",
     "output_type": "stream",
     "text": [
      "+-------+----+---------+------+-------------+--------+-------+-----+--------+------+----+------------+---------+-------+------+---+---------+------+\n",
      "| artist|auth|firstName|gender|itemInSession|lastName| length|level|location|method|page|registration|sessionId|   song|status| ts|userAgent|userId|\n",
      "+-------+----+---------+------+-------------+--------+-------+-----+--------+------+----+------------+---------+-------+------+---+---------+------+\n",
      "|5408927|   0|   778479|778479|            0|  778479|5408927|    0|  778479|     0|   0|      778479|        0|5408927|     0|  0|   778479|     0|\n",
      "+-------+----+---------+------+-------------+--------+-------+-----+--------+------+----+------------+---------+-------+------+---+---------+------+"
     ]
    }
   ],
   "source": [
    "#checking null values for al variables mid dataset\n",
    "df.select([count(when(col(c).isNull(), c)).alias(c) for c in df.columns]).show()"
   ]
  },
  {
   "cell_type": "code",
   "execution_count": 11,
   "metadata": {},
   "outputs": [
    {
     "data": {
      "application/vnd.jupyter.widget-view+json": {
       "model_id": "4c8e39bcec084d1b8cf26a6ac8a3d587",
       "version_major": 2,
       "version_minor": 0
      },
      "text/plain": [
       "VBox()"
      ]
     },
     "metadata": {},
     "output_type": "display_data"
    },
    {
     "data": {
      "application/vnd.jupyter.widget-view+json": {
       "model_id": "",
       "version_major": 2,
       "version_minor": 0
      },
      "text/plain": [
       "FloatProgress(value=0.0, bar_style='info', description='Progress:', layout=Layout(height='25px', width='50%'),…"
      ]
     },
     "metadata": {},
     "output_type": "display_data"
    },
    {
     "name": "stdout",
     "output_type": "stream",
     "text": [
      "+--------------------+\n",
      "|                page|\n",
      "+--------------------+\n",
      "|               About|\n",
      "|          Add Friend|\n",
      "|     Add to Playlist|\n",
      "|              Cancel|\n",
      "|Cancellation Conf...|\n",
      "|           Downgrade|\n",
      "|               Error|\n",
      "|                Help|\n",
      "|                Home|\n",
      "|               Login|\n",
      "|              Logout|\n",
      "|            NextSong|\n",
      "|            Register|\n",
      "|         Roll Advert|\n",
      "|       Save Settings|\n",
      "|            Settings|\n",
      "|    Submit Downgrade|\n",
      "| Submit Registration|\n",
      "|      Submit Upgrade|\n",
      "|         Thumbs Down|\n",
      "+--------------------+\n",
      "only showing top 20 rows"
     ]
    }
   ],
   "source": [
    "# customers events\n",
    "df.select('page').dropDuplicates().sort('page').show()"
   ]
  },
  {
   "cell_type": "code",
   "execution_count": 12,
   "metadata": {
    "scrolled": true
   },
   "outputs": [
    {
     "data": {
      "application/vnd.jupyter.widget-view+json": {
       "model_id": "c6a27cb9095c453b857955386b6be143",
       "version_major": 2,
       "version_minor": 0
      },
      "text/plain": [
       "VBox()"
      ]
     },
     "metadata": {},
     "output_type": "display_data"
    },
    {
     "data": {
      "application/vnd.jupyter.widget-view+json": {
       "model_id": "",
       "version_major": 2,
       "version_minor": 0
      },
      "text/plain": [
       "FloatProgress(value=0.0, bar_style='info', description='Progress:', layout=Layout(height='25px', width='50%'),…"
      ]
     },
     "metadata": {},
     "output_type": "display_data"
    },
    {
     "name": "stdout",
     "output_type": "stream",
     "text": [
      "-RECORD 0-----------------------------\n",
      " artist        | null                 \n",
      " auth          | Cancelled            \n",
      " firstName     | Harrison             \n",
      " gender        | M                    \n",
      " itemInSession | 32                   \n",
      " lastName      | Turner               \n",
      " length        | null                 \n",
      " level         | paid                 \n",
      " location      | Dayton, OH           \n",
      " method        | GET                  \n",
      " page          | Cancellation Conf... \n",
      " registration  | 1536683985000        \n",
      " sessionId     | 24588                \n",
      " song          | null                 \n",
      " status        | 200                  \n",
      " ts            | 1538360145000        \n",
      " userAgent     | Mozilla/5.0 (Wind... \n",
      " userId        | 1768454              \n",
      "-RECORD 1-----------------------------\n",
      " artist        | null                 \n",
      " auth          | Cancelled            \n",
      " firstName     | Andrew               \n",
      " gender        | M                    \n",
      " itemInSession | 16                   \n",
      " lastName      | Lutz                 \n",
      " length        | null                 \n",
      " level         | free                 \n",
      " location      | Chicago-Napervill... \n",
      " method        | GET                  \n",
      " page          | Cancellation Conf... \n",
      " registration  | 1534620941000        \n",
      " sessionId     | 4031                 \n",
      " song          | null                 \n",
      " status        | 200                  \n",
      " ts            | 1538362976000        \n",
      " userAgent     | \"Mozilla/5.0 (Mac... \n",
      " userId        | 1381915              \n",
      "only showing top 2 rows"
     ]
    }
   ],
   "source": [
    "# find userId's that have cancelled\n",
    "df.filter(\"page = 'Cancellation Confirmation'\").show(n=2, vertical=True)"
   ]
  },
  {
   "cell_type": "code",
   "execution_count": 13,
   "metadata": {},
   "outputs": [
    {
     "data": {
      "application/vnd.jupyter.widget-view+json": {
       "model_id": "c4fab760567947aa830398626c5da8a8",
       "version_major": 2,
       "version_minor": 0
      },
      "text/plain": [
       "VBox()"
      ]
     },
     "metadata": {},
     "output_type": "display_data"
    },
    {
     "data": {
      "application/vnd.jupyter.widget-view+json": {
       "model_id": "",
       "version_major": 2,
       "version_minor": 0
      },
      "text/plain": [
       "FloatProgress(value=0.0, bar_style='info', description='Progress:', layout=Layout(height='25px', width='50%'),…"
      ]
     },
     "metadata": {},
     "output_type": "display_data"
    },
    {
     "name": "stdout",
     "output_type": "stream",
     "text": [
      "[]"
     ]
    }
   ],
   "source": [
    "df.select(['userId', 'level','page','artist', 'song', 'length']).where(df.userId == '18').collect()"
   ]
  },
  {
   "cell_type": "markdown",
   "metadata": {},
   "source": [
    "So when the customer goes to other pages than the Next song, artist, song, and length values are null. If you drop all null values you will lose the information on customers' behavior, even canceled and downgraded customers."
   ]
  },
  {
   "cell_type": "code",
   "execution_count": 14,
   "metadata": {},
   "outputs": [
    {
     "data": {
      "application/vnd.jupyter.widget-view+json": {
       "model_id": "23a66963eb1e4383ab7a18cc6644ed38",
       "version_major": 2,
       "version_minor": 0
      },
      "text/plain": [
       "VBox()"
      ]
     },
     "metadata": {},
     "output_type": "display_data"
    },
    {
     "data": {
      "application/vnd.jupyter.widget-view+json": {
       "model_id": "",
       "version_major": 2,
       "version_minor": 0
      },
      "text/plain": [
       "FloatProgress(value=0.0, bar_style='info', description='Progress:', layout=Layout(height='25px', width='50%'),…"
      ]
     },
     "metadata": {},
     "output_type": "display_data"
    },
    {
     "name": "stdout",
     "output_type": "stream",
     "text": [
      "0"
     ]
    }
   ],
   "source": [
    "# checking empty values for userID\n",
    "df.filter(df['userId']=='').count()"
   ]
  },
  {
   "cell_type": "code",
   "execution_count": 15,
   "metadata": {},
   "outputs": [
    {
     "data": {
      "application/vnd.jupyter.widget-view+json": {
       "model_id": "977139553d0f426b96e132aecf5dd0a0",
       "version_major": 2,
       "version_minor": 0
      },
      "text/plain": [
       "VBox()"
      ]
     },
     "metadata": {},
     "output_type": "display_data"
    },
    {
     "data": {
      "application/vnd.jupyter.widget-view+json": {
       "model_id": "",
       "version_major": 2,
       "version_minor": 0
      },
      "text/plain": [
       "FloatProgress(value=0.0, bar_style='info', description='Progress:', layout=Layout(height='25px', width='50%'),…"
      ]
     },
     "metadata": {},
     "output_type": "display_data"
    },
    {
     "name": "stdout",
     "output_type": "stream",
     "text": [
      "0"
     ]
    }
   ],
   "source": [
    "# checking empty values for sessionId\n",
    "df.filter(df['sessionId']=='').count()"
   ]
  },
  {
   "cell_type": "code",
   "execution_count": 16,
   "metadata": {},
   "outputs": [
    {
     "data": {
      "application/vnd.jupyter.widget-view+json": {
       "model_id": "4a3560d40ed841139804c65b63de35be",
       "version_major": 2,
       "version_minor": 0
      },
      "text/plain": [
       "VBox()"
      ]
     },
     "metadata": {},
     "output_type": "display_data"
    },
    {
     "data": {
      "application/vnd.jupyter.widget-view+json": {
       "model_id": "",
       "version_major": 2,
       "version_minor": 0
      },
      "text/plain": [
       "FloatProgress(value=0.0, bar_style='info', description='Progress:', layout=Layout(height='25px', width='50%'),…"
      ]
     },
     "metadata": {},
     "output_type": "display_data"
    }
   ],
   "source": [
    "# create timestamp column from original ts column\n",
    "get_timestamp = udf(lambda x : datetime.datetime.fromtimestamp(x/1000.0).strftime('%Y-%m-%d %H:%M:%S'))\n"
   ]
  },
  {
   "cell_type": "code",
   "execution_count": 17,
   "metadata": {},
   "outputs": [
    {
     "data": {
      "application/vnd.jupyter.widget-view+json": {
       "model_id": "d860246f4a5942f3b7e448c519d4f90e",
       "version_major": 2,
       "version_minor": 0
      },
      "text/plain": [
       "VBox()"
      ]
     },
     "metadata": {},
     "output_type": "display_data"
    },
    {
     "data": {
      "application/vnd.jupyter.widget-view+json": {
       "model_id": "",
       "version_major": 2,
       "version_minor": 0
      },
      "text/plain": [
       "FloatProgress(value=0.0, bar_style='info', description='Progress:', layout=Layout(height='25px', width='50%'),…"
      ]
     },
     "metadata": {},
     "output_type": "display_data"
    }
   ],
   "source": [
    "# filter empty gender, create timestamp, month, day, weekday,hour, date variables \n",
    "# create new registartion datatype form long to timestamp for further processing\n",
    "def clean_data(df):\n",
    "    df = df\\\n",
    "        .filter(col('gender')!='null')\\\n",
    "        .withColumn('timestamp', get_timestamp(df['ts']).cast('timestamp'))\\\n",
    "        .withColumn('month', month('timestamp'))\\\n",
    "        .withColumn('day', dayofmonth(col('timestamp')))\\\n",
    "        .withColumn('weekday', date_format(col('timestamp'),'EEEE'))\\\n",
    "        .withColumn('hour', hour('timestamp'))\\\n",
    "        .withColumn('reg_timestamp', get_timestamp(df['registration']).cast('timestamp'))\\\n",
    "        .withColumn('date', from_unixtime(col('ts')/1000).cast(DateType()))\n",
    "        \n",
    "    \n",
    "    return df\n",
    "\n",
    "\n"
   ]
  },
  {
   "cell_type": "code",
   "execution_count": 18,
   "metadata": {},
   "outputs": [
    {
     "data": {
      "application/vnd.jupyter.widget-view+json": {
       "model_id": "43cdafb652014242942fcd6416014fb9",
       "version_major": 2,
       "version_minor": 0
      },
      "text/plain": [
       "VBox()"
      ]
     },
     "metadata": {},
     "output_type": "display_data"
    },
    {
     "data": {
      "application/vnd.jupyter.widget-view+json": {
       "model_id": "",
       "version_major": 2,
       "version_minor": 0
      },
      "text/plain": [
       "FloatProgress(value=0.0, bar_style='info', description='Progress:', layout=Layout(height='25px', width='50%'),…"
      ]
     },
     "metadata": {},
     "output_type": "display_data"
    }
   ],
   "source": [
    "df = clean_data(df)"
   ]
  },
  {
   "cell_type": "code",
   "execution_count": 19,
   "metadata": {},
   "outputs": [
    {
     "data": {
      "application/vnd.jupyter.widget-view+json": {
       "model_id": "8f4e34c766ab434daa5f6638bf70d724",
       "version_major": 2,
       "version_minor": 0
      },
      "text/plain": [
       "VBox()"
      ]
     },
     "metadata": {},
     "output_type": "display_data"
    },
    {
     "data": {
      "application/vnd.jupyter.widget-view+json": {
       "model_id": "",
       "version_major": 2,
       "version_minor": 0
      },
      "text/plain": [
       "FloatProgress(value=0.0, bar_style='info', description='Progress:', layout=Layout(height='25px', width='50%'),…"
      ]
     },
     "metadata": {},
     "output_type": "display_data"
    },
    {
     "name": "stdout",
     "output_type": "stream",
     "text": [
      "root\n",
      " |-- artist: string (nullable = true)\n",
      " |-- auth: string (nullable = true)\n",
      " |-- firstName: string (nullable = true)\n",
      " |-- gender: string (nullable = true)\n",
      " |-- itemInSession: long (nullable = true)\n",
      " |-- lastName: string (nullable = true)\n",
      " |-- length: double (nullable = true)\n",
      " |-- level: string (nullable = true)\n",
      " |-- location: string (nullable = true)\n",
      " |-- method: string (nullable = true)\n",
      " |-- page: string (nullable = true)\n",
      " |-- registration: long (nullable = true)\n",
      " |-- sessionId: long (nullable = true)\n",
      " |-- song: string (nullable = true)\n",
      " |-- status: long (nullable = true)\n",
      " |-- ts: long (nullable = true)\n",
      " |-- userAgent: string (nullable = true)\n",
      " |-- userId: string (nullable = true)\n",
      " |-- timestamp: timestamp (nullable = true)\n",
      " |-- month: integer (nullable = true)\n",
      " |-- day: integer (nullable = true)\n",
      " |-- weekday: string (nullable = true)\n",
      " |-- hour: integer (nullable = true)\n",
      " |-- reg_timestamp: timestamp (nullable = true)\n",
      " |-- date: date (nullable = true)"
     ]
    }
   ],
   "source": [
    "df.printSchema()"
   ]
  },
  {
   "cell_type": "code",
   "execution_count": 14,
   "metadata": {},
   "outputs": [
    {
     "data": {
      "application/vnd.jupyter.widget-view+json": {
       "model_id": "6ee50d1d52bd4078afe429c889e75d6f",
       "version_major": 2,
       "version_minor": 0
      },
      "text/plain": [
       "VBox()"
      ]
     },
     "metadata": {},
     "output_type": "display_data"
    },
    {
     "data": {
      "application/vnd.jupyter.widget-view+json": {
       "model_id": "",
       "version_major": 2,
       "version_minor": 0
      },
      "text/plain": [
       "FloatProgress(value=0.0, bar_style='info', description='Progress:', layout=Layout(height='25px', width='50%'),…"
      ]
     },
     "metadata": {},
     "output_type": "display_data"
    },
    {
     "name": "stdout",
     "output_type": "stream",
     "text": [
      "+------+--------+\n",
      "|gender|   count|\n",
      "+------+--------+\n",
      "|     F|12181158|\n",
      "|     M|13299562|\n",
      "+------+--------+"
     ]
    }
   ],
   "source": [
    "# testaa gender\n",
    "df.groupby('gender').count().show()"
   ]
  },
  {
   "cell_type": "code",
   "execution_count": 20,
   "metadata": {},
   "outputs": [
    {
     "data": {
      "application/vnd.jupyter.widget-view+json": {
       "model_id": "12b19d8739d047d98157d02defe1a534",
       "version_major": 2,
       "version_minor": 0
      },
      "text/plain": [
       "VBox()"
      ]
     },
     "metadata": {},
     "output_type": "display_data"
    },
    {
     "data": {
      "application/vnd.jupyter.widget-view+json": {
       "model_id": "",
       "version_major": 2,
       "version_minor": 0
      },
      "text/plain": [
       "FloatProgress(value=0.0, bar_style='info', description='Progress:', layout=Layout(height='25px', width='50%'),…"
      ]
     },
     "metadata": {},
     "output_type": "display_data"
    },
    {
     "name": "stdout",
     "output_type": "stream",
     "text": [
      "25480720"
     ]
    }
   ],
   "source": [
    "df.count()"
   ]
  },
  {
   "cell_type": "markdown",
   "metadata": {},
   "source": [
    "# 3 Exploratory Data Analysis\n",
    "\n",
    "Here i'm working with: This workspace contains a tiny subset (128MB) \n",
    "\n",
    "or the full dataset available (12GB).\n",
    "\n",
    "### Define Churn\n",
    "\n",
    "Column Churn will be created to use as the label for the ML models. Churn column consists of customers who have canceled or downgraded their subscriptions. Cancellation Confirmation and Submit downgrade events define the customers churn, which happens for both paid and free users.\n",
    "\n",
    "### Explore Data\n",
    "I will perform some exploratory data analysis to observe the behavior for users who stayed or downgraded vs users who churned. First, exploring aggregates on these two groups of users, observing how much of a specific action they experienced per a certain time unit and the number of songs played."
   ]
  },
  {
   "cell_type": "code",
   "execution_count": 21,
   "metadata": {},
   "outputs": [
    {
     "data": {
      "application/vnd.jupyter.widget-view+json": {
       "model_id": "d1502f381611454db88db387b64cf8d0",
       "version_major": 2,
       "version_minor": 0
      },
      "text/plain": [
       "VBox()"
      ]
     },
     "metadata": {},
     "output_type": "display_data"
    },
    {
     "data": {
      "application/vnd.jupyter.widget-view+json": {
       "model_id": "",
       "version_major": 2,
       "version_minor": 0
      },
      "text/plain": [
       "FloatProgress(value=0.0, bar_style='info', description='Progress:', layout=Layout(height='25px', width='50%'),…"
      ]
     },
     "metadata": {},
     "output_type": "display_data"
    }
   ],
   "source": [
    "# process churn variable\n",
    "cancel_churn = udf(lambda x: int(x=='Cancellation Confirmation'), IntegerType())\n",
    "downgrade_churn = udf(lambda x: int(x=='Submit Downgrade'), IntegerType())"
   ]
  },
  {
   "cell_type": "code",
   "execution_count": 22,
   "metadata": {},
   "outputs": [
    {
     "data": {
      "application/vnd.jupyter.widget-view+json": {
       "model_id": "f39cf6ad48bc40f8b6fdbacc89c6a245",
       "version_major": 2,
       "version_minor": 0
      },
      "text/plain": [
       "VBox()"
      ]
     },
     "metadata": {},
     "output_type": "display_data"
    },
    {
     "data": {
      "application/vnd.jupyter.widget-view+json": {
       "model_id": "",
       "version_major": 2,
       "version_minor": 0
      },
      "text/plain": [
       "FloatProgress(value=0.0, bar_style='info', description='Progress:', layout=Layout(height='25px', width='50%'),…"
      ]
     },
     "metadata": {},
     "output_type": "display_data"
    }
   ],
   "source": [
    "# create new columns: cancelled and downgraded\n",
    "df = df.withColumn('downgraded', downgrade_churn('page')).withColumn('cancelled', cancel_churn('page'))"
   ]
  },
  {
   "cell_type": "code",
   "execution_count": 23,
   "metadata": {},
   "outputs": [
    {
     "data": {
      "application/vnd.jupyter.widget-view+json": {
       "model_id": "a379ef60099a4ed2bdb4ba2ae53722d4",
       "version_major": 2,
       "version_minor": 0
      },
      "text/plain": [
       "VBox()"
      ]
     },
     "metadata": {},
     "output_type": "display_data"
    },
    {
     "data": {
      "application/vnd.jupyter.widget-view+json": {
       "model_id": "",
       "version_major": 2,
       "version_minor": 0
      },
      "text/plain": [
       "FloatProgress(value=0.0, bar_style='info', description='Progress:', layout=Layout(height='25px', width='50%'),…"
      ]
     },
     "metadata": {},
     "output_type": "display_data"
    }
   ],
   "source": [
    "# create churn column\n",
    "df = df.withColumn('churn', when((col('cancelled')==1) | (col('downgraded')==1),1).otherwise(0))"
   ]
  },
  {
   "cell_type": "code",
   "execution_count": 24,
   "metadata": {},
   "outputs": [
    {
     "data": {
      "application/vnd.jupyter.widget-view+json": {
       "model_id": "4a0c28cb758e498181b84a034b03a652",
       "version_major": 2,
       "version_minor": 0
      },
      "text/plain": [
       "VBox()"
      ]
     },
     "metadata": {},
     "output_type": "display_data"
    },
    {
     "data": {
      "application/vnd.jupyter.widget-view+json": {
       "model_id": "",
       "version_major": 2,
       "version_minor": 0
      },
      "text/plain": [
       "FloatProgress(value=0.0, bar_style='info', description='Progress:', layout=Layout(height='25px', width='50%'),…"
      ]
     },
     "metadata": {},
     "output_type": "display_data"
    },
    {
     "name": "stdout",
     "output_type": "stream",
     "text": [
      "22277"
     ]
    }
   ],
   "source": [
    "# number of customers\n",
    "df.select('userId').distinct().count()"
   ]
  },
  {
   "cell_type": "code",
   "execution_count": 25,
   "metadata": {},
   "outputs": [
    {
     "data": {
      "application/vnd.jupyter.widget-view+json": {
       "model_id": "f965789608214c7196f036ec36c6197b",
       "version_major": 2,
       "version_minor": 0
      },
      "text/plain": [
       "VBox()"
      ]
     },
     "metadata": {},
     "output_type": "display_data"
    },
    {
     "data": {
      "application/vnd.jupyter.widget-view+json": {
       "model_id": "",
       "version_major": 2,
       "version_minor": 0
      },
      "text/plain": [
       "FloatProgress(value=0.0, bar_style='info', description='Progress:', layout=Layout(height='25px', width='50%'),…"
      ]
     },
     "metadata": {},
     "output_type": "display_data"
    },
    {
     "name": "stdout",
     "output_type": "stream",
     "text": [
      "+---------------+--------------+\n",
      "|sum(downgraded)|sum(cancelled)|\n",
      "+---------------+--------------+\n",
      "|           6494|          5003|\n",
      "+---------------+--------------+"
     ]
    }
   ],
   "source": [
    "# customers who downgraded or cancelled\n",
    "df.agg({'cancelled' : 'sum', 'downgraded' : 'sum'}).show()"
   ]
  },
  {
   "cell_type": "code",
   "execution_count": 26,
   "metadata": {},
   "outputs": [
    {
     "data": {
      "application/vnd.jupyter.widget-view+json": {
       "model_id": "4b3fd9d8abc34cf9a76214f9c302ed4d",
       "version_major": 2,
       "version_minor": 0
      },
      "text/plain": [
       "VBox()"
      ]
     },
     "metadata": {},
     "output_type": "display_data"
    },
    {
     "data": {
      "application/vnd.jupyter.widget-view+json": {
       "model_id": "",
       "version_major": 2,
       "version_minor": 0
      },
      "text/plain": [
       "FloatProgress(value=0.0, bar_style='info', description='Progress:', layout=Layout(height='25px', width='50%'),…"
      ]
     },
     "metadata": {},
     "output_type": "display_data"
    },
    {
     "name": "stdout",
     "output_type": "stream",
     "text": [
      "+---------------+--------------+\n",
      "|sum(downgraded)|sum(cancelled)|\n",
      "+---------------+--------------+\n",
      "|           6494|          5003|\n",
      "+---------------+--------------+"
     ]
    }
   ],
   "source": [
    "# customers who downgraded or cancelled\n",
    "df.agg({'cancelled' : 'sum', 'downgraded' : 'sum'}).show()"
   ]
  },
  {
   "cell_type": "code",
   "execution_count": 27,
   "metadata": {},
   "outputs": [
    {
     "data": {
      "application/vnd.jupyter.widget-view+json": {
       "model_id": "e445cfe6497f4a2f941fc40e60c6474f",
       "version_major": 2,
       "version_minor": 0
      },
      "text/plain": [
       "VBox()"
      ]
     },
     "metadata": {},
     "output_type": "display_data"
    },
    {
     "data": {
      "application/vnd.jupyter.widget-view+json": {
       "model_id": "",
       "version_major": 2,
       "version_minor": 0
      },
      "text/plain": [
       "FloatProgress(value=0.0, bar_style='info', description='Progress:', layout=Layout(height='25px', width='50%'),…"
      ]
     },
     "metadata": {},
     "output_type": "display_data"
    },
    {
     "name": "stdout",
     "output_type": "stream",
     "text": [
      "+-----------------------------+\n",
      "|sum((cancelled + downgraded))|\n",
      "+-----------------------------+\n",
      "|                        11497|\n",
      "+-----------------------------+"
     ]
    }
   ],
   "source": [
    "users_in_churn = df.agg(sum(df.cancelled + df.downgraded)).show()"
   ]
  },
  {
   "cell_type": "code",
   "execution_count": 28,
   "metadata": {
    "scrolled": true
   },
   "outputs": [
    {
     "data": {
      "application/vnd.jupyter.widget-view+json": {
       "model_id": "03a1a644324a42b8ae095986617bc45d",
       "version_major": 2,
       "version_minor": 0
      },
      "text/plain": [
       "VBox()"
      ]
     },
     "metadata": {},
     "output_type": "display_data"
    },
    {
     "data": {
      "application/vnd.jupyter.widget-view+json": {
       "model_id": "",
       "version_major": 2,
       "version_minor": 0
      },
      "text/plain": [
       "FloatProgress(value=0.0, bar_style='info', description='Progress:', layout=Layout(height='25px', width='50%'),…"
      ]
     },
     "metadata": {},
     "output_type": "display_data"
    },
    {
     "name": "stdout",
     "output_type": "stream",
     "text": [
      "0.5160928311711631"
     ]
    }
   ],
   "source": [
    "# churn rate\n",
    "11497/22277"
   ]
  },
  {
   "cell_type": "code",
   "execution_count": 29,
   "metadata": {},
   "outputs": [
    {
     "data": {
      "application/vnd.jupyter.widget-view+json": {
       "model_id": "45dcd1c9e9274e33ad49071c56e33bf7",
       "version_major": 2,
       "version_minor": 0
      },
      "text/plain": [
       "VBox()"
      ]
     },
     "metadata": {},
     "output_type": "display_data"
    },
    {
     "data": {
      "application/vnd.jupyter.widget-view+json": {
       "model_id": "",
       "version_major": 2,
       "version_minor": 0
      },
      "text/plain": [
       "FloatProgress(value=0.0, bar_style='info', description='Progress:', layout=Layout(height='25px', width='50%'),…"
      ]
     },
     "metadata": {},
     "output_type": "display_data"
    },
    {
     "name": "stdout",
     "output_type": "stream",
     "text": [
      "+-----+------+-----+\n",
      "|churn|gender|count|\n",
      "+-----+------+-----+\n",
      "|    0|     M|11651|\n",
      "|    0|     F|10626|\n",
      "|    1|     M| 4687|\n",
      "|    1|     F| 4276|\n",
      "+-----+------+-----+"
     ]
    }
   ],
   "source": [
    "# churned customers by gender\n",
    "df.dropDuplicates([\"userId\", \"churn\"]).groupby([\"churn\", \"gender\"]).count().sort(\"churn\").show()"
   ]
  },
  {
   "cell_type": "markdown",
   "metadata": {},
   "source": [
    "### Saved model"
   ]
  },
  {
   "cell_type": "code",
   "execution_count": 42,
   "metadata": {},
   "outputs": [
    {
     "data": {
      "application/vnd.jupyter.widget-view+json": {
       "model_id": "9ab54f2eb42e46a6a01706001e67d5eb",
       "version_major": 2,
       "version_minor": 0
      },
      "text/plain": [
       "VBox()"
      ]
     },
     "metadata": {},
     "output_type": "display_data"
    },
    {
     "data": {
      "application/vnd.jupyter.widget-view+json": {
       "model_id": "",
       "version_major": 2,
       "version_minor": 0
      },
      "text/plain": [
       "FloatProgress(value=0.0, bar_style='info', description='Progress:', layout=Layout(height='25px', width='50%'),…"
      ]
     },
     "metadata": {},
     "output_type": "display_data"
    }
   ],
   "source": [
    "df.write.mode('overwrite').save('s3://<BUCKET_NAME>/df_clean', format='json')"
   ]
  },
  {
   "cell_type": "code",
   "execution_count": null,
   "metadata": {},
   "outputs": [],
   "source": [
    "# load df_clean\n",
    "#df = spark.read.json('s3://sparkifyown/df_clean')"
   ]
  },
  {
   "cell_type": "code",
   "execution_count": null,
   "metadata": {},
   "outputs": [],
   "source": [
    "# DATABRICKS data frame\n",
    "#gender distribution between regular and churn customers\n",
    "churn_gender = df.drop_duplicates(['userId', 'churn']).groupby(['churn', 'gender']).count().sort('churn')\n",
    "display(churn_gender)"
   ]
  },
  {
   "cell_type": "markdown",
   "metadata": {},
   "source": [
    "<img src='gender_churn.png'>"
   ]
  },
  {
   "cell_type": "code",
   "execution_count": 43,
   "metadata": {},
   "outputs": [
    {
     "data": {
      "application/vnd.jupyter.widget-view+json": {
       "model_id": "c78c315499bc45ba85d3cad16d995f9f",
       "version_major": 2,
       "version_minor": 0
      },
      "text/plain": [
       "VBox()"
      ]
     },
     "metadata": {},
     "output_type": "display_data"
    },
    {
     "data": {
      "application/vnd.jupyter.widget-view+json": {
       "model_id": "",
       "version_major": 2,
       "version_minor": 0
      },
      "text/plain": [
       "FloatProgress(value=0.0, bar_style='info', description='Progress:', layout=Layout(height='25px', width='50%'),…"
      ]
     },
     "metadata": {},
     "output_type": "display_data"
    },
    {
     "name": "stdout",
     "output_type": "stream",
     "text": [
      "+-----+-----+-----+\n",
      "|churn|level|count|\n",
      "+-----+-----+-----+\n",
      "|    0| free|14406|\n",
      "|    0| paid| 7871|\n",
      "|    1| free| 1204|\n",
      "|    1| paid| 7759|\n",
      "+-----+-----+-----+"
     ]
    }
   ],
   "source": [
    "# churned customers by level\n",
    "df.drop_duplicates(['userId', 'churn']).groupby(['churn', 'level']).count().sort('churn').show()"
   ]
  },
  {
   "cell_type": "code",
   "execution_count": null,
   "metadata": {},
   "outputs": [],
   "source": [
    "# DATABRICKS data frame\n",
    "# churn and levels\n",
    "level_data = df.drop_duplicates(['userId', 'churn']).groupby(['churn', 'level']).count().sort('churn')\n",
    "display(level_data)"
   ]
  },
  {
   "cell_type": "markdown",
   "metadata": {},
   "source": [
    "<img src=\"level_churn.png\">"
   ]
  },
  {
   "cell_type": "markdown",
   "metadata": {},
   "source": [
    "**Note** Customers can have many events on the level page, so they can have multiple downgrades and upgrade events and that's why the number of free and paid events is bigger than the number of customers."
   ]
  },
  {
   "cell_type": "code",
   "execution_count": 44,
   "metadata": {},
   "outputs": [
    {
     "data": {
      "application/vnd.jupyter.widget-view+json": {
       "model_id": "a4572dd97fee4831ab77ecea00114a08",
       "version_major": 2,
       "version_minor": 0
      },
      "text/plain": [
       "VBox()"
      ]
     },
     "metadata": {},
     "output_type": "display_data"
    },
    {
     "data": {
      "application/vnd.jupyter.widget-view+json": {
       "model_id": "",
       "version_major": 2,
       "version_minor": 0
      },
      "text/plain": [
       "FloatProgress(value=0.0, bar_style='info', description='Progress:', layout=Layout(height='25px', width='50%'),…"
      ]
     },
     "metadata": {},
     "output_type": "display_data"
    },
    {
     "name": "stdout",
     "output_type": "stream",
     "text": [
      "+--------------------+----------------------+\n",
      "|                page|count(DISTINCT userId)|\n",
      "+--------------------+----------------------+\n",
      "|               About|                 14460|\n",
      "|          Add Friend|                 20305|\n",
      "|     Add to Playlist|                 21260|\n",
      "|              Cancel|                  5003|\n",
      "|Cancellation Conf...|                  5003|\n",
      "|           Downgrade|                 15209|\n",
      "|               Error|                 11272|\n",
      "|                Help|                 18243|\n",
      "|                Home|                 22072|\n",
      "|              Logout|                 21160|\n",
      "|            NextSong|                 22261|\n",
      "|         Roll Advert|                 20068|\n",
      "|       Save Settings|                 12237|\n",
      "|            Settings|                 18933|\n",
      "|    Submit Downgrade|                  5103|\n",
      "|      Submit Upgrade|                 12082|\n",
      "|         Thumbs Down|                 20031|\n",
      "|           Thumbs Up|                 21732|\n",
      "|             Upgrade|                 16151|\n",
      "+--------------------+----------------------+"
     ]
    }
   ],
   "source": [
    "df.groupby('page').agg(countDistinct('userId')).sort('page').show()"
   ]
  },
  {
   "cell_type": "code",
   "execution_count": 45,
   "metadata": {},
   "outputs": [
    {
     "data": {
      "application/vnd.jupyter.widget-view+json": {
       "model_id": "134930c075a545f497030316a5d61214",
       "version_major": 2,
       "version_minor": 0
      },
      "text/plain": [
       "VBox()"
      ]
     },
     "metadata": {},
     "output_type": "display_data"
    },
    {
     "data": {
      "application/vnd.jupyter.widget-view+json": {
       "model_id": "",
       "version_major": 2,
       "version_minor": 0
      },
      "text/plain": [
       "FloatProgress(value=0.0, bar_style='info', description='Progress:', layout=Layout(height='25px', width='50%'),…"
      ]
     },
     "metadata": {},
     "output_type": "display_data"
    },
    {
     "name": "stdout",
     "output_type": "stream",
     "text": [
      "+----+-------+\n",
      "|hour|  count|\n",
      "+----+-------+\n",
      "|   0| 841968|\n",
      "|   1| 815369|\n",
      "|   2| 792394|\n",
      "|   3| 772736|\n",
      "|   4| 757519|\n",
      "|   5| 746738|\n",
      "|   6| 738686|\n",
      "|   7| 734562|\n",
      "|   8| 737505|\n",
      "|   9| 746179|\n",
      "|  10| 762729|\n",
      "|  11| 791741|\n",
      "|  12| 828841|\n",
      "|  13| 881877|\n",
      "|  14| 951486|\n",
      "|  15|1027741|\n",
      "|  16|1068131|\n",
      "|  17|1069106|\n",
      "|  18|1050910|\n",
      "|  19|1021136|\n",
      "+----+-------+\n",
      "only showing top 20 rows"
     ]
    }
   ],
   "source": [
    "songs_in_hour = df.filter(df.page == 'NextSong').groupby(df.hour).count().orderBy(df.hour.cast('float')).show()"
   ]
  },
  {
   "cell_type": "code",
   "execution_count": null,
   "metadata": {},
   "outputs": [],
   "source": [
    "# DATABRICKS data frame\n",
    "songs_in_hour = df.filter(df.page == 'NextSong').groupby(df.hour).count().orderBy(df.hour.cast('float'))\n",
    "display(songs_in_hour)"
   ]
  },
  {
   "cell_type": "markdown",
   "metadata": {},
   "source": [
    "<img src=\"songs_hour.png\">"
   ]
  },
  {
   "cell_type": "code",
   "execution_count": 46,
   "metadata": {},
   "outputs": [
    {
     "data": {
      "application/vnd.jupyter.widget-view+json": {
       "model_id": "401f23a7d06c47bd8874122d6f18a790",
       "version_major": 2,
       "version_minor": 0
      },
      "text/plain": [
       "VBox()"
      ]
     },
     "metadata": {},
     "output_type": "display_data"
    },
    {
     "data": {
      "application/vnd.jupyter.widget-view+json": {
       "model_id": "",
       "version_major": 2,
       "version_minor": 0
      },
      "text/plain": [
       "FloatProgress(value=0.0, bar_style='info', description='Progress:', layout=Layout(height='25px', width='50%'),…"
      ]
     },
     "metadata": {},
     "output_type": "display_data"
    },
    {
     "name": "stdout",
     "output_type": "stream",
     "text": [
      "+---------+-------+\n",
      "|  weekday|  count|\n",
      "+---------+-------+\n",
      "|Wednesday|3498672|\n",
      "|  Tuesday|3545454|\n",
      "|   Friday|3448315|\n",
      "| Thursday|3402855|\n",
      "| Saturday|2014448|\n",
      "|   Monday|3188927|\n",
      "|   Sunday|1751601|\n",
      "+---------+-------+"
     ]
    }
   ],
   "source": [
    "# songs per days\n",
    "songs_in_day = df.filter(df.page == 'NextSong').groupby(df.weekday).count().show()\n"
   ]
  },
  {
   "cell_type": "code",
   "execution_count": null,
   "metadata": {},
   "outputs": [],
   "source": [
    "# DATABRICKS data frame\n",
    "songs_in_day = df.filter(df.page == 'NextSong').groupby(df.weekday).count()\n",
    "display(songs_in_day)"
   ]
  },
  {
   "cell_type": "markdown",
   "metadata": {},
   "source": [
    "<img src=\"songs_weekday.png\">"
   ]
  },
  {
   "cell_type": "code",
   "execution_count": null,
   "metadata": {},
   "outputs": [],
   "source": [
    "# DATABRICKS data frame\n",
    "df = df.withColumn('state', split(col('location'),',').getItem(1))\n",
    "state_data = df.dropDuplicates(['churn','userId']).groupby(['state','churn']).count().sort('state')\n",
    "display(state_data)"
   ]
  },
  {
   "cell_type": "markdown",
   "metadata": {},
   "source": [
    "<img src=\"location1.png\">"
   ]
  },
  {
   "cell_type": "code",
   "execution_count": 47,
   "metadata": {},
   "outputs": [
    {
     "data": {
      "application/vnd.jupyter.widget-view+json": {
       "model_id": "542215282b5b4d17ac3fc3923d58faf5",
       "version_major": 2,
       "version_minor": 0
      },
      "text/plain": [
       "VBox()"
      ]
     },
     "metadata": {},
     "output_type": "display_data"
    },
    {
     "data": {
      "application/vnd.jupyter.widget-view+json": {
       "model_id": "",
       "version_major": 2,
       "version_minor": 0
      },
      "text/plain": [
       "FloatProgress(value=0.0, bar_style='info', description='Progress:', layout=Layout(height='25px', width='50%'),…"
      ]
     },
     "metadata": {},
     "output_type": "display_data"
    },
    {
     "name": "stdout",
     "output_type": "stream",
     "text": [
      "+-------+----------+---------+-------------+-------------+--------------------+\n",
      "| userId|      date|sessionId|          end|        start|day_session_duration|\n",
      "+-------+----------+---------+-------------+-------------+--------------------+\n",
      "|1372655|2018-10-01|    26264|1538438255000|1538424626000|             13629.0|\n",
      "|1339441|2018-10-01|     8410|1538438388000|1538395196000|             43192.0|\n",
      "|1351140|2018-10-01|     2368|1538437762000|1538420713000|             17049.0|\n",
      "|1472238|2018-10-01|     7331|1538434551000|1538405518000|             29033.0|\n",
      "|1141148|2018-10-01|    20490|1538438390000|1538364679000|             73711.0|\n",
      "|1223922|2018-10-01|    14820|1538438251000|1538390515000|             47736.0|\n",
      "|1596949|2018-10-01|    28166|1538438241000|1538424357000|             13884.0|\n",
      "|1449452|2018-10-01|    28560|1538438308000|1538418299000|             20009.0|\n",
      "|1319363|2018-10-02|    24768|1538443608000|1538438416000|              5192.0|\n",
      "|1227242|2018-10-02|    19079|1538452795000|1538438416000|             14379.0|\n",
      "|1054471|2018-10-02|    26226|1538501566000|1538438450000|             63116.0|\n",
      "|1535803|2018-10-02|    17771|1538487364000|1538438520000|             48844.0|\n",
      "|1377216|2018-10-02|    25039|1538439781000|1538438547000|              1234.0|\n",
      "|1506154|2018-10-02|     2186|1538442719000|1538438550000|              4169.0|\n",
      "|1043011|2018-10-02|    27022|1538489291000|1538438681000|             50610.0|\n",
      "|1806214|2018-10-02|    24647|1538454785000|1538446120000|              8665.0|\n",
      "|1066974|2018-10-02|    29996|1538452187000|1538449080000|              3107.0|\n",
      "|1711691|2018-10-02|    29409|1538495994000|1538459264000|             36730.0|\n",
      "|1883991|2018-10-02|    23190|1538474008000|1538464513000|              9495.0|\n",
      "|1035360|2018-10-02|    30255|1538472846000|1538469486000|              3360.0|\n",
      "+-------+----------+---------+-------------+-------------+--------------------+\n",
      "only showing top 20 rows"
     ]
    }
   ],
   "source": [
    "# sessions duration per day per userId\n",
    "day_session = df.groupby('userId','date','sessionId').\\\n",
    "    agg(F.max('ts').alias('end'), F.min('ts').alias('start')).\\\n",
    "    withColumn('day_session_duration', (col('end')-col('start'))*0.001)\n",
    "day_session.show()"
   ]
  },
  {
   "cell_type": "code",
   "execution_count": 48,
   "metadata": {},
   "outputs": [
    {
     "data": {
      "application/vnd.jupyter.widget-view+json": {
       "model_id": "ee3abab4af674409b850e06aecb786d0",
       "version_major": 2,
       "version_minor": 0
      },
      "text/plain": [
       "VBox()"
      ]
     },
     "metadata": {},
     "output_type": "display_data"
    },
    {
     "data": {
      "application/vnd.jupyter.widget-view+json": {
       "model_id": "",
       "version_major": 2,
       "version_minor": 0
      },
      "text/plain": [
       "FloatProgress(value=0.0, bar_style='info', description='Progress:', layout=Layout(height='25px', width='50%'),…"
      ]
     },
     "metadata": {},
     "output_type": "display_data"
    },
    {
     "name": "stdout",
     "output_type": "stream",
     "text": [
      "+-------------------------+\n",
      "|max(day_session_duration)|\n",
      "+-------------------------+\n",
      "|                  86397.0|\n",
      "+-------------------------+"
     ]
    }
   ],
   "source": [
    "day_session_max = day_session.agg({'day_session_duration': 'max'}).show()"
   ]
  },
  {
   "cell_type": "code",
   "execution_count": 49,
   "metadata": {
    "scrolled": true
   },
   "outputs": [
    {
     "data": {
      "application/vnd.jupyter.widget-view+json": {
       "model_id": "1d2f600cab4245beac6c70038036d157",
       "version_major": 2,
       "version_minor": 0
      },
      "text/plain": [
       "VBox()"
      ]
     },
     "metadata": {},
     "output_type": "display_data"
    },
    {
     "data": {
      "application/vnd.jupyter.widget-view+json": {
       "model_id": "",
       "version_major": 2,
       "version_minor": 0
      },
      "text/plain": [
       "FloatProgress(value=0.0, bar_style='info', description='Progress:', layout=Layout(height='25px', width='50%'),…"
      ]
     },
     "metadata": {},
     "output_type": "display_data"
    },
    {
     "name": "stdout",
     "output_type": "stream",
     "text": [
      "23.999166666666667"
     ]
    }
   ],
   "source": [
    "# max seconds in hours\n",
    "86397/3600"
   ]
  },
  {
   "cell_type": "code",
   "execution_count": 50,
   "metadata": {},
   "outputs": [
    {
     "data": {
      "application/vnd.jupyter.widget-view+json": {
       "model_id": "142469a1544a4cd3b614890465ccbe96",
       "version_major": 2,
       "version_minor": 0
      },
      "text/plain": [
       "VBox()"
      ]
     },
     "metadata": {},
     "output_type": "display_data"
    },
    {
     "data": {
      "application/vnd.jupyter.widget-view+json": {
       "model_id": "",
       "version_major": 2,
       "version_minor": 0
      },
      "text/plain": [
       "FloatProgress(value=0.0, bar_style='info', description='Progress:', layout=Layout(height='25px', width='50%'),…"
      ]
     },
     "metadata": {},
     "output_type": "display_data"
    },
    {
     "name": "stdout",
     "output_type": "stream",
     "text": [
      "+-------+-------------+\n",
      "| userId|daily_sec_avg|\n",
      "+-------+-------------+\n",
      "|1685455|      72852.0|\n",
      "|1815032|      71574.0|\n",
      "|1867030|      63449.0|\n",
      "|1945321|      63116.0|\n",
      "|1133049|      62968.0|\n",
      "|1788891|      61363.0|\n",
      "|1005217|      60681.0|\n",
      "|1032628|      59231.0|\n",
      "|1242486|      57459.0|\n",
      "|1645549|      57315.0|\n",
      "|1021090|      57043.0|\n",
      "|1382275|      56060.0|\n",
      "|1947971|      54438.0|\n",
      "|1366694|      54239.0|\n",
      "|1368082|      54042.0|\n",
      "|1435384|      52866.0|\n",
      "|1730053|      51444.0|\n",
      "|1358369|      49304.0|\n",
      "|1840331|      48942.0|\n",
      "|1578939|      48424.0|\n",
      "+-------+-------------+\n",
      "only showing top 20 rows"
     ]
    }
   ],
   "source": [
    "# daily session average duration \n",
    "daily_duration = df.groupby('userId','date','sessionId').\\\n",
    "    agg(F.max('ts').alias('end'), F.min('ts').alias('start')).\\\n",
    "    withColumn('session_duration', (col('end')-col('start'))*0.001).\\\n",
    "    groupby('userId','date').\\\n",
    "    avg('session_duration').\\\n",
    "    groupby('userId').\\\n",
    "    agg(round(F.avg('avg(session_duration)')).alias('daily_sec_avg')).\\\n",
    "    orderBy('daily_sec_avg', ascending=False)\n",
    "daily_duration.show()"
   ]
  },
  {
   "cell_type": "code",
   "execution_count": 51,
   "metadata": {},
   "outputs": [
    {
     "data": {
      "application/vnd.jupyter.widget-view+json": {
       "model_id": "ef98e255a0d843d0873363bd410be5eb",
       "version_major": 2,
       "version_minor": 0
      },
      "text/plain": [
       "VBox()"
      ]
     },
     "metadata": {},
     "output_type": "display_data"
    },
    {
     "data": {
      "application/vnd.jupyter.widget-view+json": {
       "model_id": "",
       "version_major": 2,
       "version_minor": 0
      },
      "text/plain": [
       "FloatProgress(value=0.0, bar_style='info', description='Progress:', layout=Layout(height='25px', width='50%'),…"
      ]
     },
     "metadata": {},
     "output_type": "display_data"
    },
    {
     "name": "stdout",
     "output_type": "stream",
     "text": [
      "+-------+-----+---------+-------------+-------------+----------------------+\n",
      "| userId|month|sessionId|          end|        start|month_session_duration|\n",
      "+-------+-----+---------+-------------+-------------+----------------------+\n",
      "|1656284|   10|    18520|1538587885000|1538513994000|               73891.0|\n",
      "|1762251|   10|    18962|1538585050000|1538577708000|                7342.0|\n",
      "|1864952|   10|    17447|1538604942000|1538574190000|               30752.0|\n",
      "|1016701|   10|    30374|1538582760000|1538580822000|                1938.0|\n",
      "|1927775|   10|    34246|1538588861000|1538570873000|               17988.0|\n",
      "|1676531|   10|    29305|1538632261000|1538579481000|               52780.0|\n",
      "|1392515|   10|    31924|1538585478000|1538580000000|                5478.0|\n",
      "|1453014|   10|    37327|1538601680000|1538582054000|               19626.0|\n",
      "|1452292|   10|     1296|1538585922000|1538583524000|                2398.0|\n",
      "|1199076|   10|    36948|1538605531000|1538599710000|                5821.0|\n",
      "|1772801|   10|    38977|1538616727000|1538607813000|                8914.0|\n",
      "|1526624|   10|    37553|1538620932000|1538613383000|                7549.0|\n",
      "|1478874|   10|    29403|1538622617000|1538619454000|                3163.0|\n",
      "|1417835|   10|    39916|1538625434000|1538620781000|                4653.0|\n",
      "|1139724|   10|     5049|1538650137000|1538628619000|               21518.0|\n",
      "|1513921|   10|    27811|1538652194000|1538630040000|               22154.0|\n",
      "|1904754|   10|    22340|1538657323000|1538639880000|               17443.0|\n",
      "|1545728|   10|    22801|1538646350000|1538641307000|                5043.0|\n",
      "|1962597|   10|    37648|1538646258000|1538642591000|                3667.0|\n",
      "|1708721|   10|    38973|1538655371000|1538646853000|                8518.0|\n",
      "+-------+-----+---------+-------------+-------------+----------------------+\n",
      "only showing top 20 rows"
     ]
    }
   ],
   "source": [
    "# sessions duration per month per userId\n",
    "month_session = df.groupby('userId','month','sessionId').\\\n",
    "    agg(F.max('ts').alias('end'), F.min('ts').alias('start')).\\\n",
    "    withColumn('month_session_duration', (col('end')-col('start'))*0.001)\n",
    "month_session.show()\n"
   ]
  },
  {
   "cell_type": "code",
   "execution_count": 52,
   "metadata": {},
   "outputs": [
    {
     "data": {
      "application/vnd.jupyter.widget-view+json": {
       "model_id": "da2320322f6c4122bfcea0ace90c6da2",
       "version_major": 2,
       "version_minor": 0
      },
      "text/plain": [
       "VBox()"
      ]
     },
     "metadata": {},
     "output_type": "display_data"
    },
    {
     "data": {
      "application/vnd.jupyter.widget-view+json": {
       "model_id": "",
       "version_major": 2,
       "version_minor": 0
      },
      "text/plain": [
       "FloatProgress(value=0.0, bar_style='info', description='Progress:', layout=Layout(height='25px', width='50%'),…"
      ]
     },
     "metadata": {},
     "output_type": "display_data"
    },
    {
     "name": "stdout",
     "output_type": "stream",
     "text": [
      "+-------+-------------+\n",
      "| userId|month_sec_avg|\n",
      "+-------+-------------+\n",
      "|1815032|     143408.0|\n",
      "|1272739|     142548.0|\n",
      "|1151521|     136324.0|\n",
      "|1788643|     125212.0|\n",
      "|1334667|     120627.0|\n",
      "|1021090|     114250.0|\n",
      "|1382275|     112276.0|\n",
      "|1719533|     111821.0|\n",
      "|1839248|     111230.0|\n",
      "|1730053|     107110.0|\n",
      "|1483106|     102642.0|\n",
      "|1005217|     101344.0|\n",
      "|1788891|      99570.0|\n",
      "|1578939|      97063.0|\n",
      "|1872977|      94126.0|\n",
      "|1379420|      94065.0|\n",
      "|1502280|      93627.0|\n",
      "|1073319|      92369.0|\n",
      "|1835097|      92294.0|\n",
      "|1221432|      89689.0|\n",
      "+-------+-------------+\n",
      "only showing top 20 rows"
     ]
    }
   ],
   "source": [
    "month_duration = df.groupby('userId','month','sessionId').\\\n",
    "    agg(F.max('ts').alias('end'), F.min('ts').alias('start')).\\\n",
    "    withColumn('session_duration', (col('end')-col('start'))*0.001).\\\n",
    "    groupby('userId','month').\\\n",
    "    avg('session_duration').\\\n",
    "    groupby('userId').\\\n",
    "    agg(round(F.avg('avg(session_duration)')).alias('month_sec_avg')).\\\n",
    "    orderBy('month_sec_avg', ascending=False)\n",
    "month_duration.show()"
   ]
  },
  {
   "cell_type": "code",
   "execution_count": 53,
   "metadata": {},
   "outputs": [
    {
     "data": {
      "application/vnd.jupyter.widget-view+json": {
       "model_id": "38a83befa798498599569da5935440d4",
       "version_major": 2,
       "version_minor": 0
      },
      "text/plain": [
       "VBox()"
      ]
     },
     "metadata": {},
     "output_type": "display_data"
    },
    {
     "data": {
      "application/vnd.jupyter.widget-view+json": {
       "model_id": "",
       "version_major": 2,
       "version_minor": 0
      },
      "text/plain": [
       "FloatProgress(value=0.0, bar_style='info', description='Progress:', layout=Layout(height='25px', width='50%'),…"
      ]
     },
     "metadata": {},
     "output_type": "display_data"
    },
    {
     "name": "stdout",
     "output_type": "stream",
     "text": [
      "+-------+--------+\n",
      "| userId|reg_days|\n",
      "+-------+--------+\n",
      "|1390009|    36.0|\n",
      "|1519090|    64.0|\n",
      "|1394508|    92.0|\n",
      "|1178731|    93.0|\n",
      "|1351489|    74.0|\n",
      "|1358765|    93.0|\n",
      "|1500901|    84.0|\n",
      "|1718034|    46.0|\n",
      "|1384823|    54.0|\n",
      "|1083324|   149.0|\n",
      "|1633577|   133.0|\n",
      "|1875484|    44.0|\n",
      "|1492713|   127.0|\n",
      "|1658815|    66.0|\n",
      "|1114507|   100.0|\n",
      "|1331962|    72.0|\n",
      "|1588738|   119.0|\n",
      "|1338783|    61.0|\n",
      "|1965481|    75.0|\n",
      "|1057724|    96.0|\n",
      "+-------+--------+\n",
      "only showing top 20 rows"
     ]
    }
   ],
   "source": [
    "# registered days per users\n",
    "reg_days = df.groupby('userId').agg(round(((F.max(unix_timestamp('timestamp')) - F.min(unix_timestamp('reg_timestamp')))/86400)).alias('reg_days'))\n",
    "reg_days.show()"
   ]
  },
  {
   "cell_type": "code",
   "execution_count": 54,
   "metadata": {},
   "outputs": [
    {
     "data": {
      "application/vnd.jupyter.widget-view+json": {
       "model_id": "747878522870474abbfc7689950e3d23",
       "version_major": 2,
       "version_minor": 0
      },
      "text/plain": [
       "VBox()"
      ]
     },
     "metadata": {},
     "output_type": "display_data"
    },
    {
     "data": {
      "application/vnd.jupyter.widget-view+json": {
       "model_id": "",
       "version_major": 2,
       "version_minor": 0
      },
      "text/plain": [
       "FloatProgress(value=0.0, bar_style='info', description='Progress:', layout=Layout(height='25px', width='50%'),…"
      ]
     },
     "metadata": {},
     "output_type": "display_data"
    },
    {
     "name": "stdout",
     "output_type": "stream",
     "text": [
      "+-------+-----------+\n",
      "| userId|active_days|\n",
      "+-------+-----------+\n",
      "|1658815|       60.0|\n",
      "|1178731|       61.0|\n",
      "|1057724|       58.0|\n",
      "|1718034|        9.0|\n",
      "|1069552|       56.0|\n",
      "|1588738|       58.0|\n",
      "|1875484|       28.0|\n",
      "|1396828|       43.0|\n",
      "|1983423|       41.0|\n",
      "|1142513|       57.0|\n",
      "|1384823|       45.0|\n",
      "|1200956|       59.0|\n",
      "|1271218|       60.0|\n",
      "|1965481|       59.0|\n",
      "|1339632|       59.0|\n",
      "|1803077|       44.0|\n",
      "|1190352|       57.0|\n",
      "|1619792|       56.0|\n",
      "|1612069|       57.0|\n",
      "|1002185|       58.0|\n",
      "+-------+-----------+\n",
      "only showing top 20 rows"
     ]
    }
   ],
   "source": [
    "# active days per user 2018-10-1 - 2018-11-30\n",
    "active_days = df.groupby('userId').agg(round(((F.max(unix_timestamp('timestamp')) - F.min(unix_timestamp('timestamp')))/86400)).alias('active_days'))\n",
    "active_days.show()"
   ]
  },
  {
   "cell_type": "markdown",
   "metadata": {},
   "source": [
    "# 4 Feature Engineering\n",
    "Next we build out the features we find promising to train our model on. After aggregating features by individual customers, I will also exam features by visuals and some tests.\n",
    "\n",
    "Selected features are:\n",
    "- gender\n",
    "- level of customer: paid or free\n",
    "- sum of artists per customer\n",
    "- sum of songs per customer\n",
    "- sum of sessions per customer\n",
    "- sum of length per customer\n",
    "- sum of thumbs up given per customer\n",
    "- sum of thumbs down given per customer\n",
    "- sum of friends added per customer\n",
    "- sum of songs added to playlist per customer\n",
    "- sum of advertisements showed per customer\n",
    "- sum of errors per customer\n",
    "- sum of help page visited per customer\n",
    "- average items in session per customer\n",
    "- average session length per customer\n",
    "\n",
    "\n",
    "\n",
    "I also took these features on that we can describe churned customers better:\n",
    "- cancellation confirmation\n",
    "- submit downgrade\n",
    "- sum churn feature (calculates all variations to churn)"
   ]
  },
  {
   "cell_type": "code",
   "execution_count": 55,
   "metadata": {},
   "outputs": [
    {
     "data": {
      "application/vnd.jupyter.widget-view+json": {
       "model_id": "ac71603bc0d246f1a8f1a2d5bfc03b47",
       "version_major": 2,
       "version_minor": 0
      },
      "text/plain": [
       "VBox()"
      ]
     },
     "metadata": {},
     "output_type": "display_data"
    },
    {
     "data": {
      "application/vnd.jupyter.widget-view+json": {
       "model_id": "",
       "version_major": 2,
       "version_minor": 0
      },
      "text/plain": [
       "FloatProgress(value=0.0, bar_style='info', description='Progress:', layout=Layout(height='25px', width='50%'),…"
      ]
     },
     "metadata": {},
     "output_type": "display_data"
    }
   ],
   "source": [
    "# DATABRICKS data frame# create user_df with aggregated features grouping by userId\n",
    "# create new columns: cancelled, downgraded,sum_churn,sum_artists, sum_songs, sum_sessions, avg_items\n",
    "# sum_lenght, avg_lenght, sum_tup, sum_tdown, sum_friend, sum_playlist, sum_advert,sum_help\n",
    "\n",
    "\n",
    "user_df = df.groupby('userId')\\\n",
    "    .agg(\n",
    " # user_df features:\n",
    "    first(when(col('gender') == \"F\", 1).otherwise(0)).alias('gender'),\n",
    "    first(when(col('level') == \"paid\", 1).otherwise(0)).alias('level'),\n",
    "    F.sum(when(col('page') == \"Cancellation Confirmation\", 1).otherwise(0)).alias('cancelled'),\n",
    "    F.sum(when(col('page') == \"Submit Downgrade\", 1).otherwise(0)).alias('downgraded'),\n",
    "    F.sum(when((col('cancelled')==1) | (col('downgraded')==1),1).otherwise(0)).alias('sum_churn'),\n",
    "    F.sum(when(col('page') == \"NextSong\", 1).otherwise(0)).alias('sum_songs'),\n",
    "    F.sum(when(col('sessionId')> 1, 1).otherwise(0)).alias('sum_sessions'),\n",
    "    F.avg(when(col('itemInSession')> 1, 1).otherwise(0)).alias('avg_items'),\n",
    "    F.sum(when(col('length')>1, 1).otherwise(0)).alias('sum_lenght'),\n",
    "    F.avg(when(col('length')>1, 1).otherwise(0)).alias('avg_lenght'),\n",
    "    F.sum(when(col('page') == \"Thumbs Up\", 1).otherwise(0)).alias('sum_tup'),\n",
    "    F.sum(when(col('page') == \"Thumbs Down\", 1).otherwise(0)).alias('sum_tdown'),\n",
    "    F.sum(when(col('page') == \"Add Friend\", 1).otherwise(0)).alias('sum_friend'),\n",
    "    F.sum(when(col('page') == \"Add to Playlist\", 1).otherwise(0)).alias('sum_playlist'), \n",
    "    F.sum(when(col('page') == \"Roll Advert\", 1).otherwise(0)).alias('sum_advert'),\n",
    "    F.sum(when(col('page') == \"Error\", 1).otherwise(0)).alias('sum_errors'),\n",
    "    F.sum(when(col('page') == \"Help\", 1).otherwise(0)).alias('sum_help'))\n",
    "\n"
   ]
  },
  {
   "cell_type": "code",
   "execution_count": 57,
   "metadata": {},
   "outputs": [
    {
     "data": {
      "application/vnd.jupyter.widget-view+json": {
       "model_id": "54300eeabbc8493ea715179283f7c4b5",
       "version_major": 2,
       "version_minor": 0
      },
      "text/plain": [
       "VBox()"
      ]
     },
     "metadata": {},
     "output_type": "display_data"
    },
    {
     "data": {
      "application/vnd.jupyter.widget-view+json": {
       "model_id": "",
       "version_major": 2,
       "version_minor": 0
      },
      "text/plain": [
       "FloatProgress(value=0.0, bar_style='info', description='Progress:', layout=Layout(height='25px', width='50%'),…"
      ]
     },
     "metadata": {},
     "output_type": "display_data"
    }
   ],
   "source": [
    "# join previously created features registered and active days in user_df \n",
    "temp_df = reg_days.join(active_days,['userId'])\n",
    "user_df = user_df.join(temp_df,['userId'])"
   ]
  },
  {
   "cell_type": "code",
   "execution_count": 59,
   "metadata": {},
   "outputs": [
    {
     "data": {
      "application/vnd.jupyter.widget-view+json": {
       "model_id": "314821ab49414e5b815d6eb930ffd102",
       "version_major": 2,
       "version_minor": 0
      },
      "text/plain": [
       "VBox()"
      ]
     },
     "metadata": {},
     "output_type": "display_data"
    },
    {
     "data": {
      "application/vnd.jupyter.widget-view+json": {
       "model_id": "",
       "version_major": 2,
       "version_minor": 0
      },
      "text/plain": [
       "FloatProgress(value=0.0, bar_style='info', description='Progress:', layout=Layout(height='25px', width='50%'),…"
      ]
     },
     "metadata": {},
     "output_type": "display_data"
    }
   ],
   "source": [
    "# create new churn value 0 or 1 instead of churn values 1-3\n",
    "label = df.groupby('userId').agg(countDistinct('churn').alias('sum_churn')).dropDuplicates()\n",
    "label = label.groupby('userId')\\\n",
    "    .agg(first(when(col('sum_churn') > 1, 1).otherwise(0)).alias('churn'))\n"
   ]
  },
  {
   "cell_type": "code",
   "execution_count": 60,
   "metadata": {},
   "outputs": [
    {
     "data": {
      "application/vnd.jupyter.widget-view+json": {
       "model_id": "559f4cb54c4940acb223fd472bf52805",
       "version_major": 2,
       "version_minor": 0
      },
      "text/plain": [
       "VBox()"
      ]
     },
     "metadata": {},
     "output_type": "display_data"
    },
    {
     "data": {
      "application/vnd.jupyter.widget-view+json": {
       "model_id": "",
       "version_major": 2,
       "version_minor": 0
      },
      "text/plain": [
       "FloatProgress(value=0.0, bar_style='info', description='Progress:', layout=Layout(height='25px', width='50%'),…"
      ]
     },
     "metadata": {},
     "output_type": "display_data"
    }
   ],
   "source": [
    "user_df = user_df.join(label, ['userId'])"
   ]
  },
  {
   "cell_type": "code",
   "execution_count": 61,
   "metadata": {},
   "outputs": [
    {
     "data": {
      "application/vnd.jupyter.widget-view+json": {
       "model_id": "82550685ea7e4463b6e336c62863a570",
       "version_major": 2,
       "version_minor": 0
      },
      "text/plain": [
       "VBox()"
      ]
     },
     "metadata": {},
     "output_type": "display_data"
    },
    {
     "data": {
      "application/vnd.jupyter.widget-view+json": {
       "model_id": "",
       "version_major": 2,
       "version_minor": 0
      },
      "text/plain": [
       "FloatProgress(value=0.0, bar_style='info', description='Progress:', layout=Layout(height='25px', width='50%'),…"
      ]
     },
     "metadata": {},
     "output_type": "display_data"
    },
    {
     "name": "stdout",
     "output_type": "stream",
     "text": [
      "+------+------+-----+---------+----------+---------+---------+------------+---------+----------+----------+-------+---------+----------+------------+----------+----------+--------+--------+-----------+-----+\n",
      "|userId|gender|level|cancelled|downgraded|sum_churn|sum_songs|sum_sessions|avg_items|sum_lenght|avg_lenght|sum_tup|sum_tdown|sum_friend|sum_playlist|sum_advert|sum_errors|sum_help|reg_days|active_days|churn|\n",
      "+------+------+-----+---------+----------+---------+---------+------------+---------+----------+----------+-------+---------+----------+------------+----------+----------+--------+--------+-----------+-----+\n",
      "|     0|     0|    0|        0|         0|        0|        0|           0|        0|         0|         0|      0|        0|         0|           0|         0|         0|       0|       0|          0|    0|\n",
      "+------+------+-----+---------+----------+---------+---------+------------+---------+----------+----------+-------+---------+----------+------------+----------+----------+--------+--------+-----------+-----+"
     ]
    }
   ],
   "source": [
    "# now the whole dataset is ready for examing, so processing the last check for missing values\n",
    "user_df.select([count(when(isnull(c), c)).alias(c) for c in user_df.columns]).show()"
   ]
  },
  {
   "cell_type": "code",
   "execution_count": 62,
   "metadata": {},
   "outputs": [
    {
     "data": {
      "application/vnd.jupyter.widget-view+json": {
       "model_id": "5f7f724602e84e8fb3d22557cde18d53",
       "version_major": 2,
       "version_minor": 0
      },
      "text/plain": [
       "VBox()"
      ]
     },
     "metadata": {},
     "output_type": "display_data"
    },
    {
     "data": {
      "application/vnd.jupyter.widget-view+json": {
       "model_id": "",
       "version_major": 2,
       "version_minor": 0
      },
      "text/plain": [
       "FloatProgress(value=0.0, bar_style='info', description='Progress:', layout=Layout(height='25px', width='50%'),…"
      ]
     },
     "metadata": {},
     "output_type": "display_data"
    },
    {
     "name": "stdout",
     "output_type": "stream",
     "text": [
      "+------+---------+----------+---------+-----+\n",
      "|gender|cancelled|downgraded|sum_churn|count|\n",
      "+------+---------+----------+---------+-----+\n",
      "|     1|        0|         0|        0| 6350|\n",
      "|     0|        0|         0|        0| 6964|\n",
      "|     1|        0|         1|        1| 1521|\n",
      "|     0|        0|         1|        1| 1623|\n",
      "|     1|        1|         0|        1| 1788|\n",
      "|     0|        1|         0|        1| 2072|\n",
      "|     1|        0|         2|        2|  330|\n",
      "|     0|        0|         2|        2|  319|\n",
      "|     1|        1|         1|        2|  431|\n",
      "|     0|        1|         1|        2|  442|\n",
      "|     0|        1|         2|        3|  109|\n",
      "|     1|        0|         3|        3|   61|\n",
      "|     1|        1|         2|        3|   89|\n",
      "|     0|        0|         3|        3|   72|\n",
      "|     1|        1|         3|        4|   36|\n",
      "|     0|        0|         4|        4|   13|\n",
      "|     0|        1|         3|        4|   23|\n",
      "|     1|        0|         4|        4|   11|\n",
      "|     1|        1|         4|        5|    2|\n",
      "|     0|        0|         5|        5|    3|\n",
      "+------+---------+----------+---------+-----+\n",
      "only showing top 20 rows"
     ]
    }
   ],
   "source": [
    "# all variations of customers who are in churn (1 = Female, 0 = Male)\n",
    "churn = user_df.dropDuplicates(['userId', 'cancelled','downgraded','sum_churn']).groupby(['gender','cancelled','downgraded','sum_churn']).count().sort('sum_churn').show()"
   ]
  },
  {
   "cell_type": "markdown",
   "metadata": {},
   "source": [
    "As we can see in the table above, there are 1788 female and 2072 male customers who have cancelled directly (not being downgraded first). This is the largest group in variations of churned customers with 3860 customers togteher. \n",
    "\n",
    "sum of churn 1\n",
    "Second biggest group of variations is customers who have downgraded once: 1521 female and 1623 male, together 3144 customers. \n",
    "\n",
    "sum of churn 2\n",
    "Customers who have downgraded once and cancelled are 431 female and 442 male, together 873.\n",
    "\n",
    "sum of churn 3-5\n",
    "some of the customers have downgraded 3 to 5 times and then cancelled. This is not a big number of customers but would be interesting to searhc more. Customers in this group together are:\n",
    "\n",
    "female 61 + 89 + 36 + 11 + 2 = 199\n",
    "\n",
    "male 109 + 72 + 13 + 23 + 3 = 220"
   ]
  },
  {
   "cell_type": "code",
   "execution_count": 63,
   "metadata": {},
   "outputs": [
    {
     "data": {
      "application/vnd.jupyter.widget-view+json": {
       "model_id": "5857b7cfb9af4430992e2c99d109b53a",
       "version_major": 2,
       "version_minor": 0
      },
      "text/plain": [
       "VBox()"
      ]
     },
     "metadata": {},
     "output_type": "display_data"
    },
    {
     "data": {
      "application/vnd.jupyter.widget-view+json": {
       "model_id": "",
       "version_major": 2,
       "version_minor": 0
      },
      "text/plain": [
       "FloatProgress(value=0.0, bar_style='info', description='Progress:', layout=Layout(height='25px', width='50%'),…"
      ]
     },
     "metadata": {},
     "output_type": "display_data"
    }
   ],
   "source": [
    "# save user_df copy for in case\n",
    "#user_df.write.mode('overwrite').save('s3://<BUCKET_NAME>/user_df.json', format='json')"
   ]
  },
  {
   "cell_type": "code",
   "execution_count": 64,
   "metadata": {},
   "outputs": [
    {
     "data": {
      "application/vnd.jupyter.widget-view+json": {
       "model_id": "ca59a4e1d4a44613af07670d2d91d939",
       "version_major": 2,
       "version_minor": 0
      },
      "text/plain": [
       "VBox()"
      ]
     },
     "metadata": {},
     "output_type": "display_data"
    },
    {
     "data": {
      "application/vnd.jupyter.widget-view+json": {
       "model_id": "",
       "version_major": 2,
       "version_minor": 0
      },
      "text/plain": [
       "FloatProgress(value=0.0, bar_style='info', description='Progress:', layout=Layout(height='25px', width='50%'),…"
      ]
     },
     "metadata": {},
     "output_type": "display_data"
    }
   ],
   "source": [
    "# save user_df to csv file\n",
    "#user_df\\\n",
    "#.coalesce(1)\\\n",
    "#.write\\\n",
    "#.mode('overwrite')\\\n",
    "#.option('header', 'true')\\\n",
    "#.csv('s3://<BUCKET_NAME>/user_df.csv')"
   ]
  },
  {
   "cell_type": "code",
   "execution_count": 61,
   "metadata": {},
   "outputs": [
    {
     "data": {
      "application/vnd.jupyter.widget-view+json": {
       "model_id": "a79009c10e3a4e87ad3a1fb15bd60034",
       "version_major": 2,
       "version_minor": 0
      },
      "text/plain": [
       "VBox()"
      ]
     },
     "metadata": {},
     "output_type": "display_data"
    },
    {
     "data": {
      "application/vnd.jupyter.widget-view+json": {
       "model_id": "",
       "version_major": 2,
       "version_minor": 0
      },
      "text/plain": [
       "FloatProgress(value=0.0, bar_style='info', description='Progress:', layout=Layout(height='25px', width='50%'),…"
      ]
     },
     "metadata": {},
     "output_type": "display_data"
    },
    {
     "name": "stdout",
     "output_type": "stream",
     "text": [
      "22277"
     ]
    }
   ],
   "source": [
    "user_df.count()"
   ]
  },
  {
   "cell_type": "markdown",
   "metadata": {},
   "source": [
    "# 5 Modeling\n",
    "Split the full dataset into train, test, and validation sets. Test out several of the machine learning methods you learned. Evaluate the accuracy of the various models, tuning parameters as necessary. Determine your winning model based on test accuracy and report results on the validation set. Since the churned users are a fairly small subset, I suggest using F1 score as the metric to optimize."
   ]
  },
  {
   "cell_type": "code",
   "execution_count": 3,
   "metadata": {},
   "outputs": [
    {
     "data": {
      "application/vnd.jupyter.widget-view+json": {
       "model_id": "5b682c9e8cc8465faeb14d8266914d3e",
       "version_major": 2,
       "version_minor": 0
      },
      "text/plain": [
       "VBox()"
      ]
     },
     "metadata": {},
     "output_type": "display_data"
    },
    {
     "data": {
      "application/vnd.jupyter.widget-view+json": {
       "model_id": "",
       "version_major": 2,
       "version_minor": 0
      },
      "text/plain": [
       "FloatProgress(value=0.0, bar_style='info', description='Progress:', layout=Layout(height='25px', width='50%'),…"
      ]
     },
     "metadata": {},
     "output_type": "display_data"
    }
   ],
   "source": [
    "# load dataset for setting up ML pipeline\n",
    "#user_df = spark.read.json('s3://<BUCKET_NAME>/user_df.json')"
   ]
  },
  {
   "cell_type": "code",
   "execution_count": 4,
   "metadata": {},
   "outputs": [
    {
     "data": {
      "application/vnd.jupyter.widget-view+json": {
       "model_id": "9d8b32d6e37e4fa69ccc9b7294761885",
       "version_major": 2,
       "version_minor": 0
      },
      "text/plain": [
       "VBox()"
      ]
     },
     "metadata": {},
     "output_type": "display_data"
    },
    {
     "data": {
      "application/vnd.jupyter.widget-view+json": {
       "model_id": "",
       "version_major": 2,
       "version_minor": 0
      },
      "text/plain": [
       "FloatProgress(value=0.0, bar_style='info', description='Progress:', layout=Layout(height='25px', width='50%'),…"
      ]
     },
     "metadata": {},
     "output_type": "display_data"
    },
    {
     "name": "stdout",
     "output_type": "stream",
     "text": [
      "DataFrame[active_days: double, avg_items: double, avg_lenght: double, cancelled: bigint, churn: bigint, downgraded: bigint, gender: bigint, level: bigint, reg_days: double, sum_advert: bigint, sum_churn: bigint, sum_errors: bigint, sum_friend: bigint, sum_help: bigint, sum_lenght: bigint, sum_playlist: bigint, sum_sessions: bigint, sum_songs: bigint, sum_tdown: bigint, sum_tup: bigint, userId: string]"
     ]
    }
   ],
   "source": [
    "user_df.persist()"
   ]
  },
  {
   "cell_type": "code",
   "execution_count": 4,
   "metadata": {},
   "outputs": [
    {
     "data": {
      "application/vnd.jupyter.widget-view+json": {
       "model_id": "e31e47dbfd4749139a00a8911d304f78",
       "version_major": 2,
       "version_minor": 0
      },
      "text/plain": [
       "VBox()"
      ]
     },
     "metadata": {},
     "output_type": "display_data"
    },
    {
     "data": {
      "application/vnd.jupyter.widget-view+json": {
       "model_id": "",
       "version_major": 2,
       "version_minor": 0
      },
      "text/plain": [
       "FloatProgress(value=0.0, bar_style='info', description='Progress:', layout=Layout(height='25px', width='50%'),…"
      ]
     },
     "metadata": {},
     "output_type": "display_data"
    }
   ],
   "source": [
    "# drop columns for ML dataframe: new name user_ml\n",
    "user_df = user_df.drop('userId', 'cancelled','downgraded','sum_churn', 'gender','level')"
   ]
  },
  {
   "cell_type": "code",
   "execution_count": 5,
   "metadata": {},
   "outputs": [
    {
     "data": {
      "application/vnd.jupyter.widget-view+json": {
       "model_id": "82d1ade9707944af996035b683faa57c",
       "version_major": 2,
       "version_minor": 0
      },
      "text/plain": [
       "VBox()"
      ]
     },
     "metadata": {},
     "output_type": "display_data"
    },
    {
     "data": {
      "application/vnd.jupyter.widget-view+json": {
       "model_id": "",
       "version_major": 2,
       "version_minor": 0
      },
      "text/plain": [
       "FloatProgress(value=0.0, bar_style='info', description='Progress:', layout=Layout(height='25px', width='50%'),…"
      ]
     },
     "metadata": {},
     "output_type": "display_data"
    }
   ],
   "source": [
    "# setting features, split dataset to tarin and test\n",
    "#features = [col for col in user_df.columns if col!='churn'] \n",
    "features = ['sum_songs', 'sum_sessions','sum_lenght','sum_tup',\\\n",
    "              'sum_tdown','sum_friend','sum_playlist','sum_advert',\\\n",
    "             'sum_help','sum_errors','avg_items','avg_lenght','reg_days','active_days']\n",
    "train, test = user_df.randomSplit([0.8, 0.2], seed=42)\n",
    "train = train.cache()"
   ]
  },
  {
   "cell_type": "code",
   "execution_count": 6,
   "metadata": {},
   "outputs": [
    {
     "data": {
      "application/vnd.jupyter.widget-view+json": {
       "model_id": "5aa8114204f549f1b10afa666ed51064",
       "version_major": 2,
       "version_minor": 0
      },
      "text/plain": [
       "VBox()"
      ]
     },
     "metadata": {},
     "output_type": "display_data"
    },
    {
     "data": {
      "application/vnd.jupyter.widget-view+json": {
       "model_id": "",
       "version_major": 2,
       "version_minor": 0
      },
      "text/plain": [
       "FloatProgress(value=0.0, bar_style='info', description='Progress:', layout=Layout(height='25px', width='50%'),…"
      ]
     },
     "metadata": {},
     "output_type": "display_data"
    }
   ],
   "source": [
    "def model_pipeline(clf, params):\n",
    "    \"\"\"\n",
    "    Create features as vectors\n",
    "    Standardize vectorized features\n",
    "    Create a pipeline to build a ML models\n",
    "    \"\"\"\n",
    "    assembler = VectorAssembler(inputCols=features, outputCol='vect_features')\n",
    "    scaler = StandardScaler(inputCol='vect_features', outputCol='scaled_features',withStd = True)\n",
    "    #scaler = MinMaxScaler(inputCol='vect_features1', outputCol='scaled_features1')\n",
    "    pipeline = Pipeline(stages=[assembler, scaler, clf])\n",
    "\n",
    "    model = CrossValidator(\n",
    "        estimator=pipeline,\n",
    "        estimatorParamMaps=params,\n",
    "        evaluator = MulticlassClassificationEvaluator(labelCol='churn', metricName='f1'),\n",
    "        numFolds=3,\n",
    "    )\n",
    "    return model"
   ]
  },
  {
   "cell_type": "code",
   "execution_count": 7,
   "metadata": {},
   "outputs": [
    {
     "data": {
      "application/vnd.jupyter.widget-view+json": {
       "model_id": "3edb97dd59e440558a889e288a1a854e",
       "version_major": 2,
       "version_minor": 0
      },
      "text/plain": [
       "VBox()"
      ]
     },
     "metadata": {},
     "output_type": "display_data"
    },
    {
     "data": {
      "application/vnd.jupyter.widget-view+json": {
       "model_id": "",
       "version_major": 2,
       "version_minor": 0
      },
      "text/plain": [
       "FloatProgress(value=0.0, bar_style='info', description='Progress:', layout=Layout(height='25px', width='50%'),…"
      ]
     },
     "metadata": {},
     "output_type": "display_data"
    }
   ],
   "source": [
    "# evaluation metrics for ML models\n",
    "def model_metrics(pred_model):\n",
    "   \n",
    "    evaluator = MulticlassClassificationEvaluator(predictionCol = 'prediction',labelCol='churn')\n",
    "    print('The metrics for the model:')\n",
    "    print('The f1 Score is {}'.format(evaluator.evaluate(pred_model, {evaluator.metricName : 'f1'})))\n",
    "    print('The accuracy is {}'.format(evaluator.evaluate(pred_model, {evaluator.metricName : 'accuracy'})))\n",
    "\n",
    "    auc_evaluator = BinaryClassificationEvaluator(labelCol='churn')\n",
    "    metric = auc_evaluator.evaluate(pred_model, {auc_evaluator.metricName: 'areaUnderROC'})\n",
    "    print('The areaUnderROC: {:.2%}'.format(metric))\n",
    "    "
   ]
  },
  {
   "cell_type": "markdown",
   "metadata": {},
   "source": [
    "#### logistic regression classifier"
   ]
  },
  {
   "cell_type": "code",
   "execution_count": 70,
   "metadata": {},
   "outputs": [
    {
     "data": {
      "application/vnd.jupyter.widget-view+json": {
       "model_id": "c131979ab9f84786a7d4c64292f1ce66",
       "version_major": 2,
       "version_minor": 0
      },
      "text/plain": [
       "VBox()"
      ]
     },
     "metadata": {},
     "output_type": "display_data"
    },
    {
     "data": {
      "application/vnd.jupyter.widget-view+json": {
       "model_id": "",
       "version_major": 2,
       "version_minor": 0
      },
      "text/plain": [
       "FloatProgress(value=0.0, bar_style='info', description='Progress:', layout=Layout(height='25px', width='50%'),…"
      ]
     },
     "metadata": {},
     "output_type": "display_data"
    }
   ],
   "source": [
    "# logistic regression classifier\n",
    "mod1 = LogisticRegression(featuresCol='scaled_features', labelCol='churn')\n",
    "mod1_param = ParamGridBuilder().build()\n",
    "model_lr = model_pipeline(mod1, mod1_param)\n",
    "# fit logistic regression \n",
    "cv_model_lr = model_lr.fit(train)\n",
    "# predict logistic regression \n",
    "pred_lr = cv_model_lr.transform(test)"
   ]
  },
  {
   "cell_type": "markdown",
   "metadata": {},
   "source": [
    "#### random forest classifier"
   ]
  },
  {
   "cell_type": "code",
   "execution_count": 73,
   "metadata": {},
   "outputs": [
    {
     "data": {
      "application/vnd.jupyter.widget-view+json": {
       "model_id": "e4280eb344224b628b728b33857eae56",
       "version_major": 2,
       "version_minor": 0
      },
      "text/plain": [
       "VBox()"
      ]
     },
     "metadata": {},
     "output_type": "display_data"
    },
    {
     "data": {
      "application/vnd.jupyter.widget-view+json": {
       "model_id": "",
       "version_major": 2,
       "version_minor": 0
      },
      "text/plain": [
       "FloatProgress(value=0.0, bar_style='info', description='Progress:', layout=Layout(height='25px', width='50%'),…"
      ]
     },
     "metadata": {},
     "output_type": "display_data"
    },
    {
     "name": "stderr",
     "output_type": "stream",
     "text": [
      "Exception in thread cell_monitor-73:\n",
      "Traceback (most recent call last):\n",
      "  File \"/opt/conda/lib/python3.7/threading.py\", line 926, in _bootstrap_inner\n",
      "    self.run()\n",
      "  File \"/opt/conda/lib/python3.7/threading.py\", line 870, in run\n",
      "    self._target(*self._args, **self._kwargs)\n",
      "  File \"/opt/conda/lib/python3.7/site-packages/awseditorssparkmonitoringwidget-1.0-py3.7.egg/awseditorssparkmonitoringwidget/cellmonitor.py\", line 178, in cell_monitor\n",
      "    job_binned_stages[job_id][stage_id] = all_stages[stage_id]\n",
      "KeyError: 2496\n",
      "\n"
     ]
    }
   ],
   "source": [
    "# random forest classifier\n",
    "mod2 = RandomForestClassifier(featuresCol='scaled_features', labelCol='churn')\n",
    "mod2_param = ParamGridBuilder().build()\n",
    "model_rf = model_pipeline(mod2, mod2_param)\n",
    "# fit random forest\n",
    "cv_model_rf = model_rf.fit(train)\n",
    "# predict random forest\n",
    "pred_rf = cv_model_rf.transform(test)"
   ]
  },
  {
   "cell_type": "markdown",
   "metadata": {},
   "source": [
    "#### gradient boost classifier"
   ]
  },
  {
   "cell_type": "code",
   "execution_count": 74,
   "metadata": {},
   "outputs": [
    {
     "data": {
      "application/vnd.jupyter.widget-view+json": {
       "model_id": "11ecb99f9dab413bbcbaef4ee1c63471",
       "version_major": 2,
       "version_minor": 0
      },
      "text/plain": [
       "VBox()"
      ]
     },
     "metadata": {},
     "output_type": "display_data"
    },
    {
     "data": {
      "application/vnd.jupyter.widget-view+json": {
       "model_id": "",
       "version_major": 2,
       "version_minor": 0
      },
      "text/plain": [
       "FloatProgress(value=0.0, bar_style='info', description='Progress:', layout=Layout(height='25px', width='50%'),…"
      ]
     },
     "metadata": {},
     "output_type": "display_data"
    },
    {
     "name": "stderr",
     "output_type": "stream",
     "text": [
      "Exception in thread cell_monitor-74:\n",
      "Traceback (most recent call last):\n",
      "  File \"/opt/conda/lib/python3.7/threading.py\", line 926, in _bootstrap_inner\n",
      "    self.run()\n",
      "  File \"/opt/conda/lib/python3.7/threading.py\", line 870, in run\n",
      "    self._target(*self._args, **self._kwargs)\n",
      "  File \"/opt/conda/lib/python3.7/site-packages/awseditorssparkmonitoringwidget-1.0-py3.7.egg/awseditorssparkmonitoringwidget/cellmonitor.py\", line 178, in cell_monitor\n",
      "    job_binned_stages[job_id][stage_id] = all_stages[stage_id]\n",
      "KeyError: 2695\n",
      "\n"
     ]
    }
   ],
   "source": [
    "# gradient boost classifier\n",
    "mod3 =GBTClassifier(featuresCol='scaled_features', labelCol='churn')\n",
    "mod3_param = ParamGridBuilder().build()\n",
    "model_gb = model_pipeline(mod3, mod3_param)\n",
    "# fit gradient boost\n",
    "cv_model_gb = model_gb.fit(train)\n",
    "# predict gradient boost\n",
    "pred_gb = cv_model_gb.transform(test)"
   ]
  },
  {
   "cell_type": "code",
   "execution_count": 71,
   "metadata": {},
   "outputs": [
    {
     "data": {
      "application/vnd.jupyter.widget-view+json": {
       "model_id": "e785937bf475488aa24a523d3056df3f",
       "version_major": 2,
       "version_minor": 0
      },
      "text/plain": [
       "VBox()"
      ]
     },
     "metadata": {},
     "output_type": "display_data"
    },
    {
     "data": {
      "application/vnd.jupyter.widget-view+json": {
       "model_id": "",
       "version_major": 2,
       "version_minor": 0
      },
      "text/plain": [
       "FloatProgress(value=0.0, bar_style='info', description='Progress:', layout=Layout(height='25px', width='50%'),…"
      ]
     },
     "metadata": {},
     "output_type": "display_data"
    },
    {
     "name": "stdout",
     "output_type": "stream",
     "text": [
      "The metrics for the model:\n",
      "The f1 Score is 0.7339593769127118\n",
      "The accuracy is 0.738580931263858\n",
      "The areaUnderROC: 80.04%"
     ]
    },
    {
     "name": "stderr",
     "output_type": "stream",
     "text": [
      "Exception in thread cell_monitor-70:\n",
      "Traceback (most recent call last):\n",
      "  File \"/opt/conda/lib/python3.7/threading.py\", line 926, in _bootstrap_inner\n",
      "    self.run()\n",
      "  File \"/opt/conda/lib/python3.7/threading.py\", line 870, in run\n",
      "    self._target(*self._args, **self._kwargs)\n",
      "  File \"/opt/conda/lib/python3.7/site-packages/awseditorssparkmonitoringwidget-1.0-py3.7.egg/awseditorssparkmonitoringwidget/cellmonitor.py\", line 178, in cell_monitor\n",
      "    job_binned_stages[job_id][stage_id] = all_stages[stage_id]\n",
      "KeyError: 2171\n",
      "\n"
     ]
    }
   ],
   "source": [
    "# metrics for logistic regression classifier\n",
    "model_metrics(pred_lr)"
   ]
  },
  {
   "cell_type": "code",
   "execution_count": 75,
   "metadata": {},
   "outputs": [
    {
     "data": {
      "application/vnd.jupyter.widget-view+json": {
       "model_id": "a43d94f7136d4fed8d709d24abecc5ce",
       "version_major": 2,
       "version_minor": 0
      },
      "text/plain": [
       "VBox()"
      ]
     },
     "metadata": {},
     "output_type": "display_data"
    },
    {
     "data": {
      "application/vnd.jupyter.widget-view+json": {
       "model_id": "",
       "version_major": 2,
       "version_minor": 0
      },
      "text/plain": [
       "FloatProgress(value=0.0, bar_style='info', description='Progress:', layout=Layout(height='25px', width='50%'),…"
      ]
     },
     "metadata": {},
     "output_type": "display_data"
    },
    {
     "name": "stdout",
     "output_type": "stream",
     "text": [
      "The metrics for the model:\n",
      "The f1 Score is 0.7576566440782728\n",
      "The accuracy is 0.7625277161862528\n",
      "The areaUnderROC: 82.45%"
     ]
    }
   ],
   "source": [
    "# metrics for random forrest classifier\n",
    "model_metrics(pred_rf)"
   ]
  },
  {
   "cell_type": "code",
   "execution_count": 76,
   "metadata": {},
   "outputs": [
    {
     "data": {
      "application/vnd.jupyter.widget-view+json": {
       "model_id": "f651d8be7c0a4d788b8e61b50f1091b7",
       "version_major": 2,
       "version_minor": 0
      },
      "text/plain": [
       "VBox()"
      ]
     },
     "metadata": {},
     "output_type": "display_data"
    },
    {
     "data": {
      "application/vnd.jupyter.widget-view+json": {
       "model_id": "",
       "version_major": 2,
       "version_minor": 0
      },
      "text/plain": [
       "FloatProgress(value=0.0, bar_style='info', description='Progress:', layout=Layout(height='25px', width='50%'),…"
      ]
     },
     "metadata": {},
     "output_type": "display_data"
    },
    {
     "name": "stdout",
     "output_type": "stream",
     "text": [
      "The metrics for the model:\n",
      "The f1 Score is 0.7619165060479449\n",
      "The accuracy is 0.7662971175166298\n",
      "The areaUnderROC: 84.21%"
     ]
    }
   ],
   "source": [
    "# metrics for gradient boost classifier\n",
    "model_metrics(pred_gb)"
   ]
  },
  {
   "cell_type": "markdown",
   "metadata": {},
   "source": [
    "**Note** Best two models were Logistic Regression Classifier and Random Forrest Classifier. Next these models will be tuned for the final ranking."
   ]
  },
  {
   "cell_type": "markdown",
   "metadata": {},
   "source": [
    "#### Tuning the logistic regression classifier"
   ]
  },
  {
   "cell_type": "code",
   "execution_count": 9,
   "metadata": {},
   "outputs": [
    {
     "data": {
      "application/vnd.jupyter.widget-view+json": {
       "model_id": "e29efa8280bb4d9f9f3b1d7cee777f96",
       "version_major": 2,
       "version_minor": 0
      },
      "text/plain": [
       "VBox()"
      ]
     },
     "metadata": {},
     "output_type": "display_data"
    },
    {
     "data": {
      "application/vnd.jupyter.widget-view+json": {
       "model_id": "",
       "version_major": 2,
       "version_minor": 0
      },
      "text/plain": [
       "FloatProgress(value=0.0, bar_style='info', description='Progress:', layout=Layout(height='25px', width='50%'),…"
      ]
     },
     "metadata": {},
     "output_type": "display_data"
    }
   ],
   "source": [
    "# tuned logistic regression classifier\n",
    "# https://spark.apache.org/docs/latest/ml-tuning.html\n",
    "lr_tuned = LogisticRegression(featuresCol='scaled_features', labelCol='churn')\n",
    "param_grid_tuned_lr = ParamGridBuilder()\\\n",
    "    .addGrid(lr_tuned.regParam, [0.1, 0.01]) \\\n",
    "    .addGrid(lr_tuned.fitIntercept, [False, True])\\\n",
    "    .build()\n",
    "    #.addGrid(lr_tuned.elasticNetParam, [0.0, 0.5, 1.0])\\\n",
    "    \n",
    "model_lr_tuned = model_pipeline(lr_tuned, param_grid_tuned_lr)\n"
   ]
  },
  {
   "cell_type": "code",
   "execution_count": 10,
   "metadata": {},
   "outputs": [
    {
     "data": {
      "application/vnd.jupyter.widget-view+json": {
       "model_id": "0b48a9a111ba4f35a7641696fd5270ce",
       "version_major": 2,
       "version_minor": 0
      },
      "text/plain": [
       "VBox()"
      ]
     },
     "metadata": {},
     "output_type": "display_data"
    },
    {
     "data": {
      "application/vnd.jupyter.widget-view+json": {
       "model_id": "",
       "version_major": 2,
       "version_minor": 0
      },
      "text/plain": [
       "FloatProgress(value=0.0, bar_style='info', description='Progress:', layout=Layout(height='25px', width='50%'),…"
      ]
     },
     "metadata": {},
     "output_type": "display_data"
    },
    {
     "name": "stderr",
     "output_type": "stream",
     "text": [
      "Exception in thread cell_monitor-10:\n",
      "Traceback (most recent call last):\n",
      "  File \"/opt/conda/lib/python3.7/threading.py\", line 926, in _bootstrap_inner\n",
      "    self.run()\n",
      "  File \"/opt/conda/lib/python3.7/threading.py\", line 870, in run\n",
      "    self._target(*self._args, **self._kwargs)\n",
      "  File \"/opt/conda/lib/python3.7/site-packages/awseditorssparkmonitoringwidget-1.0-py3.7.egg/awseditorssparkmonitoringwidget/cellmonitor.py\", line 178, in cell_monitor\n",
      "    job_binned_stages[job_id][stage_id] = all_stages[stage_id]\n",
      "KeyError: 398\n",
      "\n"
     ]
    }
   ],
   "source": [
    "# fit tuned best logistic regression classifier\n",
    "cv_model_lr_tuned = model_lr_tuned.fit(train)\n",
    "best_model = cv_model_lr_tuned.bestModel\n",
    "\n",
    "# predict tuned best logistic regression\n",
    "pred_best_model = best_model.transform(test)\n"
   ]
  },
  {
   "cell_type": "code",
   "execution_count": 11,
   "metadata": {},
   "outputs": [
    {
     "data": {
      "application/vnd.jupyter.widget-view+json": {
       "model_id": "f8d164c811c24058b21f04310bfa01f9",
       "version_major": 2,
       "version_minor": 0
      },
      "text/plain": [
       "VBox()"
      ]
     },
     "metadata": {},
     "output_type": "display_data"
    },
    {
     "data": {
      "application/vnd.jupyter.widget-view+json": {
       "model_id": "",
       "version_major": 2,
       "version_minor": 0
      },
      "text/plain": [
       "FloatProgress(value=0.0, bar_style='info', description='Progress:', layout=Layout(height='25px', width='50%'),…"
      ]
     },
     "metadata": {},
     "output_type": "display_data"
    },
    {
     "name": "stdout",
     "output_type": "stream",
     "text": [
      "The metrics for the model:\n",
      "The f1 Score is 0.7372242705436406\n",
      "The accuracy is 0.7440609592111161\n",
      "The areaUnderROC: 80.10%"
     ]
    }
   ],
   "source": [
    "# metrics for tuned best logistic regression classifier\n",
    "model_metrics(pred_best_model)"
   ]
  },
  {
   "cell_type": "markdown",
   "metadata": {},
   "source": [
    "### Tuning Random Forrest Classifier"
   ]
  },
  {
   "cell_type": "code",
   "execution_count": 12,
   "metadata": {},
   "outputs": [
    {
     "data": {
      "application/vnd.jupyter.widget-view+json": {
       "model_id": "a202d8a897774ee6b1e9d186bf4cb198",
       "version_major": 2,
       "version_minor": 0
      },
      "text/plain": [
       "VBox()"
      ]
     },
     "metadata": {},
     "output_type": "display_data"
    },
    {
     "data": {
      "application/vnd.jupyter.widget-view+json": {
       "model_id": "",
       "version_major": 2,
       "version_minor": 0
      },
      "text/plain": [
       "FloatProgress(value=0.0, bar_style='info', description='Progress:', layout=Layout(height='25px', width='50%'),…"
      ]
     },
     "metadata": {},
     "output_type": "display_data"
    }
   ],
   "source": [
    "# toimii\n",
    "def tune_pipeline(train, test, numTrees=[10,100], maxDepth=[5,20]):\n",
    "    \"\"\"\n",
    "    describe\n",
    "    \"\"\"\n",
    "    assembler = VectorAssembler(inputCols=features, outputCol='vect_features')\n",
    "    scaler = StandardScaler(inputCol='vect_features', outputCol='scaled_features',withStd = True)\n",
    "    #scaler = MinMaxScaler(inputCol='vect_features', outputCol='scaled_features')\n",
    "    \n",
    "    clf = RandomForestClassifier(featuresCol='scaled_features', labelCol='churn')\n",
    "    \n",
    "\n",
    "        \n",
    "    param_grid_tuned = ParamGridBuilder()\\\n",
    "    .addGrid(clf.numTrees,numTrees)\\\n",
    "    .addGrid(clf.maxDepth,maxDepth).build()\n",
    "\n",
    "    mod = CrossValidator(\n",
    "        estimator = Pipeline(stages=[assembler,scaler, clf]),\n",
    "        estimatorParamMaps=param_grid_tuned,\n",
    "        evaluator = MulticlassClassificationEvaluator(labelCol='churn', metricName='f1'),\n",
    "        numFolds=3,\n",
    "    )\n",
    "    \n",
    "    cvModel = mod.fit(train)\n",
    "    predictions = cvModel.transform(test)\n",
    "    \n",
    "    model_metrics(predictions)\n",
    "    \n",
    "    bestPipeline = cvModel.bestModel\n",
    "    \n",
    "    # importances of features\n",
    "    for i in range(len(bestPipeline.stages[2].featureImportances)):\n",
    "        print(\"{} : {} \\n\".format(features[i], bestPipeline.stages[2].featureImportances[i]))\n",
    "    \n",
    "    print('Best parameters : max depth:{}, num Trees:{}'.\\\n",
    "          format(bestPipeline.stages[2].getOrDefault('maxDepth'), bestPipeline.stages[2].getNumTrees))\n",
    "    "
   ]
  },
  {
   "cell_type": "code",
   "execution_count": 13,
   "metadata": {},
   "outputs": [
    {
     "data": {
      "application/vnd.jupyter.widget-view+json": {
       "model_id": "b4f600a9aaa54043aa3680c8fc2f9d56",
       "version_major": 2,
       "version_minor": 0
      },
      "text/plain": [
       "VBox()"
      ]
     },
     "metadata": {},
     "output_type": "display_data"
    },
    {
     "data": {
      "application/vnd.jupyter.widget-view+json": {
       "model_id": "",
       "version_major": 2,
       "version_minor": 0
      },
      "text/plain": [
       "FloatProgress(value=0.0, bar_style='info', description='Progress:', layout=Layout(height='25px', width='50%'),…"
      ]
     },
     "metadata": {},
     "output_type": "display_data"
    },
    {
     "name": "stdout",
     "output_type": "stream",
     "text": [
      "The metrics for the model:\n",
      "The f1 Score is 0.774039264960112\n",
      "The accuracy is 0.7767817122366651\n",
      "The areaUnderROC: 85.14%\n",
      "sum_songs : 0.058721937888561955 \n",
      "\n",
      "sum_sessions : 0.05391335325872726 \n",
      "\n",
      "sum_lenght : 0.030341235572362502 \n",
      "\n",
      "sum_tup : 0.04209069671310241 \n",
      "\n",
      "sum_tdown : 0.08644245059371634 \n",
      "\n",
      "sum_friend : 0.05446991946920268 \n",
      "\n",
      "sum_playlist : 0.04793915039726194 \n",
      "\n",
      "sum_advert : 0.1394908224101629 \n",
      "\n",
      "sum_help : 0.045185897933685854 \n",
      "\n",
      "sum_errors : 0.02596352726246073 \n",
      "\n",
      "avg_items : 0.07709279624876421 \n",
      "\n",
      "avg_lenght : 0.07191347188733141 \n",
      "\n",
      "reg_days : 0.11152934642639839 \n",
      "\n",
      "active_days : 0.1549053939382614 \n",
      "\n",
      "Best parameters : max depth:20, num Trees:100"
     ]
    }
   ],
   "source": [
    "tune_pipeline(train,test)"
   ]
  },
  {
   "cell_type": "code",
   "execution_count": null,
   "metadata": {},
   "outputs": [],
   "source": []
  },
  {
   "cell_type": "markdown",
   "metadata": {},
   "source": [
    "Best model was a Random Forrest Classifier with f1 score 0.76, accuracy 0.75 and area under ROC 77%."
   ]
  },
  {
   "cell_type": "markdown",
   "metadata": {},
   "source": [
    "### Tuning gradient boost classifier"
   ]
  },
  {
   "cell_type": "code",
   "execution_count": 8,
   "metadata": {},
   "outputs": [
    {
     "data": {
      "application/vnd.jupyter.widget-view+json": {
       "model_id": "92a3184affaa491da7329d4bf5ef12fb",
       "version_major": 2,
       "version_minor": 0
      },
      "text/plain": [
       "VBox()"
      ]
     },
     "metadata": {},
     "output_type": "display_data"
    },
    {
     "data": {
      "application/vnd.jupyter.widget-view+json": {
       "model_id": "",
       "version_major": 2,
       "version_minor": 0
      },
      "text/plain": [
       "FloatProgress(value=0.0, bar_style='info', description='Progress:', layout=Layout(height='25px', width='50%'),…"
      ]
     },
     "metadata": {},
     "output_type": "display_data"
    }
   ],
   "source": [
    "# tuned gradient boost classifier\n",
    "gb_tuned = GBTClassifier(featuresCol='scaled_features', labelCol='churn',maxIter = 15, seed = 42)\n",
    "\n",
    "param_grid_tuned_gb = ParamGridBuilder().\\\n",
    "addGrid(gb_tuned.maxIter, [10, 15, 20])\\\n",
    ".addGrid(gb_tuned.maxDepth, [5, 10]).build()\n",
    "\n",
    "model_gb_tuned = model_pipeline(gb_tuned, param_grid_tuned_gb)\n"
   ]
  },
  {
   "cell_type": "code",
   "execution_count": 9,
   "metadata": {},
   "outputs": [
    {
     "data": {
      "application/vnd.jupyter.widget-view+json": {
       "model_id": "fa1380b8b4fd4a4bb00ec27a22961f89",
       "version_major": 2,
       "version_minor": 0
      },
      "text/plain": [
       "VBox()"
      ]
     },
     "metadata": {},
     "output_type": "display_data"
    },
    {
     "data": {
      "application/vnd.jupyter.widget-view+json": {
       "model_id": "",
       "version_major": 2,
       "version_minor": 0
      },
      "text/plain": [
       "FloatProgress(value=0.0, bar_style='info', description='Progress:', layout=Layout(height='25px', width='50%'),…"
      ]
     },
     "metadata": {},
     "output_type": "display_data"
    },
    {
     "name": "stderr",
     "output_type": "stream",
     "text": [
      "Exception in thread cell_monitor-9:\n",
      "Traceback (most recent call last):\n",
      "  File \"/opt/conda/lib/python3.7/threading.py\", line 926, in _bootstrap_inner\n",
      "    self.run()\n",
      "  File \"/opt/conda/lib/python3.7/threading.py\", line 870, in run\n",
      "    self._target(*self._args, **self._kwargs)\n",
      "  File \"/opt/conda/lib/python3.7/site-packages/awseditorssparkmonitoringwidget-1.0-py3.7.egg/awseditorssparkmonitoringwidget/cellmonitor.py\", line 178, in cell_monitor\n",
      "    job_binned_stages[job_id][stage_id] = all_stages[stage_id]\n",
      "KeyError: 3298\n",
      "\n"
     ]
    }
   ],
   "source": [
    "# fit tuned gradient boost classifier\n",
    "cv_model_gb_tuned = model_gb_tuned.fit(train)\n",
    "best_model_gb = cv_model_gb_tuned.bestModel\n",
    "\n",
    "# predict tuned best logistic regression\n",
    "pred_best_model_gb = best_model_gb.transform(test)"
   ]
  },
  {
   "cell_type": "code",
   "execution_count": 10,
   "metadata": {},
   "outputs": [
    {
     "data": {
      "application/vnd.jupyter.widget-view+json": {
       "model_id": "4eeb312f584f4d2fb64c49bcdf461d75",
       "version_major": 2,
       "version_minor": 0
      },
      "text/plain": [
       "VBox()"
      ]
     },
     "metadata": {},
     "output_type": "display_data"
    },
    {
     "data": {
      "application/vnd.jupyter.widget-view+json": {
       "model_id": "",
       "version_major": 2,
       "version_minor": 0
      },
      "text/plain": [
       "FloatProgress(value=0.0, bar_style='info', description='Progress:', layout=Layout(height='25px', width='50%'),…"
      ]
     },
     "metadata": {},
     "output_type": "display_data"
    },
    {
     "name": "stdout",
     "output_type": "stream",
     "text": [
      "The metrics for the model:\n",
      "The f1 Score is 0.7679592206034864\n",
      "The accuracy is 0.7698341550874047\n",
      "The areaUnderROC: 84.59%"
     ]
    }
   ],
   "source": [
    "# metrics for tuned best gradient boost classifier\n",
    "model_metrics(pred_best_model_gb)"
   ]
  },
  {
   "cell_type": "code",
   "execution_count": null,
   "metadata": {},
   "outputs": [],
   "source": []
  }
 ],
 "metadata": {
  "kernelspec": {
   "display_name": "PySpark",
   "language": "",
   "name": "pysparkkernel"
  },
  "language_info": {
   "codemirror_mode": {
    "name": "python",
    "version": 2
   },
   "mimetype": "text/x-python",
   "name": "pyspark",
   "pygments_lexer": "python2"
  }
 },
 "nbformat": 4,
 "nbformat_minor": 4
}
